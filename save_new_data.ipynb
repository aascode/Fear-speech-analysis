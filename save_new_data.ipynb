{
 "cells": [
  {
   "cell_type": "code",
   "execution_count": 1,
   "metadata": {},
   "outputs": [],
   "source": [
    "%load_ext autoreload\n",
    "%autoreload 2"
   ]
  },
  {
   "cell_type": "code",
   "execution_count": 2,
   "metadata": {},
   "outputs": [],
   "source": [
    "import pandas as pd\n",
    "from tqdm import tqdm_notebook\n",
    "import numpy as np\n",
    "from langdetect import DetectorFactory\n",
    "DetectorFactory.seed = 0\n",
    "from utils.marking_similars import *\n",
    "from utils.translation import parallelize_dataframe,add_features\n",
    "parent_path='../Data/New_Data_15-06-2020/'"
   ]
  },
  {
   "cell_type": "code",
   "execution_count": 14,
   "metadata": {},
   "outputs": [],
   "source": [
    "import glob\n",
    "annotation_data_receive='../Data/Annotations_received/*'\n",
    "files=glob.glob(annotation_data_receive)"
   ]
  },
  {
   "cell_type": "code",
   "execution_count": 15,
   "metadata": {},
   "outputs": [],
   "source": [
    "temp=pd.read_csv(parent_path+'Fear_speech_user.csv')\n"
   ]
  },
  {
   "cell_type": "code",
   "execution_count": 6,
   "metadata": {},
   "outputs": [
    {
     "ename": "NameError",
     "evalue": "name 'temp' is not defined",
     "output_type": "error",
     "traceback": [
      "\u001b[0;31m---------------------------------------------------------------------------\u001b[0m",
      "\u001b[0;31mNameError\u001b[0m                                 Traceback (most recent call last)",
      "\u001b[0;32m<ipython-input-6-40a3dc1a09a5>\u001b[0m in \u001b[0;36m<module>\u001b[0;34m\u001b[0m\n\u001b[0;32m----> 1\u001b[0;31m \u001b[0mlen\u001b[0m\u001b[0;34m(\u001b[0m\u001b[0mtemp\u001b[0m\u001b[0;34m)\u001b[0m\u001b[0;34m\u001b[0m\u001b[0;34m\u001b[0m\u001b[0m\n\u001b[0m",
      "\u001b[0;31mNameError\u001b[0m: name 'temp' is not defined"
     ]
    }
   ],
   "source": [
    "len(temp)"
   ]
  },
  {
   "cell_type": "code",
   "execution_count": 7,
   "metadata": {},
   "outputs": [],
   "source": [
    "import parmap\n",
    "thresh_to_consider = 0.7\n",
    "signature_obj=Signature(10)"
   ]
  },
  {
   "cell_type": "code",
   "execution_count": 8,
   "metadata": {},
   "outputs": [],
   "source": [
    "def get_list(temp,row):\n",
    "    signature1=row['signatures']\n",
    "    temp_list=[]\n",
    "    for index1, row1 in temp.iterrows():\n",
    "#         if row1['orig_index'] in already_seen:\n",
    "#             continue\n",
    "        signature2=row1['signatures']\n",
    "        count = 0\n",
    "        # Count the number of positions in the minhash signature which are equal.\n",
    "        if(abs(len(row['message_text'])-len(row1['message_text']))>1000):\n",
    "            continue\n",
    "        for k in range(0, signature_obj.numHashes):\n",
    "            count = count + (signature1[k] == signature2[k])\n",
    "        # add to tuple similar if greater than thresh    \n",
    "        if((count/signature_obj.numHashes)>thresh_to_consider):\n",
    "            temp_list.append(row1['orig_index'])\n",
    "            #print(\"found\")\n",
    "    return temp_list\n",
    "\n",
    "def remove_duplicates_within(sample_df):\n",
    "    sample_df=signature_obj.add_signatures(sample_df)\n",
    "    id_done=0\n",
    "    duplicate={}\n",
    "    for index,row in tqdm_notebook(sample_df.iterrows(),total=len(sample_df)):\n",
    "        id_done+=1\n",
    "        try:\n",
    "            temp_dupl=duplicate[index]\n",
    "            continue\n",
    "        except KeyError:\n",
    "            temp=sample_df[id_done:]\n",
    "            for index1,row1 in temp.iterrows():\n",
    "                try:\n",
    "                    temp_dupl=duplicate[index]\n",
    "                    continue\n",
    "                except KeyError:\n",
    "                    signature1=row['signatures']\n",
    "                    signature2=row1['signatures']\n",
    "                    count=0\n",
    "                    for k in range(0, signature_obj.numHashes):\n",
    "                        count = count + (signature1[k] == signature2[k])\n",
    "                    # add to tuple similar if greater than thresh    \n",
    "                    if((count/signature_obj.numHashes)>thresh_to_consider):\n",
    "                          duplicate[index1]=1\n",
    "\n",
    "    \n",
    "    sample_df=sample_df.drop(list(duplicate.keys()))\n",
    "    return sample_df\n",
    "\n",
    "\n",
    "def remove_duplicates_ext(sample_df,total_annotation):\n",
    "    df_total=pd.concat([sample_df,total_annotation])\n",
    "    df_total=add_signatures(df_total,signature_obj.numHashes)\n",
    "    sample_df=df_total[0:len(sample_df)]\n",
    "    total_annotation=df_total[len(sample_df):]\n",
    "    duplicate={}\n",
    "    for index,row in tqdm_notebook(sample_df.iterrows(),total=len(sample_df)):\n",
    "        for index1,row1 in total_annotation.iterrows():\n",
    "            signature1=row['signatures']\n",
    "            signature2=row1['signatures']\n",
    "            count=0\n",
    "            for k in range(0, numHashes):\n",
    "                count = count + (signature1[k] == signature2[k])\n",
    "            # add to tuple similar if greater than thresh    \n",
    "            if((count/signature_obj.numHashes)>thresh_to_consider):\n",
    "                duplicate[index]=1\n",
    "    sample_df=sample_df.drop(list(duplicate.keys()))\n",
    "    return sample_df\n",
    " \n",
    "\n",
    "\n",
    "def get_similar_from_whole_data(sample_df,total_annotation,n_process=30):\n",
    "    df_total=pd.concat([sample_df,total_annotation])\n",
    "    df_total=signature_obj.add_signatures(df_total)\n",
    "    sample_df=df_total[0:len(sample_df)]\n",
    "    total_annotation=df_total[len(sample_df):]\n",
    "    all_repeated=[]\n",
    "    count_missing=0\n",
    "    for index,row in tqdm_notebook(sample_df.iterrows(),total=len(sample_df)):\n",
    "        df_split = np.array_split(total_annotation, n_process)\n",
    "        list_all = parmap.map(get_list, df_split,row,pm_processes=n_process)\n",
    "        flat_list = [item for sublist in list_all for item in sublist]\n",
    "        if(len(flat_list)==0):\n",
    "            count_missing+=1\n",
    "            print(count_missing)\n",
    "        all_repeated.append(flat_list)\n",
    "        \n",
    "    sample_df['repeated']=all_repeated\n",
    "    return sample_df,count_missing\n",
    " "
   ]
  },
  {
   "cell_type": "code",
   "execution_count": 9,
   "metadata": {},
   "outputs": [
    {
     "ename": "NameError",
     "evalue": "name 'temp' is not defined",
     "output_type": "error",
     "traceback": [
      "\u001b[0;31m---------------------------------------------------------------------------\u001b[0m",
      "\u001b[0;31mNameError\u001b[0m                                 Traceback (most recent call last)",
      "\u001b[0;32m<ipython-input-9-feb19fd25ffa>\u001b[0m in \u001b[0;36m<module>\u001b[0;34m\u001b[0m\n\u001b[0;32m----> 1\u001b[0;31m \u001b[0msilver_data\u001b[0m\u001b[0;34m=\u001b[0m\u001b[0mremove_duplicates_within\u001b[0m\u001b[0;34m(\u001b[0m\u001b[0mtemp\u001b[0m\u001b[0;34m)\u001b[0m\u001b[0;34m\u001b[0m\u001b[0;34m\u001b[0m\u001b[0m\n\u001b[0m",
      "\u001b[0;31mNameError\u001b[0m: name 'temp' is not defined"
     ]
    }
   ],
   "source": [
    "silver_data=remove_duplicates_within(temp)"
   ]
  },
  {
   "cell_type": "code",
   "execution_count": 5,
   "metadata": {},
   "outputs": [
    {
     "data": {
      "text/html": [
       "<div>\n",
       "<style scoped>\n",
       "    .dataframe tbody tr th:only-of-type {\n",
       "        vertical-align: middle;\n",
       "    }\n",
       "\n",
       "    .dataframe tbody tr th {\n",
       "        vertical-align: top;\n",
       "    }\n",
       "\n",
       "    .dataframe thead th {\n",
       "        text-align: right;\n",
       "    }\n",
       "</style>\n",
       "<table border=\"1\" class=\"dataframe\">\n",
       "  <thead>\n",
       "    <tr style=\"text-align: right;\">\n",
       "      <th></th>\n",
       "      <th>message_text</th>\n",
       "      <th>signatures</th>\n",
       "      <th>label</th>\n",
       "    </tr>\n",
       "  </thead>\n",
       "  <tbody>\n",
       "    <tr>\n",
       "      <th>0</th>\n",
       "      <td>*आपको याद है 2004 से 2014 तक कितने बम धमाके हु...</td>\n",
       "      <td>[2612039, 3119388, 10940840, 273025, 2471032, ...</td>\n",
       "      <td>1</td>\n",
       "    </tr>\n",
       "    <tr>\n",
       "      <th>1</th>\n",
       "      <td>ममता के धरने का कारण,  महत्वपूर्ण लेख जरूर पढ़े...</td>\n",
       "      <td>[3118403, 4071831, 1951258, 1548270, 348411, 5...</td>\n",
       "      <td>1</td>\n",
       "    </tr>\n",
       "    <tr>\n",
       "      <th>2</th>\n",
       "      <td>जलती रही जोहर में नारियां  भेड़िये फ़िर भी मौन...</td>\n",
       "      <td>[22140323, 350466, 48139844, 855032, 8971361, ...</td>\n",
       "      <td>1</td>\n",
       "    </tr>\n",
       "    <tr>\n",
       "      <th>3</th>\n",
       "      <td>याद रहे-रोहिंग्या मुस्लिमों के लिए लड़ने वाले ...</td>\n",
       "      <td>[204660420, 226028845, 413474576, 17847024, 17...</td>\n",
       "      <td>1</td>\n",
       "    </tr>\n",
       "    <tr>\n",
       "      <th>4</th>\n",
       "      <td>***दिमाग के सारे दरवाजे खोल कर पढ़ लो हिन्दुओं*...</td>\n",
       "      <td>[30901623, 3545833, 25768096, 29748484, 489387...</td>\n",
       "      <td>1</td>\n",
       "    </tr>\n",
       "    <tr>\n",
       "      <th>...</th>\n",
       "      <td>...</td>\n",
       "      <td>...</td>\n",
       "      <td>...</td>\n",
       "    </tr>\n",
       "    <tr>\n",
       "      <th>6019</th>\n",
       "      <td>अरे मुल्लो पाकिस्तानी सुन हाफिज सुन बे गिलानी ...</td>\n",
       "      <td>[18840880, 93355934, 235518685, 37934321, 2368...</td>\n",
       "      <td>1</td>\n",
       "    </tr>\n",
       "    <tr>\n",
       "      <th>6020</th>\n",
       "      <td>जब धर्म के नाम पर पाकिस्तान बना पाकिस्तान मुस्...</td>\n",
       "      <td>[234268249, 263101308, 103397137, 17472740, 49...</td>\n",
       "      <td>1</td>\n",
       "    </tr>\n",
       "    <tr>\n",
       "      <th>6021</th>\n",
       "      <td>ना अली का ना बलि का यह देश है बजरंगबली का नाम ...</td>\n",
       "      <td>[114863447, 79506368, 73642751, 155848472, 152...</td>\n",
       "      <td>1</td>\n",
       "    </tr>\n",
       "    <tr>\n",
       "      <th>6022</th>\n",
       "      <td>पहले तू बता हिंदू है कि मुसलमान</td>\n",
       "      <td>[1007284538, 1423269770, 342355072, 745792433,...</td>\n",
       "      <td>1</td>\n",
       "    </tr>\n",
       "    <tr>\n",
       "      <th>6023</th>\n",
       "      <td>सिर्फ हिंदुओं का यह देश है जब धर्म के नाम पर प...</td>\n",
       "      <td>[234268249, 263101308, 103397137, 17472740, 49...</td>\n",
       "      <td>1</td>\n",
       "    </tr>\n",
       "  </tbody>\n",
       "</table>\n",
       "<p>6024 rows × 3 columns</p>\n",
       "</div>"
      ],
      "text/plain": [
       "                                           message_text  \\\n",
       "0     *आपको याद है 2004 से 2014 तक कितने बम धमाके हु...   \n",
       "1     ममता के धरने का कारण,  महत्वपूर्ण लेख जरूर पढ़े...   \n",
       "2     जलती रही जोहर में नारियां  भेड़िये फ़िर भी मौन...   \n",
       "3     याद रहे-रोहिंग्या मुस्लिमों के लिए लड़ने वाले ...   \n",
       "4     ***दिमाग के सारे दरवाजे खोल कर पढ़ लो हिन्दुओं*...   \n",
       "...                                                 ...   \n",
       "6019  अरे मुल्लो पाकिस्तानी सुन हाफिज सुन बे गिलानी ...   \n",
       "6020  जब धर्म के नाम पर पाकिस्तान बना पाकिस्तान मुस्...   \n",
       "6021  ना अली का ना बलि का यह देश है बजरंगबली का नाम ...   \n",
       "6022                    पहले तू बता हिंदू है कि मुसलमान   \n",
       "6023  सिर्फ हिंदुओं का यह देश है जब धर्म के नाम पर प...   \n",
       "\n",
       "                                             signatures  label  \n",
       "0     [2612039, 3119388, 10940840, 273025, 2471032, ...      1  \n",
       "1     [3118403, 4071831, 1951258, 1548270, 348411, 5...      1  \n",
       "2     [22140323, 350466, 48139844, 855032, 8971361, ...      1  \n",
       "3     [204660420, 226028845, 413474576, 17847024, 17...      1  \n",
       "4     [30901623, 3545833, 25768096, 29748484, 489387...      1  \n",
       "...                                                 ...    ...  \n",
       "6019  [18840880, 93355934, 235518685, 37934321, 2368...      1  \n",
       "6020  [234268249, 263101308, 103397137, 17472740, 49...      1  \n",
       "6021  [114863447, 79506368, 73642751, 155848472, 152...      1  \n",
       "6022  [1007284538, 1423269770, 342355072, 745792433,...      1  \n",
       "6023  [234268249, 263101308, 103397137, 17472740, 49...      1  \n",
       "\n",
       "[6024 rows x 3 columns]"
      ]
     },
     "execution_count": 5,
     "metadata": {},
     "output_type": "execute_result"
    }
   ],
   "source": [
    "# silver_data['label']=1\n",
    "\n",
    "#silver_data.head()\n",
    "silver_data=pd.read_csv(parent_path+'silver_label.csv')\n",
    "\n",
    "silver_data"
   ]
  },
  {
   "cell_type": "markdown",
   "metadata": {},
   "source": [
    "### Steps to be done\n",
    "1. Read the current data \n",
    "2. match signature set for the new data\n",
    "3. get the new data to find duplicates"
   ]
  },
  {
   "cell_type": "code",
   "execution_count": 7,
   "metadata": {},
   "outputs": [],
   "source": [
    "list_df=[]\n",
    "for file in files:\n",
    "    df=pd.read_pickle(file)\n",
    "    annotated_df=df[~((df['Annotation1']=='No_Annotation') | (df['Annotation2']=='No_Annotation') | (df['Annotation3']=='No_Annotation'))]\n",
    "    list_df.append(annotated_df)\n",
    "total_df = pd.concat(list_df)"
   ]
  },
  {
   "cell_type": "code",
   "execution_count": 31,
   "metadata": {},
   "outputs": [
    {
     "name": "stderr",
     "output_type": "stream",
     "text": [
      "100%|██████████| 5353/5353 [00:09<00:00, 564.32it/s]"
     ]
    },
    {
     "name": "stdout",
     "output_type": "stream",
     "text": [
      "2562491\n"
     ]
    },
    {
     "name": "stderr",
     "output_type": "stream",
     "text": [
      "\n"
     ]
    },
    {
     "data": {
      "application/vnd.jupyter.widget-view+json": {
       "model_id": "ecf4d6ac43bd4a5883767f441e52ab2e",
       "version_major": 2,
       "version_minor": 0
      },
      "text/plain": [
       "HBox(children=(IntProgress(value=0, max=5353), HTML(value='')))"
      ]
     },
     "metadata": {},
     "output_type": "display_data"
    },
    {
     "name": "stdout",
     "output_type": "stream",
     "text": [
      "\n",
      "5336\n"
     ]
    }
   ],
   "source": [
    "total_df=remove_duplicates_within(total_df)\n",
    "print(len(total_df))"
   ]
  },
  {
   "cell_type": "code",
   "execution_count": null,
   "metadata": {},
   "outputs": [
    {
     "name": "stderr",
     "output_type": "stream",
     "text": [
      "100%|██████████| 9892/9892 [00:17<00:00, 559.40it/s]"
     ]
    },
    {
     "name": "stdout",
     "output_type": "stream",
     "text": [
      "4857007\n"
     ]
    },
    {
     "name": "stderr",
     "output_type": "stream",
     "text": [
      "\n"
     ]
    },
    {
     "data": {
      "application/vnd.jupyter.widget-view+json": {
       "model_id": "9099d2aa88fa4cdd9cee3db827975bdd",
       "version_major": 2,
       "version_minor": 0
      },
      "text/plain": [
       "HBox(children=(IntProgress(value=0, max=5334), HTML(value='')))"
      ]
     },
     "metadata": {},
     "output_type": "display_data"
    }
   ],
   "source": [
    "total_df=remove_duplicates_ext(total_df,annotated_df)"
   ]
  },
  {
   "cell_type": "code",
   "execution_count": 44,
   "metadata": {},
   "outputs": [
    {
     "data": {
      "text/plain": [
       "780"
      ]
     },
     "execution_count": 44,
     "metadata": {},
     "output_type": "execute_result"
    }
   ],
   "source": [
    "len(total_df)"
   ]
  },
  {
   "cell_type": "code",
   "execution_count": 10,
   "metadata": {},
   "outputs": [],
   "source": []
  },
  {
   "cell_type": "code",
   "execution_count": 30,
   "metadata": {},
   "outputs": [],
   "source": [
    "whatsapp_data=pd.read_csv(parent_path+'Data_text_spam_removed_v02.csv')\n",
    "temp=whatsapp_data[['group_id_anonymized','phone_num_anonymized','message_text','timestamp']]\n",
    "duplicateDFRow = temp[temp.duplicated()]\n",
    "whatsapp_data=whatsapp_data.drop(list(duplicateDFRow.index))\n"
   ]
  },
  {
   "cell_type": "code",
   "execution_count": 11,
   "metadata": {},
   "outputs": [],
   "source": [
    "whatsapp_data_pred=pd.read_csv(parent_path+'Data_text_spam_removed_v03_preds.csv')"
   ]
  },
  {
   "cell_type": "code",
   "execution_count": 12,
   "metadata": {
    "scrolled": true
   },
   "outputs": [
    {
     "name": "stderr",
     "output_type": "stream",
     "text": [
      "100%|██████████| 124651/124651 [02:42<00:00, 767.62it/s] \n"
     ]
    },
    {
     "name": "stdout",
     "output_type": "stream",
     "text": [
      "41085777\n"
     ]
    },
    {
     "name": "stderr",
     "output_type": "stream",
     "text": [
      "/home/punyajoy/.conda/envs/punyajoy_gpu/lib/python3.7/site-packages/ipykernel_launcher.py:78: TqdmDeprecationWarning: This function will be removed in tqdm==5.0.0\n",
      "Please use `tqdm.notebook.tqdm` instead of `tqdm.tqdm_notebook`\n"
     ]
    },
    {
     "data": {
      "application/vnd.jupyter.widget-view+json": {
       "model_id": "d536bd74a80e47ab91f52863f03c74a1",
       "version_major": 2,
       "version_minor": 0
      },
      "text/plain": [
       "HBox(children=(HTML(value=''), FloatProgress(value=0.0, max=6024.0), HTML(value='')))"
      ]
     },
     "metadata": {},
     "output_type": "display_data"
    },
    {
     "name": "stderr",
     "output_type": "stream",
     "text": [
      "IOPub message rate exceeded.\n",
      "The notebook server will temporarily stop sending output\n",
      "to the client in order to avoid crashing it.\n",
      "To change this limit, set the config variable\n",
      "`--NotebookApp.iopub_msg_rate_limit`.\n",
      "\n",
      "Current values:\n",
      "NotebookApp.iopub_msg_rate_limit=1000.0 (msgs/sec)\n",
      "NotebookApp.rate_limit_window=3.0 (secs)\n",
      "\n"
     ]
    }
   ],
   "source": [
    "total_df=get_similar_from_whole_data(silver_data,whatsapp_data_pred,n_process=30)"
   ]
  },
  {
   "cell_type": "code",
   "execution_count": 63,
   "metadata": {},
   "outputs": [],
   "source": [
    "total_df=pd.concat([annotated_df,total_df[0]])"
   ]
  },
  {
   "cell_type": "code",
   "execution_count": 64,
   "metadata": {},
   "outputs": [],
   "source": [
    "def return_atleast_one_count(df):\n",
    "    dict_map={'Fear speech':1,'Normal':0, 'No_Annotation':2}\n",
    "    fear_count=[]\n",
    "    for index,row in df.iterrows():\n",
    "        annotation_list=[0,0,0]\n",
    "        annotation_list[dict_map[row['Annotation1']]]+=1\n",
    "        annotation_list[dict_map[row['Annotation2']]]+=1\n",
    "        annotation_list[dict_map[row['Annotation3']]]+=1\n",
    "        if(annotation_list[1]>=2):\n",
    "            fear_count.append(1)\n",
    "        elif(annotation_list[0]>=2):\n",
    "            fear_count.append(0)\n",
    "        else:\n",
    "            fear_count.append(-1)\n",
    "        #listM.append(annotation_list)\n",
    "    df['one_fear_speech']=fear_count\n",
    "    #sample_df=df[df['one_fear_speech']==1]\n",
    "    return df"
   ]
  },
  {
   "cell_type": "code",
   "execution_count": null,
   "metadata": {},
   "outputs": [],
   "source": []
  },
  {
   "cell_type": "code",
   "execution_count": 65,
   "metadata": {},
   "outputs": [],
   "source": [
    "sample_df=return_atleast_one_count(total_df)"
   ]
  },
  {
   "cell_type": "code",
   "execution_count": 5,
   "metadata": {},
   "outputs": [],
   "source": [
    "annotated_df=pd.read_pickle(parent_path+'Fearspeech_data.pkl')"
   ]
  },
  {
   "cell_type": "code",
   "execution_count": 16,
   "metadata": {},
   "outputs": [],
   "source": [
    "from langdetect import detect\n",
    "\n",
    "def add_language(df):\n",
    "    language= []\n",
    "    for index, row in tqdm(df.iterrows(), total=len(df)):\n",
    "        try:\n",
    "            lang=detect(row[\"message_text\"])\n",
    "            language.append(lang)\n",
    "        except KeyError:\n",
    "            language.append('unk')\n",
    "\n",
    "    df[\"language\"] = language\n",
    "    return df"
   ]
  },
  {
   "cell_type": "code",
   "execution_count": 23,
   "metadata": {},
   "outputs": [
    {
     "name": "stderr",
     "output_type": "stream",
     "text": [
      "100%|██████████| 5338/5338 [01:10<00:00, 75.33it/s] \n"
     ]
    }
   ],
   "source": [
    "annotated_df=add_language(annotated_df)"
   ]
  },
  {
   "cell_type": "code",
   "execution_count": 18,
   "metadata": {},
   "outputs": [
    {
     "name": "stderr",
     "output_type": "stream",
     "text": [
      "100%|██████████| 6024/6024 [01:03<00:00, 95.48it/s] \n"
     ]
    }
   ],
   "source": [
    "total_df=add_language(total_df[0])"
   ]
  },
  {
   "cell_type": "code",
   "execution_count": 21,
   "metadata": {
    "scrolled": true
   },
   "outputs": [
    {
     "name": "stderr",
     "output_type": "stream",
     "text": [
      "\r",
      "  0%|          | 0/61 [00:00<?, ?it/s]"
     ]
    },
    {
     "name": "stdout",
     "output_type": "stream",
     "text": [
      "0 _iteration\n"
     ]
    },
    {
     "name": "stderr",
     "output_type": "stream",
     "text": [
      "\r",
      "  2%|▏         | 1/61 [00:56<56:42, 56.72s/it]"
     ]
    },
    {
     "name": "stdout",
     "output_type": "stream",
     "text": [
      "100 _iteration\n"
     ]
    },
    {
     "name": "stderr",
     "output_type": "stream",
     "text": [
      "\r",
      "  3%|▎         | 2/61 [01:37<50:56, 51.80s/it]"
     ]
    },
    {
     "name": "stdout",
     "output_type": "stream",
     "text": [
      "200 _iteration\n"
     ]
    },
    {
     "name": "stderr",
     "output_type": "stream",
     "text": [
      "\r",
      "  5%|▍         | 3/61 [02:27<49:48, 51.53s/it]"
     ]
    },
    {
     "name": "stdout",
     "output_type": "stream",
     "text": [
      "300 _iteration\n",
      "<class 'selenium.common.exceptions.NoSuchWindowException'> Message: no such window: window was already closed\n",
      "  (Session info: headless chrome=85.0.4183.121)\n",
      "  (Driver info: chromedriver=2.36.540471 (9c759b81a907e70363c6312294d30b6ccccc2752),platform=Linux 4.15.0-111-generic x86_64)\n",
      "\n"
     ]
    },
    {
     "name": "stderr",
     "output_type": "stream",
     "text": [
      "\r",
      "  7%|▋         | 4/61 [03:14<47:34, 50.09s/it]"
     ]
    },
    {
     "name": "stdout",
     "output_type": "stream",
     "text": [
      "400 _iteration\n",
      "<class 'selenium.common.exceptions.SessionNotCreatedException'> Message: session not created exception\n",
      "from disconnected: unable to connect to renderer\n",
      "  (Session info: headless chrome=85.0.4183.121)\n",
      "  (Driver info: chromedriver=2.36.540471 (9c759b81a907e70363c6312294d30b6ccccc2752),platform=Linux 4.15.0-111-generic x86_64)\n",
      "\n"
     ]
    },
    {
     "name": "stderr",
     "output_type": "stream",
     "text": [
      "\r",
      "  8%|▊         | 5/61 [03:49<42:23, 45.41s/it]"
     ]
    },
    {
     "name": "stdout",
     "output_type": "stream",
     "text": [
      "500 _iteration\n",
      "<class 'selenium.common.exceptions.WebDriverException'> Message: unknown error: Cannot set property 'value' of null\n",
      "  (Session info: headless chrome=85.0.4183.121)\n",
      "  (Driver info: chromedriver=2.36.540471 (9c759b81a907e70363c6312294d30b6ccccc2752),platform=Linux 4.15.0-111-generic x86_64)\n",
      "\n",
      "<class 'selenium.common.exceptions.SessionNotCreatedException'> Message: session not created exception\n",
      "from disconnected: unable to connect to renderer\n",
      "  (Session info: headless chrome=85.0.4183.121)\n",
      "  (Driver info: chromedriver=2.36.540471 (9c759b81a907e70363c6312294d30b6ccccc2752),platform=Linux 4.15.0-111-generic x86_64)\n",
      "\n"
     ]
    },
    {
     "name": "stderr",
     "output_type": "stream",
     "text": [
      "\r",
      " 10%|▉         | 6/61 [04:41<43:25, 47.37s/it]"
     ]
    },
    {
     "name": "stdout",
     "output_type": "stream",
     "text": [
      "600 _iteration\n"
     ]
    },
    {
     "name": "stderr",
     "output_type": "stream",
     "text": [
      "\r",
      " 11%|█▏        | 7/61 [05:28<42:31, 47.24s/it]"
     ]
    },
    {
     "name": "stdout",
     "output_type": "stream",
     "text": [
      "700 _iteration\n"
     ]
    },
    {
     "name": "stderr",
     "output_type": "stream",
     "text": [
      "\r",
      " 13%|█▎        | 8/61 [06:13<41:16, 46.72s/it]"
     ]
    },
    {
     "name": "stdout",
     "output_type": "stream",
     "text": [
      "800 _iteration\n"
     ]
    },
    {
     "name": "stderr",
     "output_type": "stream",
     "text": [
      "\r",
      " 15%|█▍        | 9/61 [06:59<40:09, 46.34s/it]"
     ]
    },
    {
     "name": "stdout",
     "output_type": "stream",
     "text": [
      "900 _iteration\n"
     ]
    },
    {
     "name": "stderr",
     "output_type": "stream",
     "text": [
      "\r",
      " 16%|█▋        | 10/61 [07:33<36:26, 42.88s/it]"
     ]
    },
    {
     "name": "stdout",
     "output_type": "stream",
     "text": [
      "1000 _iteration\n",
      "<class 'urllib3.exceptions.MaxRetryError'> HTTPConnectionPool(host='127.0.0.1', port=59037): Max retries exceeded with url: /session/eb2de772f96a12288d3f70e9de6492c1/source (Caused by NewConnectionError('<urllib3.connection.HTTPConnection object at 0x7fa425e91470>: Failed to establish a new connection: [Errno 111] Connection refused'))\n"
     ]
    },
    {
     "name": "stderr",
     "output_type": "stream",
     "text": [
      "\r",
      " 18%|█▊        | 11/61 [08:07<33:31, 40.22s/it]"
     ]
    },
    {
     "name": "stdout",
     "output_type": "stream",
     "text": [
      "1100 _iteration\n"
     ]
    },
    {
     "name": "stderr",
     "output_type": "stream",
     "text": [
      "\r",
      " 20%|█▉        | 12/61 [09:22<41:17, 50.57s/it]"
     ]
    },
    {
     "name": "stdout",
     "output_type": "stream",
     "text": [
      "1200 _iteration\n"
     ]
    },
    {
     "name": "stderr",
     "output_type": "stream",
     "text": [
      "\r",
      " 21%|██▏       | 13/61 [10:03<38:12, 47.76s/it]"
     ]
    },
    {
     "name": "stdout",
     "output_type": "stream",
     "text": [
      "1300 _iteration\n",
      "<class 'selenium.common.exceptions.WebDriverException'> Message: unknown error: Cannot set property 'value' of null\n",
      "  (Session info: headless chrome=85.0.4183.121)\n",
      "  (Driver info: chromedriver=2.36.540471 (9c759b81a907e70363c6312294d30b6ccccc2752),platform=Linux 4.15.0-111-generic x86_64)\n",
      "\n",
      "<class 'selenium.common.exceptions.NoSuchWindowException'> Message: no such window: window was already closed\n",
      "  (Session info: headless chrome=85.0.4183.121)\n",
      "  (Driver info: chromedriver=2.36.540471 (9c759b81a907e70363c6312294d30b6ccccc2752),platform=Linux 4.15.0-111-generic x86_64)\n",
      "\n"
     ]
    },
    {
     "name": "stderr",
     "output_type": "stream",
     "text": [
      "\r",
      " 23%|██▎       | 14/61 [10:49<36:57, 47.17s/it]"
     ]
    },
    {
     "name": "stdout",
     "output_type": "stream",
     "text": [
      "1400 _iteration\n"
     ]
    },
    {
     "name": "stderr",
     "output_type": "stream",
     "text": [
      "\r",
      " 25%|██▍       | 15/61 [11:29<34:35, 45.12s/it]"
     ]
    },
    {
     "name": "stdout",
     "output_type": "stream",
     "text": [
      "1500 _iteration\n",
      "<class 'selenium.common.exceptions.WebDriverException'> Message: unknown error: Cannot set property 'value' of null\n",
      "  (Session info: headless chrome=85.0.4183.121)\n",
      "  (Driver info: chromedriver=2.36.540471 (9c759b81a907e70363c6312294d30b6ccccc2752),platform=Linux 4.15.0-111-generic x86_64)\n",
      "\n"
     ]
    },
    {
     "name": "stderr",
     "output_type": "stream",
     "text": [
      "\r",
      " 26%|██▌       | 16/61 [12:09<32:34, 43.44s/it]"
     ]
    },
    {
     "name": "stdout",
     "output_type": "stream",
     "text": [
      "1600 _iteration\n",
      "<class 'selenium.common.exceptions.NoSuchWindowException'> Message: no such window: window was already closed\n",
      "  (Session info: headless chrome=85.0.4183.121)\n",
      "  (Driver info: chromedriver=2.36.540471 (9c759b81a907e70363c6312294d30b6ccccc2752),platform=Linux 4.15.0-111-generic x86_64)\n",
      "\n",
      "<class 'selenium.common.exceptions.SessionNotCreatedException'> Message: session not created exception\n",
      "from disconnected: unable to connect to renderer\n",
      "  (Session info: headless chrome=85.0.4183.121)\n",
      "  (Driver info: chromedriver=2.36.540471 (9c759b81a907e70363c6312294d30b6ccccc2752),platform=Linux 4.15.0-111-generic x86_64)\n",
      "<class 'selenium.common.exceptions.SessionNotCreatedException'> Message: session not created exception\n",
      "from disconnected: unable to connect to renderer\n",
      "  (Session info: headless chrome=85.0.4183.121)\n",
      "  (Driver info: chromedriver=2.36.540471 (9c759b81a907e70363c6312294d30b6ccccc2752),platform=Linux 4.15.0-111-generic x86_64)\n",
      "\n",
      "\n"
     ]
    },
    {
     "name": "stderr",
     "output_type": "stream",
     "text": [
      "\r",
      " 28%|██▊       | 17/61 [12:44<30:01, 40.94s/it]"
     ]
    },
    {
     "name": "stdout",
     "output_type": "stream",
     "text": [
      "1700 _iteration\n"
     ]
    },
    {
     "name": "stderr",
     "output_type": "stream",
     "text": [
      "\r",
      " 30%|██▉       | 18/61 [13:24<29:07, 40.63s/it]"
     ]
    },
    {
     "name": "stdout",
     "output_type": "stream",
     "text": [
      "1800 _iteration\n",
      "<class 'urllib3.exceptions.MaxRetryError'> HTTPConnectionPool(host='127.0.0.1', port=44711): Max retries exceeded with url: /session/0220dc4997f78e7b58fc8242dd46eb55/source (Caused by NewConnectionError('<urllib3.connection.HTTPConnection object at 0x7fa425e22630>: Failed to establish a new connection: [Errno 111] Connection refused'))\n"
     ]
    },
    {
     "name": "stderr",
     "output_type": "stream",
     "text": [
      "\r",
      " 31%|███       | 19/61 [14:00<27:33, 39.37s/it]"
     ]
    },
    {
     "name": "stdout",
     "output_type": "stream",
     "text": [
      "1900 _iteration\n",
      "<class 'selenium.common.exceptions.SessionNotCreatedException'> Message: session not created exception\n",
      "from disconnected: unable to connect to renderer\n",
      "  (Session info: headless chrome=85.0.4183.121)\n",
      "  (Driver info: chromedriver=2.36.540471 (9c759b81a907e70363c6312294d30b6ccccc2752),platform=Linux 4.15.0-111-generic x86_64)\n",
      "\n"
     ]
    },
    {
     "name": "stderr",
     "output_type": "stream",
     "text": [
      "\r",
      " 33%|███▎      | 20/61 [15:11<33:14, 48.64s/it]"
     ]
    },
    {
     "name": "stdout",
     "output_type": "stream",
     "text": [
      "2000 _iteration\n",
      "<class 'selenium.common.exceptions.WebDriverException'> Message: unknown error: Cannot set property 'value' of null\n",
      "  (Session info: headless chrome=85.0.4183.121)\n",
      "  (Driver info: chromedriver=2.36.540471 (9c759b81a907e70363c6312294d30b6ccccc2752),platform=Linux 4.15.0-111-generic x86_64)\n",
      "\n"
     ]
    },
    {
     "name": "stderr",
     "output_type": "stream",
     "text": [
      "\r",
      " 34%|███▍      | 21/61 [15:55<31:32, 47.32s/it]"
     ]
    },
    {
     "name": "stdout",
     "output_type": "stream",
     "text": [
      "2100 _iteration\n",
      "<class 'selenium.common.exceptions.WebDriverException'> Message: unknown error: Cannot set property 'value' of null\n",
      "  (Session info: headless chrome=85.0.4183.121)\n",
      "  (Driver info: chromedriver=2.36.540471 (9c759b81a907e70363c6312294d30b6ccccc2752),platform=Linux 4.15.0-111-generic x86_64)\n",
      "\n"
     ]
    },
    {
     "name": "stderr",
     "output_type": "stream",
     "text": [
      "\r",
      " 36%|███▌      | 22/61 [16:31<28:35, 43.99s/it]"
     ]
    },
    {
     "name": "stdout",
     "output_type": "stream",
     "text": [
      "2200 _iteration\n",
      "<class 'selenium.common.exceptions.WebDriverException'> Message: unknown error: Cannot set property 'value' of null\n",
      "  (Session info: headless chrome=85.0.4183.121)\n",
      "  (Driver info: chromedriver=2.36.540471 (9c759b81a907e70363c6312294d30b6ccccc2752),platform=Linux 4.15.0-111-generic x86_64)\n",
      "\n",
      "<class 'urllib3.exceptions.MaxRetryError'> HTTPConnectionPool(host='127.0.0.1', port=57085): Max retries exceeded with url: /session/6655525fc20086a084ac77480670d624/source (Caused by NewConnectionError('<urllib3.connection.HTTPConnection object at 0x7fa425e2e390>: Failed to establish a new connection: [Errno 111] Connection refused'))\n",
      "<class 'selenium.common.exceptions.NoSuchWindowException'> Message: no such window: window was already closed\n",
      "  (Session info: headless chrome=85.0.4183.121)\n",
      "  (Driver info: chromedriver=2.36.540471 (9c759b81a907e70363c6312294d30b6ccccc2752),platform=Linux 4.15.0-111-generic x86_64)\n",
      "\n"
     ]
    },
    {
     "name": "stderr",
     "output_type": "stream",
     "text": [
      "\r",
      " 38%|███▊      | 23/61 [17:57<35:45, 56.45s/it]"
     ]
    },
    {
     "name": "stdout",
     "output_type": "stream",
     "text": [
      "2300 _iteration\n",
      "<class 'selenium.common.exceptions.WebDriverException'> Message: unknown error: Cannot set property 'value' of null\n",
      "  (Session info: headless chrome=85.0.4183.121)\n",
      "  (Driver info: chromedriver=2.36.540471 (9c759b81a907e70363c6312294d30b6ccccc2752),platform=Linux 4.15.0-111-generic x86_64)\n",
      "\n"
     ]
    },
    {
     "name": "stderr",
     "output_type": "stream",
     "text": [
      "\r",
      " 39%|███▉      | 24/61 [18:37<31:54, 51.73s/it]"
     ]
    },
    {
     "name": "stdout",
     "output_type": "stream",
     "text": [
      "2400 _iteration\n"
     ]
    },
    {
     "name": "stderr",
     "output_type": "stream",
     "text": [
      "\r",
      " 41%|████      | 25/61 [19:56<35:55, 59.88s/it]"
     ]
    },
    {
     "name": "stdout",
     "output_type": "stream",
     "text": [
      "2500 _iteration\n"
     ]
    },
    {
     "name": "stderr",
     "output_type": "stream",
     "text": [
      "\r",
      " 43%|████▎     | 26/61 [20:42<32:24, 55.55s/it]"
     ]
    },
    {
     "name": "stdout",
     "output_type": "stream",
     "text": [
      "2600 _iteration\n",
      "<class 'selenium.common.exceptions.WebDriverException'> Message: unknown error: Cannot set property 'value' of null\n",
      "  (Session info: headless chrome=85.0.4183.121)\n",
      "  (Driver info: chromedriver=2.36.540471 (9c759b81a907e70363c6312294d30b6ccccc2752),platform=Linux 4.15.0-111-generic x86_64)\n",
      "\n"
     ]
    },
    {
     "name": "stderr",
     "output_type": "stream",
     "text": [
      "\r",
      " 44%|████▍     | 27/61 [21:16<27:54, 49.24s/it]"
     ]
    },
    {
     "name": "stdout",
     "output_type": "stream",
     "text": [
      "2700 _iteration\n"
     ]
    },
    {
     "name": "stderr",
     "output_type": "stream",
     "text": [
      "\r",
      " 46%|████▌     | 28/61 [22:37<32:18, 58.74s/it]"
     ]
    },
    {
     "name": "stdout",
     "output_type": "stream",
     "text": [
      "2800 _iteration\n"
     ]
    },
    {
     "name": "stderr",
     "output_type": "stream",
     "text": [
      "\r",
      " 48%|████▊     | 29/61 [23:11<27:22, 51.33s/it]"
     ]
    },
    {
     "name": "stdout",
     "output_type": "stream",
     "text": [
      "2900 _iteration\n"
     ]
    },
    {
     "name": "stderr",
     "output_type": "stream",
     "text": [
      "\r",
      " 49%|████▉     | 30/61 [23:51<24:48, 48.00s/it]"
     ]
    },
    {
     "name": "stdout",
     "output_type": "stream",
     "text": [
      "3000 _iteration\n",
      "<class 'selenium.common.exceptions.SessionNotCreatedException'> Message: session not created exception\n",
      "from disconnected: unable to connect to renderer\n",
      "  (Session info: headless chrome=85.0.4183.121)\n",
      "  (Driver info: chromedriver=2.36.540471 (9c759b81a907e70363c6312294d30b6ccccc2752),platform=Linux 4.15.0-111-generic x86_64)\n",
      "\n",
      "<class 'selenium.common.exceptions.WebDriverException'> Message: unknown error: Cannot set property 'value' of null\n",
      "  (Session info: headless chrome=85.0.4183.121)\n",
      "  (Driver info: chromedriver=2.36.540471 (9c759b81a907e70363c6312294d30b6ccccc2752),platform=Linux 4.15.0-111-generic x86_64)\n",
      "\n"
     ]
    },
    {
     "name": "stderr",
     "output_type": "stream",
     "text": [
      "\r",
      " 51%|█████     | 31/61 [24:26<22:00, 44.02s/it]"
     ]
    },
    {
     "name": "stdout",
     "output_type": "stream",
     "text": [
      "3100 _iteration\n"
     ]
    },
    {
     "name": "stderr",
     "output_type": "stream",
     "text": [
      "\r",
      " 52%|█████▏    | 32/61 [25:07<20:47, 43.01s/it]"
     ]
    },
    {
     "name": "stdout",
     "output_type": "stream",
     "text": [
      "3200 _iteration\n",
      "<class 'selenium.common.exceptions.WebDriverException'> Message: unknown error: Cannot set property 'value' of null\n",
      "  (Session info: headless chrome=85.0.4183.121)\n",
      "  (Driver info: chromedriver=2.36.540471 (9c759b81a907e70363c6312294d30b6ccccc2752),platform=Linux 4.15.0-111-generic x86_64)\n",
      "\n"
     ]
    },
    {
     "name": "stderr",
     "output_type": "stream",
     "text": [
      "\r",
      " 54%|█████▍    | 33/61 [25:53<20:28, 43.88s/it]"
     ]
    },
    {
     "name": "stdout",
     "output_type": "stream",
     "text": [
      "3300 _iteration\n"
     ]
    },
    {
     "name": "stderr",
     "output_type": "stream",
     "text": [
      "\r",
      " 56%|█████▌    | 34/61 [26:28<18:33, 41.25s/it]"
     ]
    },
    {
     "name": "stdout",
     "output_type": "stream",
     "text": [
      "3400 _iteration\n",
      "<class 'selenium.common.exceptions.WebDriverException'> Message: unknown error: Cannot set property 'value' of null\n",
      "  (Session info: headless chrome=85.0.4183.121)\n",
      "  (Driver info: chromedriver=2.36.540471 (9c759b81a907e70363c6312294d30b6ccccc2752),platform=Linux 4.15.0-111-generic x86_64)\n",
      "\n",
      "<class 'selenium.common.exceptions.NoSuchWindowException'> Message: no such window: window was already closed\n",
      "  (Session info: headless chrome=85.0.4183.121)\n",
      "  (Driver info: chromedriver=2.36.540471 (9c759b81a907e70363c6312294d30b6ccccc2752),platform=Linux 4.15.0-111-generic x86_64)\n",
      "\n",
      "<class 'selenium.common.exceptions.WebDriverException'> Message: unknown error: Cannot set property 'value' of null\n",
      "  (Session info: headless chrome=85.0.4183.121)\n",
      "  (Driver info: chromedriver=2.36.540471 (9c759b81a907e70363c6312294d30b6ccccc2752),platform=Linux 4.15.0-111-generic x86_64)\n",
      "\n"
     ]
    },
    {
     "name": "stderr",
     "output_type": "stream",
     "text": [
      "\r",
      " 57%|█████▋    | 35/61 [27:03<17:03, 39.37s/it]"
     ]
    },
    {
     "name": "stdout",
     "output_type": "stream",
     "text": [
      "3500 _iteration\n",
      "<class 'selenium.common.exceptions.WebDriverException'> Message: unknown error: Cannot set property 'value' of null\n",
      "  (Session info: headless chrome=85.0.4183.121)\n",
      "  (Driver info: chromedriver=2.36.540471 (9c759b81a907e70363c6312294d30b6ccccc2752),platform=Linux 4.15.0-111-generic x86_64)\n",
      "\n",
      "<class 'selenium.common.exceptions.WebDriverException'> Message: unknown error: Cannot set property 'value' of null\n",
      "  (Session info: headless chrome=85.0.4183.121)\n",
      "  (Driver info: chromedriver=2.36.540471 (9c759b81a907e70363c6312294d30b6ccccc2752),platform=Linux 4.15.0-111-generic x86_64)\n",
      "\n"
     ]
    },
    {
     "name": "stderr",
     "output_type": "stream",
     "text": [
      "\r",
      " 59%|█████▉    | 36/61 [27:50<17:24, 41.77s/it]"
     ]
    },
    {
     "name": "stdout",
     "output_type": "stream",
     "text": [
      "3600 _iteration\n",
      "<class 'urllib3.exceptions.MaxRetryError'> HTTPConnectionPool(host='127.0.0.1', port=35177): Max retries exceeded with url: /session/c509169284aa6970e138d1ad23f558e4/source (Caused by NewConnectionError('<urllib3.connection.HTTPConnection object at 0x7fa425311da0>: Failed to establish a new connection: [Errno 111] Connection refused'))\n",
      "<class 'urllib3.exceptions.MaxRetryError'> HTTPConnectionPool(host='127.0.0.1', port=46797): Max retries exceeded with url: /session/330ac24bab5b7cbfdb39a00fd69bb23b/source (Caused by NewConnectionError('<urllib3.connection.HTTPConnection object at 0x7fa42530d1d0>: Failed to establish a new connection: [Errno 111] Connection refused'))\n"
     ]
    },
    {
     "name": "stderr",
     "output_type": "stream",
     "text": [
      "\r",
      " 61%|██████    | 37/61 [28:36<17:14, 43.11s/it]"
     ]
    },
    {
     "name": "stdout",
     "output_type": "stream",
     "text": [
      "3700 _iteration\n"
     ]
    },
    {
     "name": "stderr",
     "output_type": "stream",
     "text": [
      "\r",
      " 62%|██████▏   | 38/61 [29:16<16:05, 41.97s/it]"
     ]
    },
    {
     "name": "stdout",
     "output_type": "stream",
     "text": [
      "3800 _iteration\n",
      "<class 'selenium.common.exceptions.SessionNotCreatedException'> Message: session not created exception\n",
      "from disconnected: unable to connect to renderer\n",
      "  (Session info: headless chrome=85.0.4183.121)\n",
      "  (Driver info: chromedriver=2.36.540471 (9c759b81a907e70363c6312294d30b6ccccc2752),platform=Linux 4.15.0-111-generic x86_64)\n",
      "\n"
     ]
    },
    {
     "name": "stderr",
     "output_type": "stream",
     "text": [
      "\r",
      " 64%|██████▍   | 39/61 [29:50<14:35, 39.78s/it]"
     ]
    },
    {
     "name": "stdout",
     "output_type": "stream",
     "text": [
      "3900 _iteration\n",
      "<class 'selenium.common.exceptions.NoSuchWindowException'> Message: no such window: window was already closed\n",
      "  (Session info: headless chrome=85.0.4183.121)\n",
      "  (Driver info: chromedriver=2.36.540471 (9c759b81a907e70363c6312294d30b6ccccc2752),platform=Linux 4.15.0-111-generic x86_64)\n",
      "\n",
      "<class 'TypeError'> expected string or bytes-like object\n"
     ]
    },
    {
     "name": "stderr",
     "output_type": "stream",
     "text": [
      "\r",
      " 66%|██████▌   | 40/61 [30:36<14:35, 41.67s/it]"
     ]
    },
    {
     "name": "stdout",
     "output_type": "stream",
     "text": [
      "4000 _iteration\n",
      "<class 'selenium.common.exceptions.WebDriverException'> Message: unknown error: Cannot set property 'value' of null\n",
      "  (Session info: headless chrome=85.0.4183.121)\n",
      "  (Driver info: chromedriver=2.36.540471 (9c759b81a907e70363c6312294d30b6ccccc2752),platform=Linux 4.15.0-111-generic x86_64)\n",
      "\n",
      "<class 'selenium.common.exceptions.WebDriverException'> Message: unknown error: Cannot set property 'value' of null\n",
      "  (Session info: headless chrome=85.0.4183.121)\n",
      "  (Driver info: chromedriver=2.36.540471 (9c759b81a907e70363c6312294d30b6ccccc2752),platform=Linux 4.15.0-111-generic x86_64)\n",
      "\n"
     ]
    },
    {
     "name": "stderr",
     "output_type": "stream",
     "text": [
      "\r",
      " 67%|██████▋   | 41/61 [31:21<14:13, 42.68s/it]"
     ]
    },
    {
     "name": "stdout",
     "output_type": "stream",
     "text": [
      "4100 _iteration\n",
      "<class 'selenium.common.exceptions.WebDriverException'> Message: unknown error: Cannot set property 'value' of null\n",
      "  (Session info: headless chrome=85.0.4183.121)\n",
      "  (Driver info: chromedriver=2.36.540471 (9c759b81a907e70363c6312294d30b6ccccc2752),platform=Linux 4.15.0-111-generic x86_64)\n",
      "\n",
      "<class 'selenium.common.exceptions.SessionNotCreatedException'> Message: session not created exception\n",
      "from disconnected: unable to connect to renderer\n",
      "  (Session info: headless chrome=85.0.4183.121)\n",
      "  (Driver info: chromedriver=2.36.540471 (9c759b81a907e70363c6312294d30b6ccccc2752),platform=Linux 4.15.0-111-generic x86_64)\n",
      "\n",
      "<class 'selenium.common.exceptions.SessionNotCreatedException'> Message: session not created exception\n",
      "from disconnected: unable to connect to renderer\n",
      "  (Session info: headless chrome=85.0.4183.121)\n",
      "  (Driver info: chromedriver=2.36.540471 (9c759b81a907e70363c6312294d30b6ccccc2752),platform=Linux 4.15.0-111-generic x86_64)\n",
      "\n"
     ]
    },
    {
     "name": "stderr",
     "output_type": "stream",
     "text": [
      "\r",
      " 69%|██████▉   | 42/61 [31:50<12:12, 38.56s/it]"
     ]
    },
    {
     "name": "stdout",
     "output_type": "stream",
     "text": [
      "4200 _iteration\n",
      "<class 'selenium.common.exceptions.WebDriverException'> Message: unknown error: Cannot set property 'value' of null\n",
      "  (Session info: headless chrome=85.0.4183.121)\n",
      "  (Driver info: chromedriver=2.36.540471 (9c759b81a907e70363c6312294d30b6ccccc2752),platform=Linux 4.15.0-111-generic x86_64)\n",
      "\n"
     ]
    },
    {
     "name": "stderr",
     "output_type": "stream",
     "text": [
      "\r",
      " 70%|███████   | 43/61 [32:37<12:15, 40.85s/it]"
     ]
    },
    {
     "name": "stdout",
     "output_type": "stream",
     "text": [
      "4300 _iteration\n",
      "<class 'selenium.common.exceptions.NoSuchWindowException'> Message: no such window: window was already closed\n",
      "  (Session info: headless chrome=85.0.4183.121)\n",
      "  (Driver info: chromedriver=2.36.540471 (9c759b81a907e70363c6312294d30b6ccccc2752),platform=Linux 4.15.0-111-generic x86_64)\n",
      "\n",
      "<class 'urllib3.exceptions.MaxRetryError'> HTTPConnectionPool(host='127.0.0.1', port=38403): Max retries exceeded with url: /session/800e9d3f83d0f5ef3199f087c3e98b73/source (Caused by NewConnectionError('<urllib3.connection.HTTPConnection object at 0x7fa4252a6390>: Failed to establish a new connection: [Errno 111] Connection refused'))\n"
     ]
    },
    {
     "name": "stderr",
     "output_type": "stream",
     "text": [
      "\r",
      " 72%|███████▏  | 44/61 [33:11<11:03, 39.04s/it]"
     ]
    },
    {
     "name": "stdout",
     "output_type": "stream",
     "text": [
      "4400 _iteration\n"
     ]
    },
    {
     "name": "stderr",
     "output_type": "stream",
     "text": [
      "\r",
      " 74%|███████▍  | 45/61 [33:47<10:07, 37.98s/it]"
     ]
    },
    {
     "name": "stdout",
     "output_type": "stream",
     "text": [
      "4500 _iteration\n",
      "<class 'selenium.common.exceptions.WebDriverException'> Message: unknown error: Cannot set property 'value' of null\n",
      "  (Session info: headless chrome=85.0.4183.121)\n",
      "  (Driver info: chromedriver=2.36.540471 (9c759b81a907e70363c6312294d30b6ccccc2752),platform=Linux 4.15.0-111-generic x86_64)\n",
      "\n"
     ]
    },
    {
     "name": "stderr",
     "output_type": "stream",
     "text": [
      "\r",
      " 75%|███████▌  | 46/61 [34:28<09:44, 38.95s/it]"
     ]
    },
    {
     "name": "stdout",
     "output_type": "stream",
     "text": [
      "4600 _iteration\n"
     ]
    },
    {
     "name": "stderr",
     "output_type": "stream",
     "text": [
      "\r",
      " 77%|███████▋  | 47/61 [35:25<10:20, 44.36s/it]"
     ]
    },
    {
     "name": "stdout",
     "output_type": "stream",
     "text": [
      "4700 _iteration\n",
      "<class 'selenium.common.exceptions.NoSuchWindowException'> Message: no such window: window was already closed\n",
      "  (Session info: headless chrome=85.0.4183.121)\n",
      "  (Driver info: chromedriver=2.36.540471 (9c759b81a907e70363c6312294d30b6ccccc2752),platform=Linux 4.15.0-111-generic x86_64)\n",
      "\n"
     ]
    },
    {
     "name": "stderr",
     "output_type": "stream",
     "text": [
      "\r",
      " 79%|███████▊  | 48/61 [36:18<10:08, 46.79s/it]"
     ]
    },
    {
     "name": "stdout",
     "output_type": "stream",
     "text": [
      "4800 _iteration\n",
      "<class 'urllib3.exceptions.MaxRetryError'> HTTPConnectionPool(host='127.0.0.1', port=44881): Max retries exceeded with url: /session/e5c4ce3f61be5cdf48fa01862ab1dd7c/source (Caused by NewConnectionError('<urllib3.connection.HTTPConnection object at 0x7fa4349a9358>: Failed to establish a new connection: [Errno 111] Connection refused'))\n",
      "<class 'urllib3.exceptions.MaxRetryError'> HTTPConnectionPool(host='127.0.0.1', port=35735): Max retries exceeded with url: /session/ec608e5916c089550a532d4d91a6382a/source (Caused by NewConnectionError('<urllib3.connection.HTTPConnection object at 0x7fa434517240>: Failed to establish a new connection: [Errno 111] Connection refused'))\n"
     ]
    },
    {
     "name": "stderr",
     "output_type": "stream",
     "text": [
      "\r",
      " 80%|████████  | 49/61 [37:00<09:07, 45.61s/it]"
     ]
    },
    {
     "name": "stdout",
     "output_type": "stream",
     "text": [
      "4900 _iteration\n"
     ]
    },
    {
     "name": "stderr",
     "output_type": "stream",
     "text": [
      "\r",
      " 82%|████████▏ | 50/61 [37:34<07:43, 42.11s/it]"
     ]
    },
    {
     "name": "stdout",
     "output_type": "stream",
     "text": [
      "5000 _iteration\n"
     ]
    },
    {
     "name": "stderr",
     "output_type": "stream",
     "text": [
      "\r",
      " 84%|████████▎ | 51/61 [38:13<06:50, 41.02s/it]"
     ]
    },
    {
     "name": "stdout",
     "output_type": "stream",
     "text": [
      "5100 _iteration\n"
     ]
    },
    {
     "name": "stderr",
     "output_type": "stream",
     "text": [
      "\r",
      " 85%|████████▌ | 52/61 [38:57<06:16, 41.86s/it]"
     ]
    },
    {
     "name": "stdout",
     "output_type": "stream",
     "text": [
      "5200 _iteration\n",
      "<class 'selenium.common.exceptions.WebDriverException'> Message: unknown error: Cannot set property 'value' of null\n",
      "  (Session info: headless chrome=85.0.4183.121)\n",
      "  (Driver info: chromedriver=2.36.540471 (9c759b81a907e70363c6312294d30b6ccccc2752),platform=Linux 4.15.0-111-generic x86_64)\n",
      "\n"
     ]
    },
    {
     "name": "stderr",
     "output_type": "stream",
     "text": [
      "\r",
      " 87%|████████▋ | 53/61 [39:34<05:23, 40.40s/it]"
     ]
    },
    {
     "name": "stdout",
     "output_type": "stream",
     "text": [
      "5300 _iteration\n",
      "<class 'selenium.common.exceptions.WebDriverException'> Message: unknown error: Cannot set property 'value' of null\n",
      "  (Session info: headless chrome=85.0.4183.121)\n",
      "  (Driver info: chromedriver=2.36.540471 (9c759b81a907e70363c6312294d30b6ccccc2752),platform=Linux 4.15.0-111-generic x86_64)\n",
      "\n",
      "<class 'selenium.common.exceptions.WebDriverException'> Message: unknown error: Cannot set property 'value' of null\n",
      "  (Session info: headless chrome=85.0.4183.121)\n",
      "  (Driver info: chromedriver=2.36.540471 (9c759b81a907e70363c6312294d30b6ccccc2752),platform=Linux 4.15.0-111-generic x86_64)\n",
      "\n"
     ]
    },
    {
     "name": "stderr",
     "output_type": "stream",
     "text": [
      "\r",
      " 89%|████████▊ | 54/61 [40:30<05:16, 45.17s/it]"
     ]
    },
    {
     "name": "stdout",
     "output_type": "stream",
     "text": [
      "5400 _iteration\n",
      "<class 'selenium.common.exceptions.SessionNotCreatedException'> Message: session not created exception\n",
      "from disconnected: unable to connect to renderer\n",
      "  (Session info: headless chrome=85.0.4183.121)\n",
      "  (Driver info: chromedriver=2.36.540471 (9c759b81a907e70363c6312294d30b6ccccc2752),platform=Linux 4.15.0-111-generic x86_64)\n",
      "\n",
      "<class 'selenium.common.exceptions.SessionNotCreatedException'> Message: session not created exception\n",
      "from disconnected: unable to connect to renderer\n",
      "  (Session info: headless chrome=85.0.4183.121)\n",
      "  (Driver info: chromedriver=2.36.540471 (9c759b81a907e70363c6312294d30b6ccccc2752),platform=Linux 4.15.0-111-generic x86_64)\n",
      "\n",
      "<class 'selenium.common.exceptions.WebDriverException'> Message: unknown error: Cannot set property 'value' of null\n",
      "  (Session info: headless chrome=85.0.4183.121)\n",
      "  (Driver info: chromedriver=2.36.540471 (9c759b81a907e70363c6312294d30b6ccccc2752),platform=Linux 4.15.0-111-generic x86_64)\n",
      "\n",
      "<class 'selenium.common.exceptions.WebDriverException'> Message: unknown error: Cannot set property 'value' of null\n",
      "  (Session info: headless chrome=85.0.4183.121)\n",
      "  (Driver info: chromedriver=2.36.540471 (9c759b81a907e70363c6312294d30b6ccccc2752),platform=Linux 4.15.0-111-generic x86_64)\n",
      "\n",
      "<class 'selenium.common.exceptions.WebDriverException'> Message: unknown error: Cannot set property 'value' of null\n",
      "  (Session info: headless chrome=85.0.4183.121)\n",
      "  (Driver info: chromedriver=2.36.540471 (9c759b81a907e70363c6312294d30b6ccccc2752),platform=Linux 4.15.0-111-generic x86_64)\n",
      "\n"
     ]
    },
    {
     "name": "stderr",
     "output_type": "stream",
     "text": [
      "\r",
      " 90%|█████████ | 55/61 [41:11<04:22, 43.82s/it]"
     ]
    },
    {
     "name": "stdout",
     "output_type": "stream",
     "text": [
      "5500 _iteration\n",
      "<class 'selenium.common.exceptions.WebDriverException'> Message: unknown error: Cannot set property 'value' of null\n",
      "  (Session info: headless chrome=85.0.4183.121)\n",
      "  (Driver info: chromedriver=2.36.540471 (9c759b81a907e70363c6312294d30b6ccccc2752),platform=Linux 4.15.0-111-generic x86_64)\n",
      "\n"
     ]
    },
    {
     "name": "stderr",
     "output_type": "stream",
     "text": [
      "\r",
      " 92%|█████████▏| 56/61 [41:45<03:24, 40.85s/it]"
     ]
    },
    {
     "name": "stdout",
     "output_type": "stream",
     "text": [
      "5600 _iteration\n"
     ]
    },
    {
     "name": "stderr",
     "output_type": "stream",
     "text": [
      "\r",
      " 93%|█████████▎| 57/61 [42:29<02:48, 42.01s/it]"
     ]
    },
    {
     "name": "stdout",
     "output_type": "stream",
     "text": [
      "5700 _iteration\n",
      "<class 'urllib3.exceptions.MaxRetryError'> HTTPConnectionPool(host='127.0.0.1', port=41869): Max retries exceeded with url: /session/d40d9b640b331417c17903420153dc30/execute (Caused by NewConnectionError('<urllib3.connection.HTTPConnection object at 0x7fa4349345c0>: Failed to establish a new connection: [Errno 111] Connection refused'))\n"
     ]
    },
    {
     "name": "stderr",
     "output_type": "stream",
     "text": [
      "\r",
      " 95%|█████████▌| 58/61 [43:09<02:04, 41.40s/it]"
     ]
    },
    {
     "name": "stdout",
     "output_type": "stream",
     "text": [
      "5800 _iteration\n"
     ]
    },
    {
     "name": "stderr",
     "output_type": "stream",
     "text": [
      "\r",
      " 97%|█████████▋| 59/61 [43:45<01:19, 39.78s/it]"
     ]
    },
    {
     "name": "stdout",
     "output_type": "stream",
     "text": [
      "5900 _iteration\n",
      "<class 'selenium.common.exceptions.WebDriverException'> Message: unknown error: Chrome failed to start: exited abnormally\n",
      "  (Driver info: chromedriver=2.36.540471 (9c759b81a907e70363c6312294d30b6ccccc2752),platform=Linux 4.15.0-111-generic x86_64)\n",
      "\n"
     ]
    },
    {
     "name": "stderr",
     "output_type": "stream",
     "text": [
      "\r",
      " 98%|█████████▊| 60/61 [44:59<00:50, 50.03s/it]"
     ]
    },
    {
     "name": "stdout",
     "output_type": "stream",
     "text": [
      "6000 _iteration\n"
     ]
    },
    {
     "name": "stderr",
     "output_type": "stream",
     "text": [
      "100%|██████████| 61/61 [45:07<00:00, 44.39s/it]\n"
     ]
    }
   ],
   "source": [
    "from tqdm import tqdm_notebook,tqdm\n",
    "size=100\n",
    "list_df=[]\n",
    "for i in tqdm(range(0,len(total_df),size)):\n",
    "    print(i,\"_iteration\")\n",
    "    df_new=parallelize_dataframe(total_df[i:i+size],add_features,n_cores=40)\n",
    "    list_df.append(df_new)\n",
    "    df_translated=pd.concat(list_df,ignore_index=True)"
   ]
  },
  {
   "cell_type": "code",
   "execution_count": 22,
   "metadata": {},
   "outputs": [],
   "source": [
    "df_translated=pd.concat(list_df,ignore_index=True)"
   ]
  },
  {
   "cell_type": "code",
   "execution_count": 25,
   "metadata": {},
   "outputs": [],
   "source": [
    "df_translated['one_fear_speech']=1"
   ]
  },
  {
   "cell_type": "code",
   "execution_count": 26,
   "metadata": {},
   "outputs": [],
   "source": [
    "df_translated.to_pickle(parent_path+'Fearspeech_data_silver.pkl')"
   ]
  },
  {
   "cell_type": "code",
   "execution_count": null,
   "metadata": {},
   "outputs": [],
   "source": [
    "sample_df['label']=sample_df['one_fear_speech']"
   ]
  },
  {
   "cell_type": "code",
   "execution_count": null,
   "metadata": {},
   "outputs": [],
   "source": [
    "sample_df[sample_df['label'].isin([0,1])][['message_text','label']].to_csv(path+'Fearspeech_Data.csv')"
   ]
  },
  {
   "cell_type": "code",
   "execution_count": null,
   "metadata": {},
   "outputs": [],
   "source": [
    "sample_fear=sample_df[sample_df['label'].isin([0,1])][['message_text','label']]"
   ]
  },
  {
   "cell_type": "code",
   "execution_count": null,
   "metadata": {},
   "outputs": [],
   "source": [
    "sample_fear.to_pickle(path+'Fearspeech_Data.pickle')"
   ]
  },
  {
   "cell_type": "code",
   "execution_count": 80,
   "metadata": {},
   "outputs": [
    {
     "data": {
      "text/html": [
       "<div>\n",
       "<style scoped>\n",
       "    .dataframe tbody tr th:only-of-type {\n",
       "        vertical-align: middle;\n",
       "    }\n",
       "\n",
       "    .dataframe tbody tr th {\n",
       "        vertical-align: top;\n",
       "    }\n",
       "\n",
       "    .dataframe thead th {\n",
       "        text-align: right;\n",
       "    }\n",
       "</style>\n",
       "<table border=\"1\" class=\"dataframe\">\n",
       "  <thead>\n",
       "    <tr style=\"text-align: right;\">\n",
       "      <th></th>\n",
       "      <th>Annotation1</th>\n",
       "      <th>Annotation2</th>\n",
       "      <th>Annotation3</th>\n",
       "      <th>User1</th>\n",
       "      <th>User2</th>\n",
       "      <th>User3</th>\n",
       "      <th>forwarded</th>\n",
       "      <th>group_id_anonymized</th>\n",
       "      <th>group_type</th>\n",
       "      <th>hindu_keyword_count</th>\n",
       "      <th>...</th>\n",
       "      <th>pred_probab</th>\n",
       "      <th>preds</th>\n",
       "      <th>repeated</th>\n",
       "      <th>timestamp</th>\n",
       "      <th>tokenized</th>\n",
       "      <th>translated</th>\n",
       "      <th>unique_ids</th>\n",
       "      <th>signatures</th>\n",
       "      <th>one_fear_speech</th>\n",
       "      <th>present_in_data</th>\n",
       "    </tr>\n",
       "  </thead>\n",
       "  <tbody>\n",
       "    <tr>\n",
       "      <th>9701</th>\n",
       "      <td>Fear speech</td>\n",
       "      <td>Fear speech</td>\n",
       "      <td>Normal</td>\n",
       "      <td>Adarsh</td>\n",
       "      <td>Yuvraj</td>\n",
       "      <td>Vineeth</td>\n",
       "      <td>1.0</td>\n",
       "      <td>7.0</td>\n",
       "      <td>BJP</td>\n",
       "      <td>1.0</td>\n",
       "      <td>...</td>\n",
       "      <td>0.030909</td>\n",
       "      <td>0.0</td>\n",
       "      <td>[26904.0, 5559349.0]</td>\n",
       "      <td>1.550186e+12</td>\n",
       "      <td>[प्रशासक, समिति, raised_fist, triangular_flag,...</td>\n",
       "      <td>NaN</td>\n",
       "      <td>[bf7a79ae-f605-4b16-86a8-0fab7d1d8dc8, 8dff263...</td>\n",
       "      <td>[24811490, 31121478, 43379428, 3407718, 214666...</td>\n",
       "      <td>1</td>\n",
       "      <td>1</td>\n",
       "    </tr>\n",
       "    <tr>\n",
       "      <th>21649</th>\n",
       "      <td>Normal</td>\n",
       "      <td>Normal</td>\n",
       "      <td>Normal</td>\n",
       "      <td>Adarsh</td>\n",
       "      <td>Yuvraj</td>\n",
       "      <td>Vineeth</td>\n",
       "      <td>1.0</td>\n",
       "      <td>7.0</td>\n",
       "      <td>BJP</td>\n",
       "      <td>1.0</td>\n",
       "      <td>...</td>\n",
       "      <td>0.004815</td>\n",
       "      <td>0.0</td>\n",
       "      <td>[58653.0, 2538100.0, 2543772.0, 2841047.0, 284...</td>\n",
       "      <td>1.550921e+12</td>\n",
       "      <td>[हैदराबाद, की, मक्का, मस्जिद, में, ब्लास्ट, मर...</td>\n",
       "      <td>NaN</td>\n",
       "      <td>[7ee2ce95-7967-4514-ad12-e082cd80d994, 0511697...</td>\n",
       "      <td>[9153108, 62225323, 88426676, 135771602, 30037...</td>\n",
       "      <td>0</td>\n",
       "      <td>1</td>\n",
       "    </tr>\n",
       "    <tr>\n",
       "      <th>25630</th>\n",
       "      <td>Fear speech</td>\n",
       "      <td>Fear speech</td>\n",
       "      <td>Normal</td>\n",
       "      <td>Divyanshu</td>\n",
       "      <td>Adarsh</td>\n",
       "      <td>Vineeth</td>\n",
       "      <td>1.0</td>\n",
       "      <td>51.0</td>\n",
       "      <td>BJP</td>\n",
       "      <td>0.0</td>\n",
       "      <td>...</td>\n",
       "      <td>0.684925</td>\n",
       "      <td>1.0</td>\n",
       "      <td>[69294.0, 520737.0, 521637.0, 534993.0, 608583...</td>\n",
       "      <td>1.551149e+12</td>\n",
       "      <td>[(, ), ``, इस्लाम, धर्म, नहीं, एक, मानसिक, रोग...</td>\n",
       "      <td>NaN</td>\n",
       "      <td>[90bc3ab7-0148-4761-9756-d54592a270b2, 9b89d01...</td>\n",
       "      <td>[11378459, 12793291, 38427369, 27223211, 10805...</td>\n",
       "      <td>1</td>\n",
       "      <td>1</td>\n",
       "    </tr>\n",
       "    <tr>\n",
       "      <th>33159</th>\n",
       "      <td>Fear speech</td>\n",
       "      <td>Normal</td>\n",
       "      <td>Normal</td>\n",
       "      <td>Divyanshu</td>\n",
       "      <td>Sharat</td>\n",
       "      <td>Kukkadapu</td>\n",
       "      <td>1.0</td>\n",
       "      <td>30.0</td>\n",
       "      <td>BJP</td>\n",
       "      <td>0.0</td>\n",
       "      <td>...</td>\n",
       "      <td>0.055631</td>\n",
       "      <td>0.0</td>\n",
       "      <td>[89540.0]</td>\n",
       "      <td>1.551532e+12</td>\n",
       "      <td>[पाकिस्तान, से, अधिक, तो, जमातएइस्लामी, के, सं...</td>\n",
       "      <td>NaN</td>\n",
       "      <td>[e230abbc-1869-4614-852c-e9d2f34b2a0a, 14946c4...</td>\n",
       "      <td>[478024745, 699792695, 51911929, 329347590, 35...</td>\n",
       "      <td>0</td>\n",
       "      <td>1</td>\n",
       "    </tr>\n",
       "    <tr>\n",
       "      <th>44073</th>\n",
       "      <td>Normal</td>\n",
       "      <td>Normal</td>\n",
       "      <td>Fear speech</td>\n",
       "      <td>Sharat</td>\n",
       "      <td>Adarsh</td>\n",
       "      <td>Vineeth</td>\n",
       "      <td>1.0</td>\n",
       "      <td>75.0</td>\n",
       "      <td>BJP</td>\n",
       "      <td>13.0</td>\n",
       "      <td>...</td>\n",
       "      <td>0.014175</td>\n",
       "      <td>0.0</td>\n",
       "      <td>[118131.0, 118521.0, 118540.0, 118548.0, 11865...</td>\n",
       "      <td>1.552123e+12</td>\n",
       "      <td>[शहरी, नक्सलवाद, माओवाद, ।, बस, एक, निवेदन, पढ...</td>\n",
       "      <td>NaN</td>\n",
       "      <td>[96f6b93f-a84e-43fb-bfdc-7082c2f75a59, e3b7d48...</td>\n",
       "      <td>[8414089, 5483401, 2054993, 5239771, 4023459, ...</td>\n",
       "      <td>0</td>\n",
       "      <td>1</td>\n",
       "    </tr>\n",
       "  </tbody>\n",
       "</table>\n",
       "<p>5 rows × 30 columns</p>\n",
       "</div>"
      ],
      "text/plain": [
       "       Annotation1  Annotation2  Annotation3      User1   User2      User3  \\\n",
       "9701   Fear speech  Fear speech       Normal     Adarsh  Yuvraj    Vineeth   \n",
       "21649       Normal       Normal       Normal     Adarsh  Yuvraj    Vineeth   \n",
       "25630  Fear speech  Fear speech       Normal  Divyanshu  Adarsh    Vineeth   \n",
       "33159  Fear speech       Normal       Normal  Divyanshu  Sharat  Kukkadapu   \n",
       "44073       Normal       Normal  Fear speech     Sharat  Adarsh    Vineeth   \n",
       "\n",
       "       forwarded  group_id_anonymized group_type  hindu_keyword_count  ...  \\\n",
       "9701         1.0                  7.0        BJP                  1.0  ...   \n",
       "21649        1.0                  7.0        BJP                  1.0  ...   \n",
       "25630        1.0                 51.0        BJP                  0.0  ...   \n",
       "33159        1.0                 30.0        BJP                  0.0  ...   \n",
       "44073        1.0                 75.0        BJP                 13.0  ...   \n",
       "\n",
       "       pred_probab preds                                           repeated  \\\n",
       "9701      0.030909   0.0                               [26904.0, 5559349.0]   \n",
       "21649     0.004815   0.0  [58653.0, 2538100.0, 2543772.0, 2841047.0, 284...   \n",
       "25630     0.684925   1.0  [69294.0, 520737.0, 521637.0, 534993.0, 608583...   \n",
       "33159     0.055631   0.0                                          [89540.0]   \n",
       "44073     0.014175   0.0  [118131.0, 118521.0, 118540.0, 118548.0, 11865...   \n",
       "\n",
       "          timestamp                                          tokenized  \\\n",
       "9701   1.550186e+12  [प्रशासक, समिति, raised_fist, triangular_flag,...   \n",
       "21649  1.550921e+12  [हैदराबाद, की, मक्का, मस्जिद, में, ब्लास्ट, मर...   \n",
       "25630  1.551149e+12  [(, ), ``, इस्लाम, धर्म, नहीं, एक, मानसिक, रोग...   \n",
       "33159  1.551532e+12  [पाकिस्तान, से, अधिक, तो, जमातएइस्लामी, के, सं...   \n",
       "44073  1.552123e+12  [शहरी, नक्सलवाद, माओवाद, ।, बस, एक, निवेदन, पढ...   \n",
       "\n",
       "      translated                                         unique_ids  \\\n",
       "9701         NaN  [bf7a79ae-f605-4b16-86a8-0fab7d1d8dc8, 8dff263...   \n",
       "21649        NaN  [7ee2ce95-7967-4514-ad12-e082cd80d994, 0511697...   \n",
       "25630        NaN  [90bc3ab7-0148-4761-9756-d54592a270b2, 9b89d01...   \n",
       "33159        NaN  [e230abbc-1869-4614-852c-e9d2f34b2a0a, 14946c4...   \n",
       "44073        NaN  [96f6b93f-a84e-43fb-bfdc-7082c2f75a59, e3b7d48...   \n",
       "\n",
       "                                              signatures  one_fear_speech  \\\n",
       "9701   [24811490, 31121478, 43379428, 3407718, 214666...                1   \n",
       "21649  [9153108, 62225323, 88426676, 135771602, 30037...                0   \n",
       "25630  [11378459, 12793291, 38427369, 27223211, 10805...                1   \n",
       "33159  [478024745, 699792695, 51911929, 329347590, 35...                0   \n",
       "44073  [8414089, 5483401, 2054993, 5239771, 4023459, ...                0   \n",
       "\n",
       "       present_in_data  \n",
       "9701                 1  \n",
       "21649                1  \n",
       "25630                1  \n",
       "33159                1  \n",
       "44073                1  \n",
       "\n",
       "[5 rows x 30 columns]"
      ]
     },
     "execution_count": 80,
     "metadata": {},
     "output_type": "execute_result"
    }
   ],
   "source": [
    "import numpy as np\n",
    "\n",
    "countrepeat_list=[]\n",
    "count_missing=0\n",
    "for index,row in fear_speech_df.iterrows():\n",
    "    if(len(row['repeated'])>0):\n",
    "       countrepeat_list.append(len(row['repeated']))\n",
    "    else:\n",
    "       count_missing+=1"
   ]
  },
  {
   "cell_type": "code",
   "execution_count": 45,
   "metadata": {},
   "outputs": [
    {
     "ename": "NameError",
     "evalue": "name 'annotation_df' is not defined",
     "output_type": "error",
     "traceback": [
      "\u001b[0;31m---------------------------------------------------------------------------\u001b[0m",
      "\u001b[0;31mNameError\u001b[0m                                 Traceback (most recent call last)",
      "\u001b[0;32m<ipython-input-45-b6edd2f55dda>\u001b[0m in \u001b[0;36m<module>\u001b[0;34m\u001b[0m\n\u001b[0;32m----> 1\u001b[0;31m \u001b[0mannotation_df\u001b[0m\u001b[0;34m\u001b[0m\u001b[0;34m\u001b[0m\u001b[0m\n\u001b[0m",
      "\u001b[0;31mNameError\u001b[0m: name 'annotation_df' is not defined"
     ]
    }
   ],
   "source": [
    "annotation_df"
   ]
  },
  {
   "cell_type": "code",
   "execution_count": 76,
   "metadata": {},
   "outputs": [],
   "source": [
    "list_present=[]\n",
    "for index,row in annotated_df.iterrows():\n",
    "    if(len(row['repeated'])>0):\n",
    "        list_present.append(1)\n",
    "    else:\n",
    "        list_present.append(0)"
   ]
  },
  {
   "cell_type": "code",
   "execution_count": 77,
   "metadata": {},
   "outputs": [],
   "source": [
    "annotated_df['present_in_data']=list_present"
   ]
  },
  {
   "cell_type": "code",
   "execution_count": 78,
   "metadata": {},
   "outputs": [],
   "source": [
    "annotated_df_present=annotated_df[annotated_df['present_in_data']==1]"
   ]
  },
  {
   "cell_type": "code",
   "execution_count": 79,
   "metadata": {},
   "outputs": [
    {
     "name": "stdout",
     "output_type": "stream",
     "text": [
      "Downloading emoji data ...\n",
      "... OK (Got response in 2.18 seconds)\n",
      "Writing emoji data to /home/punyajoy/.demoji/codes.json ...\n",
      "... OK\n"
     ]
    }
   ],
   "source": [
    "from laserembeddings import Laser\n",
    "from os import path\n",
    "import pandas as pd\n",
    "from tqdm import tqdm_notebook\n",
    "import demoji\n",
    "demoji.download_codes()\n"
   ]
  },
  {
   "cell_type": "code",
   "execution_count": null,
   "metadata": {},
   "outputs": [],
   "source": [
    "list_text = []\n",
    "lang_text = []\n",
    "for index,row in tqdm_notebook(annotated_df_present.iterrows(),total=len(annotated_df_present)):\n",
    "    if len(row['message_text'])>4000:\n",
    "        string=row['message_text'][0:2000]+row['message_text'][-2000:]\n",
    "        list_text.append(demoji.replace(string,repl=\"\"))\n",
    "    else:\n",
    "        list_text.append(demoji.replace(row[\"message_text\"],repl=\"\"))\n",
    "    lang_text.append(row[\"language\"])"
   ]
  },
  {
   "cell_type": "code",
   "execution_count": null,
   "metadata": {},
   "outputs": [],
   "source": [
    "laser = Laser()\n",
    "\n",
    "embed_list=[]\n",
    "\n",
    "length_given=len(list_text)\n",
    "batch_size=64\n",
    "for i in tqdm_notebook(range(0,length_given,batch_size)):\n",
    "    if(i+batch_size<=length_given):\n",
    "        temp_text=list_text[i:i+batch_size]\n",
    "        temp_lang=lang_text[i:i+batch_size]\n",
    "    else:\n",
    "        temp_text=list_text[i:length_given]\n",
    "        temp_lang=lang_text[i:length_given]\n",
    "    embeddings = laser.embed_sentences(temp_text,lang=temp_lang)  # lang is only used for tokenization\n",
    "    embed_list+=list(embeddings)"
   ]
  },
  {
   "cell_type": "code",
   "execution_count": null,
   "metadata": {},
   "outputs": [],
   "source": [
    "annotated_df_present.columns"
   ]
  },
  {
   "cell_type": "code",
   "execution_count": null,
   "metadata": {},
   "outputs": [],
   "source": [
    "X_0 = np.array(embed_list)\n",
    "y_0 = np.array(annotated_df_present['one_fear_speech'])"
   ]
  },
  {
   "cell_type": "code",
   "execution_count": null,
   "metadata": {},
   "outputs": [],
   "source": [
    "from sklearn.feature_extraction.text import CountVectorizer\n",
    "from sklearn.metrics import confusion_matrix, f1_score, accuracy_score, precision_score, recall_score\n",
    "from sklearn.model_selection import cross_val_score\n",
    "from sklearn.utils.class_weight import compute_class_weight\n",
    "from sklearn.linear_model import LogisticRegression\n",
    "from sklearn.svm import SVC\n",
    "from sklearn.model_selection import StratifiedKFold\n",
    "import random"
   ]
  },
  {
   "cell_type": "code",
   "execution_count": null,
   "metadata": {},
   "outputs": [],
   "source": [
    "acc=[]\n",
    "macro_f1=[]\n",
    "prec=[]\n",
    "recall=[]\n",
    "prob=[]\n",
    "\n",
    "skf = StratifiedKFold(n_splits=10, random_state= 2020)\n",
    "\n",
    "for train_index, test_index in skf.split(X_0, y_0):\n",
    "    print(\"TRAIN:\", train_index, \"TEST:\", test_index)\n",
    "    X_train, X_test = X_0[train_index], X_0[test_index]\n",
    "    y_train, y_test = y_0[train_index], y_0[test_index]\n",
    "    class_weights = dict(zip(np.unique(y_train), compute_class_weight(\"balanced\", np.unique(y_train),y_train)))\n",
    "    print(class_weights)\n",
    "    classifier= LogisticRegression(class_weight=class_weights)\n",
    "    classifier.fit(X_train, y_train)\n",
    "    y_pred=classifier.predict(X_test)\n",
    "    acc.append(accuracy_score(y_test, y_pred))\n",
    "    macro_f1.append(f1_score(y_test, y_pred, average='macro'))\n",
    "    prec.append(precision_score(y_test, y_pred))\n",
    "    recall.append(recall_score(y_test, y_pred))\n",
    "    prob.append(classifier.predict_proba(X_test))\n"
   ]
  },
  {
   "cell_type": "code",
   "execution_count": null,
   "metadata": {},
   "outputs": [],
   "source": [
    "print(\"Accuracy: %0.2f (+/- %0.2f)\" % (np.mean(acc), np.std(acc) * 2))\n",
    "print(\"Macro F1: %0.2f (+/- %0.2f)\" % (np.mean(macro_f1), np.std(macro_f1) * 2))\n",
    "print(\"Precision for +ve class: %0.2f (+/- %0.2f)\" % (np.mean(prec), np.std(prec) * 2))\n",
    "print(\"Recall for +ve class: %0.2f (+/- %0.2f)\" % (np.mean(recall), np.std(recall) * 2))\n"
   ]
  },
  {
   "cell_type": "code",
   "execution_count": null,
   "metadata": {},
   "outputs": [],
   "source": [
    "num_spreader=[]\n",
    "for index,row in tqdm_notebook(annotated_df_present.iterrows(),total=len(annotated_df_present)):\n",
    "    pd.set_option('display.max_colwidth', 300)\n",
    "    temp=whatsapp_data[whatsapp_data['orig_index'].isin(row['repeated'])]\n",
    "    if(row['one_fear_speech']==1):\n",
    "        num_spreader.append([index,len(list(temp['phone_num_anonymized'].unique())),'Fear speech'])\n",
    "    else:\n",
    "        num_spreader.append([index,len(list(temp['phone_num_anonymized'].unique())),'Normal'])\n"
   ]
  },
  {
   "cell_type": "code",
   "execution_count": null,
   "metadata": {},
   "outputs": [],
   "source": [
    "df_num_users=pd.DataFrame(num_spreader,columns=['msg_id','users who spread','label'])\n",
    "ax1 = sns.barplot(x=\"label\", y=\"users who spread\", data=df_num_users)"
   ]
  },
  {
   "cell_type": "code",
   "execution_count": null,
   "metadata": {},
   "outputs": [],
   "source": [
    "message_length_avg=[]\n",
    "for index,row in tqdm_notebook(annotated_df_present.iterrows(),total=len(annotated_df_present)):\n",
    "    if(row['one_fear_speech']==1):\n",
    "        try:\n",
    "            message_length_avg.append([index,len(row['tokenized']),'Fear speech'])\n",
    "        except:\n",
    "            message_length_avg.append([index,0,'Fear speech'])\n",
    "\n",
    "    else:\n",
    "        try:\n",
    "            \n",
    "            message_length_avg.append([index,len(row['tokenized']),'Normal'])\n",
    "        except:\n",
    "            message_length_avg.append([index,0,'Normal'])\n",
    "\n"
   ]
  },
  {
   "cell_type": "code",
   "execution_count": null,
   "metadata": {},
   "outputs": [],
   "source": []
  },
  {
   "cell_type": "code",
   "execution_count": null,
   "metadata": {},
   "outputs": [],
   "source": [
    "df_num_users=pd.DataFrame(message_length_avg,columns=['msg_id','avg_message_length(in words)','label'])\n",
    "ax1 = sns.barplot(x=\"label\", y='avg_message_length(in words)', data=df_num_users)"
   ]
  },
  {
   "cell_type": "code",
   "execution_count": null,
   "metadata": {},
   "outputs": [],
   "source": [
    "from urlextract import URLExtract\n",
    "import tldextract\n",
    "ext = tldextract.extract('www.twitter.co/MF6mvzSBDs?ssr=true')\n",
    "print(ext.subdomain, ext.domain, ext.suffix)\n",
    "\n",
    "\n",
    "extractor = URLExtract()\n",
    "urls = extractor.find_urls(\"Text with URLs. Let's have URL janlipovsky.cz as an example.\")\n",
    "print(urls)"
   ]
  },
  {
   "cell_type": "code",
   "execution_count": null,
   "metadata": {},
   "outputs": [],
   "source": [
    "def return_url_dict(df):\n",
    "    count=0\n",
    "    url_dict={}\n",
    "    for text in tqdm_notebook(df.message_text):\n",
    "        urls = extractor.find_urls(text)\n",
    "        if(len(urls)>0):\n",
    "            for url in urls:\n",
    "                splited=url.split('/')\n",
    "                if(len(splited)>=3 and splited[2]=='youtu.be'):\n",
    "                    urlkey='youtube.com'\n",
    "                elif(len(splited)>=3 and splited[2]=='t.co'):\n",
    "                    urlkey='telegram.com'\n",
    "                elif(len(splited)>=3 and splited[2]=='g.co'):\n",
    "                    urlkey='google.com'\n",
    "                elif(len(splited)>=3 and splited[2]=='wp.me'):\n",
    "                    urlkey='wordpress.com'\n",
    "                elif(len(splited)>=3 and splited[2]=='bit.ly'):\n",
    "                    continue\n",
    "                else:\n",
    "                    ext = tldextract.extract(url)\n",
    "                    urlkey=ext.domain+'.'+ext.suffix\n",
    "                try:\n",
    "                    url_dict[urlkey]+=1\n",
    "                except:\n",
    "                    url_dict[urlkey]=1\n",
    "            count+=1\n",
    "    print(count)\n",
    "    return url_dict"
   ]
  },
  {
   "cell_type": "code",
   "execution_count": null,
   "metadata": {},
   "outputs": [],
   "source": [
    "fear_speech_url_dict=return_url_dict(annotated_df_present[annotated_df_present['one_fear_speech']==1])"
   ]
  },
  {
   "cell_type": "code",
   "execution_count": null,
   "metadata": {},
   "outputs": [],
   "source": [
    "normal_url_dict=return_url_dict(annotated_df_present[annotated_df_present['one_fear_speech']==0])"
   ]
  },
  {
   "cell_type": "code",
   "execution_count": null,
   "metadata": {},
   "outputs": [],
   "source": [
    "def rank_order_difference(dict1,dict2,max_rank=40):\n",
    "    tuples_A=sorted(dict1.items(), key=lambda item: item[1],reverse=True)\n",
    "    tuples_B=sorted(dict2.items(), key=lambda item: item[1],reverse=True)\n",
    "    \n",
    "    dict_A={}\n",
    "    count=0\n",
    "    for ele in tuples_A:\n",
    "        if(count<max_rank):\n",
    "            count+=1\n",
    "        dict_A[ele[0]]=count\n",
    "    \n",
    "    dict_B={}\n",
    "    count=0\n",
    "    for ele in tuples_B:\n",
    "        if(count<max_rank):\n",
    "            count+=1\n",
    "        dict_B[ele[0]]=count\n",
    "    \n",
    "    rank_diff_A={}\n",
    "    for key in dict_A.keys():\n",
    "        try:\n",
    "            rank_diff_A[key]=dict_B[key]-dict_A[key]\n",
    "        except:\n",
    "            rank_diff_A[key]=max_rank-dict_A[key]\n",
    "    rank_diff_B={}\n",
    "    for key in dict_B.keys():\n",
    "        try:\n",
    "            rank_diff_B[key]=dict_A[key]-dict_B[key]\n",
    "        except:\n",
    "            rank_diff_B[key]=max_rank-dict_B[key]\n",
    "            \n",
    "    return rank_diff_A,rank_diff_B "
   ]
  },
  {
   "cell_type": "code",
   "execution_count": null,
   "metadata": {},
   "outputs": [],
   "source": [
    "rank_diff_A,rank_diff_B =rank_order_difference(fear_speech_url_dict,normal_url_dict,20)"
   ]
  },
  {
   "cell_type": "code",
   "execution_count": null,
   "metadata": {},
   "outputs": [],
   "source": [
    "list_hashtag=sorted(rank_diff_A.items(), key=lambda item: item[1],reverse=True)[0:10]\n",
    "[ele[0] for ele in list_hashtag]"
   ]
  },
  {
   "cell_type": "code",
   "execution_count": null,
   "metadata": {},
   "outputs": [],
   "source": [
    "list_hashtag=sorted(rank_diff_B.items(), key=lambda item: item[1],reverse=True)[0:10]\n",
    "[ele[0] for ele in list_hashtag]"
   ]
  },
  {
   "cell_type": "code",
   "execution_count": null,
   "metadata": {},
   "outputs": [],
   "source": [
    "import emoji\n",
    "\n",
    "import re\n",
    "import emoji\n",
    "def extract_emojis(str1):\n",
    "    try:\n",
    "        return [c for c in str1 if c in emoji.UNICODE_EMOJI]\n",
    "    except AttributeError:\n",
    "        return []\n",
    "\n",
    "def extract_emojis_index(str1):\n",
    "    try:\n",
    "        return [(i,c) for i,c in enumerate(str1) if c in emoji.UNICODE_EMOJI]\n",
    "    except AttributeError:\n",
    "        return []"
   ]
  },
  {
   "cell_type": "code",
   "execution_count": null,
   "metadata": {},
   "outputs": [],
   "source": [
    "emoji_dict_normal={}\n",
    "count_emoji_present=0\n",
    "for index,row in tqdm_notebook(annotated_df_present[annotated_df_present['one_fear_speech']==0].iterrows(),total=annotated_df_present[annotated_df_present['one_fear_speech']==0].shape[0]):\n",
    "    #print(row[\"message_text\"])\n",
    "    list_emojis=set(extract_emojis(row['message_text']))\n",
    "    if(len(list_emojis)>0):\n",
    "        count_emoji_present+=1\n",
    "    #print(list_emojis)\n",
    "    \n",
    "    for emoji_this in list_emojis:\n",
    "        try:\n",
    "            emoji_dict_normal[emoji_this]+=1\n",
    "        except KeyError:\n",
    "            emoji_dict_normal[emoji_this]=1\n"
   ]
  },
  {
   "cell_type": "code",
   "execution_count": null,
   "metadata": {},
   "outputs": [],
   "source": [
    "count_emoji_present"
   ]
  },
  {
   "cell_type": "code",
   "execution_count": null,
   "metadata": {},
   "outputs": [],
   "source": [
    "emoji_dict_fear={}\n",
    "count_emoji_present=0\n",
    "for index,row in tqdm_notebook(annotated_df_present[annotated_df_present['one_fear_speech']==1].iterrows(),total=annotated_df_present[annotated_df_present['one_fear_speech']==1].shape[0]):\n",
    "    #print(row[\"message_text\"])\n",
    "    list_emojis=set(extract_emojis(row['message_text']))\n",
    "    #print(list_emojis)\n",
    "    if(len(list_emojis)>0):\n",
    "        count_emoji_present+=1\n",
    "    \n",
    "    for emoji_this in list_emojis:\n",
    "        try:\n",
    "            emoji_dict_fear[emoji_this]+=1\n",
    "        except KeyError:\n",
    "            emoji_dict_fear[emoji_this]=1\n"
   ]
  },
  {
   "cell_type": "code",
   "execution_count": null,
   "metadata": {},
   "outputs": [],
   "source": [
    "count_emoji_present"
   ]
  },
  {
   "cell_type": "code",
   "execution_count": null,
   "metadata": {},
   "outputs": [],
   "source": [
    "rank_diff_A,rank_diff_B =rank_order_difference(emoji_dict_fear,emoji_dict_normal,20)"
   ]
  },
  {
   "cell_type": "code",
   "execution_count": null,
   "metadata": {},
   "outputs": [],
   "source": [
    "list_hashtag=sorted(rank_diff_B.items(), key=lambda item: item[1],reverse=True)[0:10]\n",
    "[ele[0] for ele in list_hashtag]"
   ]
  },
  {
   "cell_type": "code",
   "execution_count": null,
   "metadata": {},
   "outputs": [],
   "source": [
    "list_hashtag=sorted(rank_diff_A.items(), key=lambda item: item[1],reverse=True)[0:10]\n",
    "[ele[0] for ele in list_hashtag]"
   ]
  },
  {
   "cell_type": "code",
   "execution_count": null,
   "metadata": {},
   "outputs": [],
   "source": []
  }
 ],
 "metadata": {
  "kernelspec": {
   "display_name": "Python [conda env:.conda-punyajoy_gpu] *",
   "language": "python",
   "name": "conda-env-.conda-punyajoy_gpu-py"
  },
  "language_info": {
   "codemirror_mode": {
    "name": "ipython",
    "version": 3
   },
   "file_extension": ".py",
   "mimetype": "text/x-python",
   "name": "python",
   "nbconvert_exporter": "python",
   "pygments_lexer": "ipython3",
   "version": "3.7.3"
  }
 },
 "nbformat": 4,
 "nbformat_minor": 4
}
