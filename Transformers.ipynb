{
 "cells": [
  {
   "cell_type": "code",
   "execution_count": null,
   "metadata": {
    "ExecuteTime": {
     "end_time": "2020-09-24T19:12:28.091363Z",
     "start_time": "2020-09-24T19:12:28.082450Z"
    }
   },
   "outputs": [],
   "source": [
    "%load_ext autoreload\n",
    "%autoreload 2"
   ]
  },
  {
   "cell_type": "code",
   "execution_count": null,
   "metadata": {
    "ExecuteTime": {
     "end_time": "2020-09-25T04:34:00.471505Z",
     "start_time": "2020-09-25T04:34:00.455599Z"
    },
    "scrolled": true
   },
   "outputs": [],
   "source": [
    "from models.tokenization import *\n",
    "import pandas as pd\n",
    "from sklearn.model_selection import StratifiedKFold\n",
    "from models.model_architecture import *\n",
    "from models.train_eval import *\n",
    "from tqdm import tqdm, tqdm_notebook\n",
    "parent_path='../Data/New_Data_15-06-2020/'"
   ]
  },
  {
   "cell_type": "code",
   "execution_count": null,
   "metadata": {
    "ExecuteTime": {
     "end_time": "2020-09-25T04:34:01.419692Z",
     "start_time": "2020-09-25T04:34:01.111008Z"
    }
   },
   "outputs": [],
   "source": [
    "annotated_df=pd.read_pickle(parent_path+'Fearspeech_data_final.pkl')\n"
   ]
  },
  {
   "cell_type": "code",
   "execution_count": null,
   "metadata": {
    "ExecuteTime": {
     "end_time": "2020-09-24T19:02:18.150630Z",
     "start_time": "2020-09-24T19:02:18.097236Z"
    }
   },
   "outputs": [],
   "source": [
    "torch.cuda.set_device(1)"
   ]
  },
  {
   "cell_type": "code",
   "execution_count": null,
   "metadata": {
    "ExecuteTime": {
     "end_time": "2020-09-25T04:34:11.221918Z",
     "start_time": "2020-09-25T04:34:11.205898Z"
    }
   },
   "outputs": [],
   "source": [
    "params={'model_path':'bert-base-multilingual-cased',\n",
    "        'preprocess_doc':False,\n",
    "        'max_length':256,\n",
    "        'batch_size':32,\n",
    "        'hidden_size':128,\n",
    "        'weights':[1.0,1.0],\n",
    "        'seq_model':'lstm',\n",
    "        'data_path':parent_path+'Fearspeech_data_final.pkl',\n",
    "        'max_sentences_per_doc':5,\n",
    "        'transformer_type':'lstm_transformer',\n",
    "        'device':'cpu',\n",
    "        'learning_rate':5e-5,\n",
    "        'epsilon':1e-8,\n",
    "        'random_seed':2020,\n",
    "        'epochs':50,\n",
    "        'max_memory':0.5\n",
    "       }\n"
   ]
  },
  {
   "cell_type": "code",
   "execution_count": null,
   "metadata": {
    "ExecuteTime": {
     "end_time": "2020-09-24T19:03:06.862173Z",
     "start_time": "2020-09-24T19:02:19.471487Z"
    },
    "scrolled": true
   },
   "outputs": [],
   "source": [
    "train_phase(params)"
   ]
  },
  {
   "cell_type": "code",
   "execution_count": null,
   "metadata": {},
   "outputs": [],
   "source": [
    "tokenizer = AutoTokenizer.from_pretrained('bert-base-multilingual-cased')\n",
    "    "
   ]
  },
  {
   "cell_type": "code",
   "execution_count": null,
   "metadata": {},
   "outputs": [],
   "source": [
    "temp=tokenizer.tokenize(\"I am goof\")\n",
    "\n"
   ]
  },
  {
   "cell_type": "code",
   "execution_count": null,
   "metadata": {},
   "outputs": [],
   "source": [
    "temp=['<s>']+temp+['</s>']"
   ]
  },
  {
   "cell_type": "code",
   "execution_count": null,
   "metadata": {},
   "outputs": [],
   "source": [
    "tokenizer.convert_tokens_to_ids(temp)"
   ]
  },
  {
   "cell_type": "code",
   "execution_count": null,
   "metadata": {
    "ExecuteTime": {
     "end_time": "2020-09-24T19:12:46.241374Z",
     "start_time": "2020-09-24T19:12:36.073855Z"
    }
   },
   "outputs": [],
   "source": [
    "from transformers import AutoConfig\n",
    "config=AutoConfig.from_pretrained(\"xlm-roberta-base\")"
   ]
  },
  {
   "cell_type": "code",
   "execution_count": null,
   "metadata": {
    "ExecuteTime": {
     "end_time": "2020-09-24T19:12:46.242703Z",
     "start_time": "2020-09-24T19:23:51.062Z"
    }
   },
   "outputs": [],
   "source": [
    "config"
   ]
  },
  {
   "cell_type": "code",
   "execution_count": null,
   "metadata": {
    "ExecuteTime": {
     "end_time": "2020-09-25T04:34:52.118095Z",
     "start_time": "2020-09-25T04:34:14.012273Z"
    }
   },
   "outputs": [],
   "source": [
    "annotated_df=pd.read_pickle(params['data_path'])\n",
    "params_preprocess={'remove_numbers': True, 'remove_emoji': True, 'remove_stop_words': False, 'tokenize': False}\n",
    "list_sents=[preprocess_sent(ele,params=params_preprocess).strip() for ele in tqdm_notebook(annotated_df['message_text'],total=len(annotated_df))]"
   ]
  },
  {
   "cell_type": "code",
   "execution_count": null,
   "metadata": {
    "ExecuteTime": {
     "end_time": "2020-09-25T04:35:30.845737Z",
     "start_time": "2020-09-25T04:35:30.829143Z"
    }
   },
   "outputs": [],
   "source": [
    "import random \n",
    "random.sample(list_sents,5)"
   ]
  },
  {
   "cell_type": "code",
   "execution_count": null,
   "metadata": {},
   "outputs": [],
   "source": [
    "count=[]\n",
    "for sent in list_sents:\n",
    "    count.append(len(tokenizer.tokenize(sent)))\n",
    "\n",
    "X_0 = np.array(list_sents,dtype='object')\n",
    "y_0 = np.array(annotated_df['one_fear_speech'])\n",
    "tokenizer = AutoTokenizer.from_pretrained(params['model_path'])\n",
    "    \n",
    "X_train = encode_documents(X_0,params,tokenizer) "
   ]
  },
  {
   "cell_type": "code",
   "execution_count": null,
   "metadata": {},
   "outputs": [],
   "source": [
    "count_greater=0\n",
    "for ele in count:\n",
    "    if(ele > (128*5)):\n",
    "        count_greater+=1\n",
    "count_greater"
   ]
  },
  {
   "cell_type": "code",
   "execution_count": null,
   "metadata": {},
   "outputs": [],
   "source": [
    "count"
   ]
  },
  {
   "cell_type": "code",
   "execution_count": null,
   "metadata": {},
   "outputs": [],
   "source": [
    "train_dataloader=return_dataloader(X_train,y_0,params,is_train=True)\n"
   ]
  },
  {
   "cell_type": "code",
   "execution_count": null,
   "metadata": {},
   "outputs": [],
   "source": [
    "train_dataloader"
   ]
  },
  {
   "cell_type": "code",
   "execution_count": null,
   "metadata": {},
   "outputs": [],
   "source": [
    "import torch\n",
    "import torch.autograd.profiler as profiler\n",
    "with profiler.profile(record_shapes=True) as prof:\n",
    "    with profiler.record_function(\"model_inference\"):\n",
    "        for step, batch in tqdm(enumerate(train_dataloader)):\n",
    "                b_input_ids = batch[0]\n",
    "                b_att_masks = batch[1]\n",
    "                b_token_types = batch[2]\n",
    "                b_labels = batch[3]\n",
    "                outputs = model(input_ids=b_input_ids, attention_mask=b_att_masks, token_type_ids=b_token_types,labels=b_labels)\n",
    "                break\n",
    "\n",
    "\n"
   ]
  },
  {
   "cell_type": "code",
   "execution_count": null,
   "metadata": {},
   "outputs": [],
   "source": [
    "print(prof.key_averages().table(sort_by=\"cpu_time_total\", row_limit=10))"
   ]
  },
  {
   "cell_type": "code",
   "execution_count": null,
   "metadata": {},
   "outputs": [],
   "source": [
    "b_input_ids.shape"
   ]
  },
  {
   "cell_type": "code",
   "execution_count": null,
   "metadata": {},
   "outputs": [],
   "source": [
    "b_input_ids[0][:20,1]"
   ]
  },
  {
   "cell_type": "code",
   "execution_count": null,
   "metadata": {},
   "outputs": [],
   "source": [
    "model=select_transformer_model(params['transformer_type'],params['model_path'],params)"
   ]
  },
  {
   "cell_type": "code",
   "execution_count": null,
   "metadata": {},
   "outputs": [],
   "source": []
  },
  {
   "cell_type": "code",
   "execution_count": null,
   "metadata": {},
   "outputs": [],
   "source": [
    "import torch\n"
   ]
  },
  {
   "cell_type": "code",
   "execution_count": null,
   "metadata": {},
   "outputs": [],
   "source": [
    "inputs = torch.randn((5, 3, 224, 224),dtype='long')"
   ]
  },
  {
   "cell_type": "code",
   "execution_count": null,
   "metadata": {},
   "outputs": [],
   "source": [
    "inputs"
   ]
  },
  {
   "cell_type": "code",
   "execution_count": null,
   "metadata": {},
   "outputs": [],
   "source": []
  }
 ],
 "metadata": {
  "kernelspec": {
   "display_name": "Python [conda env:.conda-punyajoy_gpu] *",
   "language": "python",
   "name": "conda-env-.conda-punyajoy_gpu-py"
  },
  "language_info": {
   "codemirror_mode": {
    "name": "ipython",
    "version": 3
   },
   "file_extension": ".py",
   "mimetype": "text/x-python",
   "name": "python",
   "nbconvert_exporter": "python",
   "pygments_lexer": "ipython3",
   "version": "3.7.3"
  },
  "latex_envs": {
   "LaTeX_envs_menu_present": true,
   "autoclose": true,
   "autocomplete": true,
   "bibliofile": "biblio.bib",
   "cite_by": "apalike",
   "current_citInitial": 1,
   "eqLabelWithNumbers": true,
   "eqNumInitial": 1,
   "hotkeys": {
    "equation": "Ctrl-E",
    "itemize": "Ctrl-I"
   },
   "labels_anchors": false,
   "latex_user_defs": false,
   "report_style_numbering": false,
   "user_envs_cfg": false
  }
 },
 "nbformat": 4,
 "nbformat_minor": 4
}
