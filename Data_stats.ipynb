{
 "cells": [
  {
   "cell_type": "code",
   "execution_count": null,
   "metadata": {},
   "outputs": [],
   "source": [
    "\n",
    "parent_path='../Data/New_Data_15-06-2020/'\n",
    "%load_ext autoreload\n",
    "%autoreload 2\n",
    "import parmap\n",
    "import pandas as pd\n",
    "from tqdm import tqdm,tqdm_notebook\n",
    "from utils.marking_similars import *\n",
    "from utils.preprocess import *"
   ]
  },
  {
   "cell_type": "code",
   "execution_count": 19,
   "metadata": {},
   "outputs": [],
   "source": [
    "whatsapp_data=pd.read_csv(parent_path+'Data_text_spam_removed_v02.csv')\n",
    "temp=whatsapp_data[['group_id_anonymized','phone_num_anonymized','message_text','timestamp']]\n",
    "duplicateDFRow = temp[temp.duplicated()]\n",
    "whatsapp_data=whatsapp_data.drop(list(duplicateDFRow.index))"
   ]
  },
  {
   "cell_type": "code",
   "execution_count": 8,
   "metadata": {},
   "outputs": [],
   "source": []
  },
  {
   "cell_type": "code",
   "execution_count": 29,
   "metadata": {},
   "outputs": [],
   "source": [
    "thresh_to_consider = 0.8\n",
    "signature_obj=Signature(10)\n",
    "\n",
    "\n",
    "def remove_duplicates_within(sample_df):\n",
    "    sample_df=signature_obj.add_signatures(sample_df)\n",
    "    id_done=0\n",
    "    duplicate={}\n",
    "    row_repeated=[]\n",
    "    for index,row in tqdm(sample_df.iterrows(),total=len(sample_df)):\n",
    "        \n",
    "        id_done+=1\n",
    "        try:\n",
    "            temp_dupl=duplicate[index]\n",
    "            continue\n",
    "        except KeyError:\n",
    "            temp_repeated=row['repeated']\n",
    "            temp=sample_df[id_done:]\n",
    "            for index1,row1 in temp.iterrows():\n",
    "                try:\n",
    "                    temp_dupl=duplicate[index]\n",
    "                    continue\n",
    "                except KeyError:\n",
    "                    signature1=row['signatures']\n",
    "                    signature2=row1['signatures']\n",
    "                    count=0\n",
    "                    for k in range(0, signature_obj.numHashes):\n",
    "                        count = count + (signature1[k] == signature2[k])\n",
    "                    # add to tuple similar if greater than thresh    \n",
    "                    if((count/signature_obj.numHashes)>thresh_to_consider):\n",
    "                        duplicate[index1]=1\n",
    "                        temp_repeated+=row1['repeated']\n",
    "            temp_repeated=list(set(temp_repeated))\n",
    "            row_repeated.append(temp_repeated)\n",
    "    sample_df=sample_df.drop(list(duplicate.keys()))\n",
    "    sample_df['repeated']=row_repeated\n",
    "    return sample_df"
   ]
  },
  {
   "cell_type": "code",
   "execution_count": 30,
   "metadata": {},
   "outputs": [
    {
     "name": "stderr",
     "output_type": "stream",
     "text": [
      "100%|██████████| 5338/5338 [00:10<00:00, 511.97it/s]\n",
      "  0%|          | 0/5338 [00:00<?, ?it/s]"
     ]
    },
    {
     "name": "stdout",
     "output_type": "stream",
     "text": [
      "2552858\n"
     ]
    },
    {
     "name": "stderr",
     "output_type": "stream",
     "text": [
      "100%|██████████| 5338/5338 [14:43<00:00,  6.04it/s] \n"
     ]
    }
   ],
   "source": [
    "annotated_df=pd.read_pickle(parent_path+'Fearspeech_data.pkl')\n",
    "annotated_df=remove_duplicates_within(annotated_df)"
   ]
  },
  {
   "cell_type": "code",
   "execution_count": 38,
   "metadata": {},
   "outputs": [
    {
     "name": "stdout",
     "output_type": "stream",
     "text": [
      "335\n"
     ]
    }
   ],
   "source": [
    "import numpy as np\n",
    "\n",
    "countrepeat_list=[]\n",
    "count_missing=0\n",
    "for index,row in annotated_df.iterrows():\n",
    "    if(len(row['repeated'])>0):\n",
    "        countrepeat_list.append(len(row['repeated']))\n",
    "    else:\n",
    "        countrepeat_list.append(0)\n",
    "        count_missing+=1\n",
    "annotated_df['times_repeated']=countrepeat_list"
   ]
  },
  {
   "cell_type": "code",
   "execution_count": 39,
   "metadata": {},
   "outputs": [],
   "source": [
    "annotated_df=annotated_df[annotated_df['times_repeated']>0]"
   ]
  },
  {
   "cell_type": "code",
   "execution_count": 52,
   "metadata": {},
   "outputs": [],
   "source": [
    "annotated_df.to_pickle(parent_path+'Fearspeech_data_final.pkl')"
   ]
  },
  {
   "cell_type": "code",
   "execution_count": 40,
   "metadata": {},
   "outputs": [
    {
     "name": "stderr",
     "output_type": "stream",
     "text": [
      "100%|██████████| 4782/4782 [00:00<00:00, 13298.67it/s]\n"
     ]
    }
   ],
   "source": [
    "all_fear_speech_index=[]\n",
    "all_normal_index=[]\n",
    "\n",
    "count_fearspeech=0\n",
    "count_normal=0\n",
    "\n",
    "for index,row in tqdm(annotated_df.iterrows(),total=len(annotated_df)):\n",
    "    if(row['one_fear_speech']==1):\n",
    "        count_fearspeech+=1\n",
    "        all_fear_speech_index+=row['repeated']\n",
    "    elif(row['one_fear_speech']==0):\n",
    "        count_normal+=1\n",
    "        all_normal_index+=row['repeated']\n",
    "\n",
    "data_fear_speech=whatsapp_data[whatsapp_data['orig_index'].isin(all_fear_speech_index)]\n",
    "data_normal=whatsapp_data[whatsapp_data['orig_index'].isin(all_normal_index)]\n"
   ]
  },
  {
   "cell_type": "code",
   "execution_count": 51,
   "metadata": {},
   "outputs": [
    {
     "name": "stdout",
     "output_type": "stream",
     "text": [
      "Fear speech: 1142\n",
      "Normal: 3640\n"
     ]
    }
   ],
   "source": [
    "print(\"Fear speech:\",len(annotated_df[annotated_df['one_fear_speech']==1]))\n",
    "print(\"Normal:\",len(annotated_df[annotated_df['one_fear_speech']==0]))"
   ]
  },
  {
   "cell_type": "code",
   "execution_count": 49,
   "metadata": {},
   "outputs": [],
   "source": [
    "def data_stats(df,whatsapp_data):\n",
    "    df_groups=df.group_id_anonymized.unique()\n",
    "   \n",
    "    average_user_per_group= 0\n",
    "    for group in df_groups:\n",
    "        number_of_users=whatsapp_data[whatsapp_data['group_id_anonymized']==group].phone_num_anonymized.nunique()\n",
    "        average_user_per_group+=number_of_users\n",
    "    average_user_per_group/= len(df_groups)\n",
    "    \n",
    "    average_message_per_group= 0\n",
    "    for group in df_groups:\n",
    "        num_of_messages=len(whatsapp_data[whatsapp_data['group_id_anonymized']==group])\n",
    "        average_message_per_group+=num_of_messages\n",
    "    average_message_per_group/= len(df_groups)\n",
    "    \n",
    "    average_fear_user_per_group= 0\n",
    "    for group in df_groups:\n",
    "        number_of_users=df[df['group_id_anonymized']==group].phone_num_anonymized.nunique()\n",
    "        average_fear_user_per_group+=number_of_users\n",
    "    average_fear_user_per_group/= len(df_groups)\n",
    "    \n",
    "    average_fear_message_per_group= 0\n",
    "    for group in df_groups:\n",
    "        num_of_messages=len(df[df['group_id_anonymized']==group])\n",
    "        average_fear_message_per_group+=num_of_messages\n",
    "    average_fear_message_per_group/= len(df_groups)\n",
    "    \n",
    "    df_users=df.phone_num_anonymized.unique()\n",
    "    \n",
    "    avg_number_group_per_users=0\n",
    "    for user in df_users:\n",
    "        number_of_users=whatsapp_data[whatsapp_data['phone_num_anonymized']==user].group_id_anonymized.nunique()\n",
    "        avg_number_group_per_users+=number_of_users\n",
    "    avg_number_group_per_users/=len(df_users)\n",
    "    \n",
    "    \n",
    "    average_fear_message_per_user= 0\n",
    "    for user in df_users:\n",
    "        num_of_messages=len(df[df['phone_num_anonymized']==user])\n",
    "        average_fear_message_per_user+=num_of_messages\n",
    "    average_fear_message_per_user/= len(df_users)\n",
    "    \n",
    "    average_message_per_user= 0\n",
    "    for user in df_users:\n",
    "        num_of_messages=len(whatsapp_data[whatsapp_data['phone_num_anonymized']==user])\n",
    "        average_message_per_user+=num_of_messages\n",
    "    average_message_per_user/= len(df_users)\n",
    "\n",
    "    ###average message length in chars\n",
    "    sum1=0\n",
    "    for index,row in tqdm(df.iterrows(),total=df.shape[0]):\n",
    "        sum1+=len(preprocess_sent(row[\"message_text\"],params={'remove_numbers': True, 'remove_emoji': True, 'remove_stop_words': False, 'tokenize': True}))\n",
    "    average_message_length= sum1/len(df)\n",
    "        \n",
    "    \n",
    "    dict1={}\n",
    "    \n",
    "    dict1[\"Total message\"]=len(df)\n",
    "    dict1[\"Total unique message\"]=len(annotated_df[annotated_df['one_fear_speech']==1])\n",
    "    dict1[\"Total users having atleast one fear speech (Fear speech users)\"]=len(df_users)\n",
    "    dict1[\"Total groups having atleast one fear speeach (Fear speech groups)\"]=len(df_groups)\n",
    "    dict1[\"Total languages\"]=len(df.groupby('language'))\n",
    "    dict1[\"Average number of users in Fear speech group\"]=int(average_user_per_group)\n",
    "    dict1[\"Average number of message in Fear speech group\"]=int(average_message_per_group)\n",
    "    dict1[\"Average number of fear speech users  in Fear speech group\"]=int(average_fear_user_per_group)\n",
    "    dict1[\"Average number of fear speech in Fear speech group\"]=int(average_fear_message_per_group)\n",
    "    dict1[\"Average number of groups by Fear speech users\"]=int(avg_number_group_per_users)\n",
    "    dict1[\"Average number of fear messages by Fear speech users\"]=int(average_fear_message_per_user)\n",
    "    dict1[\"Average number of messages by Fear speech users\"]=int(average_message_per_user)\n",
    "    dict1[\"Average message length of fear speech messages\"]=int(average_message_length)\n",
    "    return dict1"
   ]
  },
  {
   "cell_type": "code",
   "execution_count": 50,
   "metadata": {},
   "outputs": [
    {
     "name": "stderr",
     "output_type": "stream",
     "text": [
      "100%|██████████| 7848/7848 [01:45<00:00, 74.17it/s] \n"
     ]
    },
    {
     "data": {
      "text/plain": [
       "{'Total message': 7848,\n",
       " 'Total unique message': 1142,\n",
       " 'Total users having atleast one fear speech (Fear speech users)': 2935,\n",
       " 'Total groups having atleast one fear speeach (Fear speech groups)': 950,\n",
       " 'Total languages': 4,\n",
       " 'Average number of users in Fear speech group': 89,\n",
       " 'Average number of message in Fear speech group': 1230,\n",
       " 'Average number of fear speech users  in Fear speech group': 4,\n",
       " 'Average number of fear speech in Fear speech group': 8,\n",
       " 'Average number of groups by Fear speech users': 1,\n",
       " 'Average number of fear messages by Fear speech users': 2,\n",
       " 'Average number of messages by Fear speech users': 138,\n",
       " 'Average message length of fear speech messages': 500}"
      ]
     },
     "execution_count": 50,
     "metadata": {},
     "output_type": "execute_result"
    }
   ],
   "source": [
    "data_stats(data_fear_speech,whatsapp_data)"
   ]
  },
  {
   "cell_type": "code",
   "execution_count": 53,
   "metadata": {},
   "outputs": [],
   "source": [
    "repeat_tuples=[]\n",
    "fear_speech_count=0\n",
    "for index,row in annotated_df.iterrows():\n",
    "    if(row['one_fear_speech']==1):\n",
    "        repeat_tuples.append([index,len(row['repeated']),'Fear speech'])\n",
    "        fear_speech_count+=len(row['repeated'])\n",
    "    else:\n",
    "        repeat_tuples.append([index,len(row['repeated']),'Normal'])"
   ]
  },
  {
   "cell_type": "code",
   "execution_count": 54,
   "metadata": {},
   "outputs": [],
   "source": [
    "df_repeat=pd.DataFrame(repeat_tuples,columns=['msg_id','num_repeats','label'])\n"
   ]
  },
  {
   "cell_type": "code",
   "execution_count": 58,
   "metadata": {},
   "outputs": [
    {
     "data": {
      "image/png": "[encoded data removed]",
      "text/plain": [
       "<Figure size 432x288 with 1 Axes>"
      ]
     },
     "metadata": {
      "needs_background": "light"
     },
     "output_type": "display_data"
    }
   ],
   "source": [
    "import seaborn as sns\n",
    "ax = sns.barplot(x=\"label\", y=\"num_repeats\", data=df_repeat)"
   ]
  },
  {
   "cell_type": "code",
   "execution_count": 61,
   "metadata": {},
   "outputs": [
    {
     "name": "stderr",
     "output_type": "stream",
     "text": [
      "100%|██████████| 4782/4782 [00:58<00:00, 81.36it/s] \n"
     ]
    }
   ],
   "source": [
    "num_groups_affected=[]\n",
    "for index,row in tqdm(annotated_df.iterrows(),total=len(annotated_df)):\n",
    "    pd.set_option('display.max_colwidth', 300)\n",
    "    temp=whatsapp_data[whatsapp_data['orig_index'].isin(row['repeated'])]\n",
    "    if(row['one_fear_speech']==1):\n",
    "        num_groups_affected.append([index,len(list(temp['group_id_anonymized'].unique())),'Fear speech'])\n",
    "    else:\n",
    "        num_groups_affected.append([index,len(list(temp['group_id_anonymized'].unique())),'Normal'])\n"
   ]
  },
  {
   "cell_type": "code",
   "execution_count": 62,
   "metadata": {},
   "outputs": [],
   "source": [
    "df_num_groups=pd.DataFrame(num_groups_affected,columns=['msg_id','groups affected','label'])\n",
    "ax1 = sns.barplot(x=\"label\", y=\"groups affected\", data=df_num_groups)"
   ]
  },
  {
   "cell_type": "code",
   "execution_count": 65,
   "metadata": {},
   "outputs": [
    {
     "name": "stderr",
     "output_type": "stream",
     "text": [
      "100%|██████████| 4782/4782 [00:59<00:00, 80.89it/s] \n"
     ]
    }
   ],
   "source": [
    "num_spreader=[]\n",
    "for index,row in tqdm(annotated_df.iterrows(),total=len(annotated_df)):\n",
    "    pd.set_option('display.max_colwidth', 300)\n",
    "    temp=whatsapp_data[whatsapp_data['orig_index'].isin(row['repeated'])]\n",
    "    if(row['one_fear_speech']==1):\n",
    "        num_spreader.append([index,len(list(temp['phone_num_anonymized'].unique())),'Fear speech'])\n",
    "    else:\n",
    "        num_spreader.append([index,len(list(temp['phone_num_anonymized'].unique())),'Normal'])\n"
   ]
  },
  {
   "cell_type": "code",
   "execution_count": 66,
   "metadata": {},
   "outputs": [
    {
     "data": {
      "image/png": "[encoded data removed]",
      "text/plain": [
       "<Figure size 432x288 with 1 Axes>"
      ]
     },
     "metadata": {
      "needs_background": "light"
     },
     "output_type": "display_data"
    }
   ],
   "source": [
    "df_num_users=pd.DataFrame(num_spreader,columns=['msg_id','users who spread','label'])\n",
    "ax1 = sns.barplot(x=\"label\", y=\"users who spread\", data=df_num_users)"
   ]
  },
  {
   "cell_type": "code",
   "execution_count": 75,
   "metadata": {},
   "outputs": [],
   "source": [
    "import empath"
   ]
  },
  {
   "cell_type": "code",
   "execution_count": 76,
   "metadata": {},
   "outputs": [],
   "source": [
    "from empath import Empath\n",
    "lexicon = Empath()"
   ]
  },
  {
   "cell_type": "code",
   "execution_count": 78,
   "metadata": {},
   "outputs": [
    {
     "data": {
      "text/plain": [
       "dict_keys(['help', 'office', 'dance', 'money', 'wedding', 'domestic_work', 'sleep', 'medical_emergency', 'cold', 'hate', 'cheerfulness', 'aggression', 'occupation', 'envy', 'anticipation', 'family', 'vacation', 'crime', 'attractive', 'masculine', 'prison', 'health', 'pride', 'dispute', 'nervousness', 'government', 'weakness', 'horror', 'swearing_terms', 'leisure', 'suffering', 'royalty', 'wealthy', 'tourism', 'furniture', 'school', 'magic', 'beach', 'journalism', 'morning', 'banking', 'social_media', 'exercise', 'night', 'kill', 'blue_collar_job', 'art', 'ridicule', 'play', 'computer', 'college', 'optimism', 'stealing', 'real_estate', 'home', 'divine', 'sexual', 'fear', 'irritability', 'superhero', 'business', 'driving', 'pet', 'childish', 'cooking', 'exasperation', 'religion', 'hipster', 'internet', 'surprise', 'reading', 'worship', 'leader', 'independence', 'movement', 'body', 'noise', 'eating', 'medieval', 'zest', 'confusion', 'water', 'sports', 'death', 'healing', 'legend', 'heroic', 'celebration', 'restaurant', 'violence', 'programming', 'dominant_heirarchical', 'military', 'neglect', 'swimming', 'exotic', 'love', 'hiking', 'communication', 'hearing', 'order', 'sympathy', 'hygiene', 'weather', 'anonymity', 'trust', 'ancient', 'deception', 'fabric', 'air_travel', 'fight', 'dominant_personality', 'music', 'vehicle', 'politeness', 'toy', 'farming', 'meeting', 'war', 'speaking', 'listen', 'urban', 'shopping', 'disgust', 'fire', 'tool', 'phone', 'gain', 'sound', 'injury', 'sailing', 'rage', 'science', 'work', 'appearance', 'valuable', 'warmth', 'youth', 'sadness', 'fun', 'emotional', 'joy', 'affection', 'traveling', 'fashion', 'ugliness', 'lust', 'shame', 'torment', 'economics', 'anger', 'politics', 'ship', 'clothing', 'car', 'strength', 'technology', 'breaking', 'shape_and_size', 'power', 'white_collar_job', 'animal', 'party', 'terrorism', 'smell', 'disappointment', 'poor', 'plant', 'pain', 'beauty', 'timidity', 'philosophy', 'negotiate', 'negative_emotion', 'cleaning', 'messaging', 'competing', 'law', 'friends', 'payment', 'achievement', 'alcohol', 'liquid', 'feminine', 'weapon', 'children', 'monster', 'ocean', 'giving', 'contentment', 'writing', 'rural', 'positive_emotion', 'musical'])"
      ]
     },
     "execution_count": 78,
     "metadata": {},
     "output_type": "execute_result"
    }
   ],
   "source": [
    "lexicon.cats.keys()"
   ]
  },
  {
   "cell_type": "code",
   "execution_count": 176,
   "metadata": {},
   "outputs": [],
   "source": [
    "dict_map={0:'normal',1:'fear speech'}\n",
    "\n",
    "def get_empath_categories(df,normalize=True): \n",
    "    tuples=[]\n",
    "    for index,row in df.iterrows():\n",
    "        dict_lexicon=lexicon.analyze(row['translated'], normalize=normalize)\n",
    "        try:\n",
    "            temp=dict_lexicon.values()\n",
    "        except AttributeError:\n",
    "            dict_lexicon=lexicon.analyze(\"sample text\", normalize=normalize)\n",
    "        temp=list(dict_lexicon.values())+[index,dict_map[row['one_fear_speech']]]\n",
    "        tuples.append(temp)\n",
    "    df_empath=pd.DataFrame(tuples,columns=list(dict_lexicon.keys())+['org_index','label'])\n",
    "    \n",
    "    \n",
    "    print(len(df),len(df_empath))\n",
    "    df=df.reset_index(drop=True)\n",
    "    #df_with_empath=pd.concat([df,df_empath],axis=1)\n",
    "    return df_empath\n"
   ]
  },
  {
   "cell_type": "code",
   "execution_count": 177,
   "metadata": {
    "scrolled": true
   },
   "outputs": [
    {
     "name": "stdout",
     "output_type": "stream",
     "text": [
      "4782 4782\n"
     ]
    }
   ],
   "source": [
    "annotated_df_empath=get_empath_categories(annotated_df)\n"
   ]
  },
  {
   "cell_type": "code",
   "execution_count": 179,
   "metadata": {},
   "outputs": [
    {
     "data": {
      "text/html": [
       "<div>\n",
       "<style scoped>\n",
       "    .dataframe tbody tr th:only-of-type {\n",
       "        vertical-align: middle;\n",
       "    }\n",
       "\n",
       "    .dataframe tbody tr th {\n",
       "        vertical-align: top;\n",
       "    }\n",
       "\n",
       "    .dataframe thead th {\n",
       "        text-align: right;\n",
       "    }\n",
       "</style>\n",
       "<table border=\"1\" class=\"dataframe\">\n",
       "  <thead>\n",
       "    <tr style=\"text-align: right;\">\n",
       "      <th></th>\n",
       "      <th>help</th>\n",
       "      <th>office</th>\n",
       "      <th>dance</th>\n",
       "      <th>money</th>\n",
       "      <th>wedding</th>\n",
       "      <th>domestic_work</th>\n",
       "      <th>sleep</th>\n",
       "      <th>medical_emergency</th>\n",
       "      <th>cold</th>\n",
       "      <th>hate</th>\n",
       "      <th>...</th>\n",
       "      <th>monster</th>\n",
       "      <th>ocean</th>\n",
       "      <th>giving</th>\n",
       "      <th>contentment</th>\n",
       "      <th>writing</th>\n",
       "      <th>rural</th>\n",
       "      <th>positive_emotion</th>\n",
       "      <th>musical</th>\n",
       "      <th>org_index</th>\n",
       "      <th>label</th>\n",
       "    </tr>\n",
       "  </thead>\n",
       "  <tbody>\n",
       "    <tr>\n",
       "      <th>0</th>\n",
       "      <td>0.000000</td>\n",
       "      <td>0.0</td>\n",
       "      <td>0.000000</td>\n",
       "      <td>0.000000</td>\n",
       "      <td>0.000000</td>\n",
       "      <td>0.000000</td>\n",
       "      <td>0.000000</td>\n",
       "      <td>0.000000</td>\n",
       "      <td>0.0</td>\n",
       "      <td>0.000000</td>\n",
       "      <td>...</td>\n",
       "      <td>0.000000</td>\n",
       "      <td>0.000000</td>\n",
       "      <td>0.000000</td>\n",
       "      <td>0.0</td>\n",
       "      <td>0.005587</td>\n",
       "      <td>0.000000</td>\n",
       "      <td>0.005587</td>\n",
       "      <td>0.000000</td>\n",
       "      <td>0</td>\n",
       "      <td>fear speech</td>\n",
       "    </tr>\n",
       "    <tr>\n",
       "      <th>1</th>\n",
       "      <td>0.000000</td>\n",
       "      <td>0.0</td>\n",
       "      <td>0.000000</td>\n",
       "      <td>0.000000</td>\n",
       "      <td>0.000000</td>\n",
       "      <td>0.000000</td>\n",
       "      <td>0.000000</td>\n",
       "      <td>0.024390</td>\n",
       "      <td>0.0</td>\n",
       "      <td>0.000000</td>\n",
       "      <td>...</td>\n",
       "      <td>0.000000</td>\n",
       "      <td>0.000000</td>\n",
       "      <td>0.000000</td>\n",
       "      <td>0.0</td>\n",
       "      <td>0.000000</td>\n",
       "      <td>0.000000</td>\n",
       "      <td>0.000000</td>\n",
       "      <td>0.000000</td>\n",
       "      <td>1</td>\n",
       "      <td>normal</td>\n",
       "    </tr>\n",
       "    <tr>\n",
       "      <th>2</th>\n",
       "      <td>0.000000</td>\n",
       "      <td>0.0</td>\n",
       "      <td>0.000000</td>\n",
       "      <td>0.000000</td>\n",
       "      <td>0.000000</td>\n",
       "      <td>0.000000</td>\n",
       "      <td>0.000000</td>\n",
       "      <td>0.004587</td>\n",
       "      <td>0.0</td>\n",
       "      <td>0.000000</td>\n",
       "      <td>...</td>\n",
       "      <td>0.000000</td>\n",
       "      <td>0.009174</td>\n",
       "      <td>0.004587</td>\n",
       "      <td>0.0</td>\n",
       "      <td>0.009174</td>\n",
       "      <td>0.000000</td>\n",
       "      <td>0.000000</td>\n",
       "      <td>0.000000</td>\n",
       "      <td>2</td>\n",
       "      <td>fear speech</td>\n",
       "    </tr>\n",
       "    <tr>\n",
       "      <th>3</th>\n",
       "      <td>0.000000</td>\n",
       "      <td>0.0</td>\n",
       "      <td>0.000000</td>\n",
       "      <td>0.052632</td>\n",
       "      <td>0.000000</td>\n",
       "      <td>0.000000</td>\n",
       "      <td>0.000000</td>\n",
       "      <td>0.000000</td>\n",
       "      <td>0.0</td>\n",
       "      <td>0.000000</td>\n",
       "      <td>...</td>\n",
       "      <td>0.000000</td>\n",
       "      <td>0.000000</td>\n",
       "      <td>0.000000</td>\n",
       "      <td>0.0</td>\n",
       "      <td>0.000000</td>\n",
       "      <td>0.000000</td>\n",
       "      <td>0.000000</td>\n",
       "      <td>0.000000</td>\n",
       "      <td>3</td>\n",
       "      <td>normal</td>\n",
       "    </tr>\n",
       "    <tr>\n",
       "      <th>4</th>\n",
       "      <td>0.008787</td>\n",
       "      <td>0.0</td>\n",
       "      <td>0.001757</td>\n",
       "      <td>0.001757</td>\n",
       "      <td>0.000000</td>\n",
       "      <td>0.001757</td>\n",
       "      <td>0.000000</td>\n",
       "      <td>0.000000</td>\n",
       "      <td>0.0</td>\n",
       "      <td>0.000000</td>\n",
       "      <td>...</td>\n",
       "      <td>0.000000</td>\n",
       "      <td>0.001757</td>\n",
       "      <td>0.001757</td>\n",
       "      <td>0.0</td>\n",
       "      <td>0.001757</td>\n",
       "      <td>0.000000</td>\n",
       "      <td>0.008787</td>\n",
       "      <td>0.001757</td>\n",
       "      <td>4</td>\n",
       "      <td>normal</td>\n",
       "    </tr>\n",
       "    <tr>\n",
       "      <th>...</th>\n",
       "      <td>...</td>\n",
       "      <td>...</td>\n",
       "      <td>...</td>\n",
       "      <td>...</td>\n",
       "      <td>...</td>\n",
       "      <td>...</td>\n",
       "      <td>...</td>\n",
       "      <td>...</td>\n",
       "      <td>...</td>\n",
       "      <td>...</td>\n",
       "      <td>...</td>\n",
       "      <td>...</td>\n",
       "      <td>...</td>\n",
       "      <td>...</td>\n",
       "      <td>...</td>\n",
       "      <td>...</td>\n",
       "      <td>...</td>\n",
       "      <td>...</td>\n",
       "      <td>...</td>\n",
       "      <td>...</td>\n",
       "      <td>...</td>\n",
       "    </tr>\n",
       "    <tr>\n",
       "      <th>4777</th>\n",
       "      <td>0.008889</td>\n",
       "      <td>0.0</td>\n",
       "      <td>0.000000</td>\n",
       "      <td>0.000000</td>\n",
       "      <td>0.000000</td>\n",
       "      <td>0.000000</td>\n",
       "      <td>0.000000</td>\n",
       "      <td>0.000000</td>\n",
       "      <td>0.0</td>\n",
       "      <td>0.004444</td>\n",
       "      <td>...</td>\n",
       "      <td>0.000000</td>\n",
       "      <td>0.000000</td>\n",
       "      <td>0.006667</td>\n",
       "      <td>0.0</td>\n",
       "      <td>0.004444</td>\n",
       "      <td>0.000000</td>\n",
       "      <td>0.004444</td>\n",
       "      <td>0.000000</td>\n",
       "      <td>5333</td>\n",
       "      <td>normal</td>\n",
       "    </tr>\n",
       "    <tr>\n",
       "      <th>4778</th>\n",
       "      <td>0.000000</td>\n",
       "      <td>0.0</td>\n",
       "      <td>0.000000</td>\n",
       "      <td>0.000000</td>\n",
       "      <td>0.000000</td>\n",
       "      <td>0.010101</td>\n",
       "      <td>0.000000</td>\n",
       "      <td>0.000000</td>\n",
       "      <td>0.0</td>\n",
       "      <td>0.020202</td>\n",
       "      <td>...</td>\n",
       "      <td>0.000000</td>\n",
       "      <td>0.000000</td>\n",
       "      <td>0.000000</td>\n",
       "      <td>0.0</td>\n",
       "      <td>0.000000</td>\n",
       "      <td>0.000000</td>\n",
       "      <td>0.000000</td>\n",
       "      <td>0.000000</td>\n",
       "      <td>5334</td>\n",
       "      <td>fear speech</td>\n",
       "    </tr>\n",
       "    <tr>\n",
       "      <th>4779</th>\n",
       "      <td>0.000000</td>\n",
       "      <td>0.0</td>\n",
       "      <td>0.000000</td>\n",
       "      <td>0.000000</td>\n",
       "      <td>0.000000</td>\n",
       "      <td>0.000000</td>\n",
       "      <td>0.000000</td>\n",
       "      <td>0.000000</td>\n",
       "      <td>0.0</td>\n",
       "      <td>0.000000</td>\n",
       "      <td>...</td>\n",
       "      <td>0.000000</td>\n",
       "      <td>0.000000</td>\n",
       "      <td>0.000000</td>\n",
       "      <td>0.0</td>\n",
       "      <td>0.019231</td>\n",
       "      <td>0.000000</td>\n",
       "      <td>0.000000</td>\n",
       "      <td>0.000000</td>\n",
       "      <td>5335</td>\n",
       "      <td>normal</td>\n",
       "    </tr>\n",
       "    <tr>\n",
       "      <th>4780</th>\n",
       "      <td>0.002732</td>\n",
       "      <td>0.0</td>\n",
       "      <td>0.000000</td>\n",
       "      <td>0.008197</td>\n",
       "      <td>0.000000</td>\n",
       "      <td>0.005464</td>\n",
       "      <td>0.002732</td>\n",
       "      <td>0.000000</td>\n",
       "      <td>0.0</td>\n",
       "      <td>0.000000</td>\n",
       "      <td>...</td>\n",
       "      <td>0.000000</td>\n",
       "      <td>0.000000</td>\n",
       "      <td>0.008197</td>\n",
       "      <td>0.0</td>\n",
       "      <td>0.000000</td>\n",
       "      <td>0.000000</td>\n",
       "      <td>0.002732</td>\n",
       "      <td>0.005464</td>\n",
       "      <td>5336</td>\n",
       "      <td>fear speech</td>\n",
       "    </tr>\n",
       "    <tr>\n",
       "      <th>4781</th>\n",
       "      <td>0.000729</td>\n",
       "      <td>0.0</td>\n",
       "      <td>0.000000</td>\n",
       "      <td>0.000000</td>\n",
       "      <td>0.001458</td>\n",
       "      <td>0.001458</td>\n",
       "      <td>0.000000</td>\n",
       "      <td>0.000000</td>\n",
       "      <td>0.0</td>\n",
       "      <td>0.000000</td>\n",
       "      <td>...</td>\n",
       "      <td>0.000729</td>\n",
       "      <td>0.000000</td>\n",
       "      <td>0.002915</td>\n",
       "      <td>0.0</td>\n",
       "      <td>0.009475</td>\n",
       "      <td>0.001458</td>\n",
       "      <td>0.004373</td>\n",
       "      <td>0.000729</td>\n",
       "      <td>5337</td>\n",
       "      <td>normal</td>\n",
       "    </tr>\n",
       "  </tbody>\n",
       "</table>\n",
       "<p>4782 rows × 196 columns</p>\n",
       "</div>"
      ],
      "text/plain": [
       "          help  office     dance     money   wedding  domestic_work     sleep  \\\n",
       "0     0.000000     0.0  0.000000  0.000000  0.000000       0.000000  0.000000   \n",
       "1     0.000000     0.0  0.000000  0.000000  0.000000       0.000000  0.000000   \n",
       "2     0.000000     0.0  0.000000  0.000000  0.000000       0.000000  0.000000   \n",
       "3     0.000000     0.0  0.000000  0.052632  0.000000       0.000000  0.000000   \n",
       "4     0.008787     0.0  0.001757  0.001757  0.000000       0.001757  0.000000   \n",
       "...        ...     ...       ...       ...       ...            ...       ...   \n",
       "4777  0.008889     0.0  0.000000  0.000000  0.000000       0.000000  0.000000   \n",
       "4778  0.000000     0.0  0.000000  0.000000  0.000000       0.010101  0.000000   \n",
       "4779  0.000000     0.0  0.000000  0.000000  0.000000       0.000000  0.000000   \n",
       "4780  0.002732     0.0  0.000000  0.008197  0.000000       0.005464  0.002732   \n",
       "4781  0.000729     0.0  0.000000  0.000000  0.001458       0.001458  0.000000   \n",
       "\n",
       "      medical_emergency  cold      hate  ...   monster     ocean    giving  \\\n",
       "0              0.000000   0.0  0.000000  ...  0.000000  0.000000  0.000000   \n",
       "1              0.024390   0.0  0.000000  ...  0.000000  0.000000  0.000000   \n",
       "2              0.004587   0.0  0.000000  ...  0.000000  0.009174  0.004587   \n",
       "3              0.000000   0.0  0.000000  ...  0.000000  0.000000  0.000000   \n",
       "4              0.000000   0.0  0.000000  ...  0.000000  0.001757  0.001757   \n",
       "...                 ...   ...       ...  ...       ...       ...       ...   \n",
       "4777           0.000000   0.0  0.004444  ...  0.000000  0.000000  0.006667   \n",
       "4778           0.000000   0.0  0.020202  ...  0.000000  0.000000  0.000000   \n",
       "4779           0.000000   0.0  0.000000  ...  0.000000  0.000000  0.000000   \n",
       "4780           0.000000   0.0  0.000000  ...  0.000000  0.000000  0.008197   \n",
       "4781           0.000000   0.0  0.000000  ...  0.000729  0.000000  0.002915   \n",
       "\n",
       "      contentment   writing     rural  positive_emotion   musical  org_index  \\\n",
       "0             0.0  0.005587  0.000000          0.005587  0.000000          0   \n",
       "1             0.0  0.000000  0.000000          0.000000  0.000000          1   \n",
       "2             0.0  0.009174  0.000000          0.000000  0.000000          2   \n",
       "3             0.0  0.000000  0.000000          0.000000  0.000000          3   \n",
       "4             0.0  0.001757  0.000000          0.008787  0.001757          4   \n",
       "...           ...       ...       ...               ...       ...        ...   \n",
       "4777          0.0  0.004444  0.000000          0.004444  0.000000       5333   \n",
       "4778          0.0  0.000000  0.000000          0.000000  0.000000       5334   \n",
       "4779          0.0  0.019231  0.000000          0.000000  0.000000       5335   \n",
       "4780          0.0  0.000000  0.000000          0.002732  0.005464       5336   \n",
       "4781          0.0  0.009475  0.001458          0.004373  0.000729       5337   \n",
       "\n",
       "            label  \n",
       "0     fear speech  \n",
       "1          normal  \n",
       "2     fear speech  \n",
       "3          normal  \n",
       "4          normal  \n",
       "...           ...  \n",
       "4777       normal  \n",
       "4778  fear speech  \n",
       "4779       normal  \n",
       "4780  fear speech  \n",
       "4781       normal  \n",
       "\n",
       "[4782 rows x 196 columns]"
      ]
     },
     "execution_count": 179,
     "metadata": {},
     "output_type": "execute_result"
    }
   ],
   "source": [
    "annotated_df_empath"
   ]
  },
  {
   "cell_type": "code",
   "execution_count": 180,
   "metadata": {},
   "outputs": [],
   "source": [
    "annotated_df_empath = pd.melt(annotated_df_empath,id_vars=\"label\",var_name=\"category\", value_name=\"normalized_value\")\n"
   ]
  },
  {
   "cell_type": "code",
   "execution_count": 181,
   "metadata": {},
   "outputs": [
    {
     "data": {
      "text/html": [
       "<div>\n",
       "<style scoped>\n",
       "    .dataframe tbody tr th:only-of-type {\n",
       "        vertical-align: middle;\n",
       "    }\n",
       "\n",
       "    .dataframe tbody tr th {\n",
       "        vertical-align: top;\n",
       "    }\n",
       "\n",
       "    .dataframe thead th {\n",
       "        text-align: right;\n",
       "    }\n",
       "</style>\n",
       "<table border=\"1\" class=\"dataframe\">\n",
       "  <thead>\n",
       "    <tr style=\"text-align: right;\">\n",
       "      <th></th>\n",
       "      <th>label</th>\n",
       "      <th>category</th>\n",
       "      <th>normalized_value</th>\n",
       "    </tr>\n",
       "  </thead>\n",
       "  <tbody>\n",
       "    <tr>\n",
       "      <th>0</th>\n",
       "      <td>fear speech</td>\n",
       "      <td>help</td>\n",
       "      <td>0.000000</td>\n",
       "    </tr>\n",
       "    <tr>\n",
       "      <th>1</th>\n",
       "      <td>normal</td>\n",
       "      <td>help</td>\n",
       "      <td>0.000000</td>\n",
       "    </tr>\n",
       "    <tr>\n",
       "      <th>2</th>\n",
       "      <td>fear speech</td>\n",
       "      <td>help</td>\n",
       "      <td>0.000000</td>\n",
       "    </tr>\n",
       "    <tr>\n",
       "      <th>3</th>\n",
       "      <td>normal</td>\n",
       "      <td>help</td>\n",
       "      <td>0.000000</td>\n",
       "    </tr>\n",
       "    <tr>\n",
       "      <th>4</th>\n",
       "      <td>normal</td>\n",
       "      <td>help</td>\n",
       "      <td>0.008787</td>\n",
       "    </tr>\n",
       "  </tbody>\n",
       "</table>\n",
       "</div>"
      ],
      "text/plain": [
       "         label category  normalized_value\n",
       "0  fear speech     help          0.000000\n",
       "1       normal     help          0.000000\n",
       "2  fear speech     help          0.000000\n",
       "3       normal     help          0.000000\n",
       "4       normal     help          0.008787"
      ]
     },
     "execution_count": 181,
     "metadata": {},
     "output_type": "execute_result"
    }
   ],
   "source": [
    "annotated_df_empath=annotated_df_empath[annotated_df_empath['category']!='org_index']\n",
    "annotated_df_empath.head()"
   ]
  },
  {
   "cell_type": "code",
   "execution_count": 190,
   "metadata": {},
   "outputs": [
    {
     "data": {
      "image/png": "[encoded data removed]",
      "text/plain": [
       "<Figure size 432x288 with 1 Axes>"
      ]
     },
     "metadata": {
      "needs_background": "light"
     },
     "output_type": "display_data"
    }
   ],
   "source": [
    "temp=annotated_df_empath[annotated_df_empath['category'].isin(['disappointment','heroic','suffering','zest','disgust','deception','terrorism'])]\n",
    "font = {\n",
    "    'weight' : 'normal',\n",
    "    'size'   : 11}\n",
    "g = sns.barplot(x=\"category\", y=\"normalized_value\",hue=\"label\",data=temp)\n",
    "#g=add_values(g,df_admin,15,order_list)\n",
    "#plt.ylabel('number of groups as admin')\n",
    "g.set_xticklabels(\n",
    "        g.get_xticklabels(), \n",
    "        rotation=45, \n",
    "        horizontalalignment='right',\n",
    "        fontweight='normal',\n",
    "        fontsize='medium'\n",
    "\n",
    "    )\n",
    "    \n",
    "plt.show()\n",
    "#plt.savefig('../Whatsapp_Results/admin_chracterisation_whole_groups.pdf',bbox_inches='tight',dpi=400)"
   ]
  },
  {
   "cell_type": "code",
   "execution_count": 80,
   "metadata": {},
   "outputs": [
    {
     "name": "stderr",
     "output_type": "stream",
     "text": [
      "\n",
      "  0%|          | 0/1142 [00:00<?, ?it/s]\u001b[A\n",
      "100%|██████████| 1142/1142 [00:00<00:00, 76812.84it/s]\u001b[A\n",
      "  0%|          | 0/3640 [00:00<?, ?it/s]\u001b[A\n",
      "100%|██████████| 3640/3640 [00:00<00:00, 55771.24it/s]\u001b[A"
     ]
    }
   ],
   "source": [
    "dict_fear_speech=get_empath_categories(annotated_df[annotated_df['one_fear_speech']==1])\n",
    "dict_not_fear_speech=get_empath_categories(annotated_df[annotated_df['one_fear_speech']==0])\n"
   ]
  },
  {
   "cell_type": "code",
   "execution_count": 81,
   "metadata": {},
   "outputs": [],
   "source": [
    "list_all=[]\n",
    "for key in ['violence','fear','crime','hate','aggression','weapon','negative_emotion']:\n",
    "    list_all.append((dict_fear_speech[key],key,'fear speech'))\n",
    "    list_all.append((dict_not_fear_speech[key],key,'not fear speech'))\n"
   ]
  },
  {
   "cell_type": "code",
   "execution_count": 89,
   "metadata": {},
   "outputs": [],
   "source": [
    "import matplotlib.pyplot as plt\n",
    "\n",
    "def plotmultibar(lists,x_axis,y_axis,category,title=None,to_save=False):\n",
    "    \n",
    "    df=pd.DataFrame(lists,columns=[x_axis,y_axis,category])\n",
    "    print(df.head(5))\n",
    "    ax = sns.barplot(x=y_axis, y=x_axis,hue=category,data=df,orient=\"v\",palette=\"bright\")\n",
    "    ax.set_xticklabels(\n",
    "        ax.get_xticklabels(), \n",
    "        rotation=45, \n",
    "        horizontalalignment='right',\n",
    "        fontweight='normal',\n",
    "        fontsize='medium'\n",
    "\n",
    "    )\n",
    "    \n",
    "    \n",
    "    if(to_save==True):\n",
    "        fig = ax.get_figure()\n",
    "        plt.tight_layout()\n",
    "        plt.savefig('Results/'+title+'.jpg',bbox='tight',dpi=400)\n",
    "    else:\n",
    "        plt.show()"
   ]
  },
  {
   "cell_type": "code",
   "execution_count": 90,
   "metadata": {},
   "outputs": [
    {
     "name": "stdout",
     "output_type": "stream",
     "text": [
      "   empath value empath category             type\n",
      "0      0.004252        violence      fear speech\n",
      "1      0.002527        violence  not fear speech\n",
      "2      0.001220            fear      fear speech\n",
      "3      0.000915            fear  not fear speech\n",
      "4      0.005880           crime      fear speech\n"
     ]
    },
    {
     "data": {
      "image/png": "[encoded data removed]",
      "text/plain": [
       "<Figure size 432x288 with 1 Axes>"
      ]
     },
     "metadata": {
      "needs_background": "light"
     },
     "output_type": "display_data"
    }
   ],
   "source": [
    "plotmultibar(list_all,'empath value','empath category','type',title='fear speech vs not fear speech',to_save=False)"
   ]
  },
  {
   "cell_type": "code",
   "execution_count": 192,
   "metadata": {},
   "outputs": [],
   "source": [
    "annotated_df[annotated_df['one_fear_speech']==1][['translated']].to_csv('Fear_speech_translated.csv')"
   ]
  },
  {
   "cell_type": "code",
   "execution_count": null,
   "metadata": {},
   "outputs": [],
   "source": []
  }
 ],
 "metadata": {
  "kernelspec": {
   "display_name": "Python [conda env:.conda-punyajoy_gpu] *",
   "language": "python",
   "name": "conda-env-.conda-punyajoy_gpu-py"
  },
  "language_info": {
   "codemirror_mode": {
    "name": "ipython",
    "version": 3
   },
   "file_extension": ".py",
   "mimetype": "text/x-python",
   "name": "python",
   "nbconvert_exporter": "python",
   "pygments_lexer": "ipython3",
   "version": "3.7.3"
  }
 },
 "nbformat": 4,
 "nbformat_minor": 4
}
