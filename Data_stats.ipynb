{
 "cells": [
  {
   "cell_type": "code",
   "execution_count": 3,
   "metadata": {},
   "outputs": [
    {
     "name": "stdout",
     "output_type": "stream",
     "text": [
      "The autoreload extension is already loaded. To reload it, use:\n",
      "  %reload_ext autoreload\n"
     ]
    }
   ],
   "source": [
    "parent_path='../Data/New_Data_15-06-2020/'\n",
    "%load_ext autoreload\n",
    "%autoreload 2\n",
    "import parmap\n",
    "import pandas as pd\n",
    "from tqdm import tqdm,tqdm_notebook\n",
    "from utils.marking_similars import *\n",
    "from utils.preprocess import *\n",
    "import seaborn as sns\n",
    "\n",
    "from utils.visualisation import *\n",
    "import matplotlib.pyplot as plt\n",
    "from numpy.random import seed\n",
    "from numpy.random import randn\n",
    "from scipy.stats import mannwhitneyu\n",
    "# seed the random number generator\n",
    "seed(1)"
   ]
  },
  {
   "cell_type": "code",
   "execution_count": 4,
   "metadata": {},
   "outputs": [],
   "source": [
    "whatsapp_data=pd.read_csv(parent_path+'Data_text_spam_removed_v02_hi_en.csv')\n",
    "temp=whatsapp_data[['group_id_anonymized','phone_num_anonymized','message_text','timestamp']]\n",
    "duplicateDFRow = temp[temp.duplicated()]\n",
    "whatsapp_data=whatsapp_data.drop(list(duplicateDFRow.index))"
   ]
  },
  {
   "cell_type": "code",
   "execution_count": null,
   "metadata": {},
   "outputs": [],
   "source": [
    "#whatsapp_data.to_csv(parent_path+'Data_text_spam_removed_v02_hi_en.csv',index=False)"
   ]
  },
  {
   "cell_type": "code",
   "execution_count": null,
   "metadata": {},
   "outputs": [],
   "source": [
    "from langdetect import detect\n",
    "from langdetect import DetectorFactory\n",
    "\n",
    "DetectorFactory.seed = 0\n",
    "\n",
    "def add_language(df):\n",
    "    language= []\n",
    "    for index, row in tqdm(df.iterrows(), total=len(df)):\n",
    "        try:\n",
    "            lang=detect(row[\"message_text\"])\n",
    "            language.append(lang)\n",
    "        except:\n",
    "            language.append('unk')\n",
    "\n",
    "    df[\"language\"] = language\n",
    "    return df\n",
    "\n",
    "n_process=30\n",
    "\n",
    "\n",
    "df_split = np.array_split(whatsapp_data, n_process)\n",
    "list_all = parmap.map(add_language, df_split,pm_processes=n_process,pm_pbar=True)\n",
    "whatsapp_data=pd.concat(list_all,axis=0)\n"
   ]
  },
  {
   "cell_type": "code",
   "execution_count": null,
   "metadata": {},
   "outputs": [],
   "source": [
    "whatsapp_data=whatsapp_data.sort_values('timestamp')\n",
    "start_time=whatsapp_data.iloc[0]['timestamp']\n",
    "end_time=whatsapp_data.iloc[-1]['timestamp']\n"
   ]
  },
  {
   "cell_type": "code",
   "execution_count": null,
   "metadata": {
    "scrolled": true
   },
   "outputs": [],
   "source": [
    "whatsapp_data=whatsapp_data[whatsapp_data['language'].isin(['hi','en'])]\n",
    "whatsapp_data"
   ]
  },
  {
   "cell_type": "code",
   "execution_count": null,
   "metadata": {},
   "outputs": [],
   "source": [
    "n_process=30\n",
    "params_preprocess={'remove_numbers': True, 'remove_emoji': True, 'remove_stop_words': False, 'tokenize': True}\n",
    "\n",
    "def preprocess_split(df):\n",
    "    preprocessed_sents=[preprocess_sent(ele,params=params_preprocess) for ele in df['message_text']]\n",
    "    df['preprocessed']=preprocessed_sents\n",
    "    return df\n",
    "\n",
    "\n",
    "\n",
    "def data_stats_whole(df):\n",
    "    df_grouped=df.groupby('group_id_anonymized')\n",
    "    \n",
    "    df_users=df.groupby('phone_num_anonymized')\n",
    "    user_per_group=df.groupby('group_id_anonymized').phone_num_anonymized.nunique()\n",
    "    ###average_user\n",
    "    average_user =0\n",
    "    for user in user_per_group.items():\n",
    "        average_user+=user[1]\n",
    "    average_user/= len(df_grouped)\n",
    "    ###average_message\n",
    "    average_message=0\n",
    "    for group in df_grouped.groups.keys():\n",
    "        average_message+=len(df_grouped.get_group(group))\n",
    "    average_message/= len(df_grouped)   \n",
    "    \n",
    "    ###average message length in chars\n",
    "    df_split = np.array_split(df, n_process)\n",
    "    list_all = parmap.map(preprocess_split, df_split,pm_processes=n_process,pm_pbar=True)\n",
    "    df=pd.concat(list_all,axis=0)\n",
    "    \n",
    "    sum1=0\n",
    "    for index,row in tqdm(df.iterrows(),total=df.shape[0]):\n",
    "        sum1+=len(row['preprocessed'])\n",
    "    average_message_length= sum1/len(df)  \n",
    "    \n",
    "    \n",
    "    \n",
    "    dict1={}\n",
    "    dict1[\"Total dataset\"]=len(df)\n",
    "    dict1[\"Total groups\"]=len(df_grouped)\n",
    "    dict1[\"Total users\"]=len(df_users)\n",
    "    dict1[\"Total languages\"]=len(df.groupby('language'))\n",
    "    dict1[\"Average number of user per group\"]=int(average_user)\n",
    "    dict1[\"Avg number of messages per group\"]=int(average_message)\n",
    "    dict1[\"Unique users in total\"]=int(len(df['phone_num_anonymized'].unique()))\n",
    "    dict1[\"Average message length in chracters per group\"]=int(average_message_length)\n",
    "    return dict1\n",
    "\n",
    "\n",
    "\n",
    "data_stats_whole(whatsapp_data)"
   ]
  },
  {
   "cell_type": "code",
   "execution_count": null,
   "metadata": {},
   "outputs": [],
   "source": [
    "thresh_to_consider = 0.8\n",
    "signature_obj=Signature(10)\n",
    "\n",
    "\n",
    "def remove_duplicates_within(sample_df):\n",
    "    sample_df=signature_obj.add_signatures(sample_df)\n",
    "    id_done=0\n",
    "    duplicate={}\n",
    "    row_repeated=[]\n",
    "    for index,row in tqdm(sample_df.iterrows(),total=len(sample_df)):\n",
    "        \n",
    "        id_done+=1\n",
    "        try:\n",
    "            temp_dupl=duplicate[index]\n",
    "            continue\n",
    "        except KeyError:\n",
    "            temp_repeated=row['repeated']\n",
    "            temp=sample_df[id_done:]\n",
    "            for index1,row1 in temp.iterrows():\n",
    "                try:\n",
    "                    temp_dupl=duplicate[index]\n",
    "                    continue\n",
    "                except KeyError:\n",
    "                    signature1=row['signatures']\n",
    "                    signature2=row1['signatures']\n",
    "                    count=0\n",
    "                    for k in range(0, signature_obj.numHashes):\n",
    "                        count = count + (signature1[k] == signature2[k])\n",
    "                    # add to tuple similar if greater than thresh    \n",
    "                    if((count/signature_obj.numHashes)>thresh_to_consider):\n",
    "                        duplicate[index1]=1\n",
    "                        temp_repeated+=row1['repeated']\n",
    "            temp_repeated=list(set(temp_repeated))\n",
    "            row_repeated.append(temp_repeated)\n",
    "    sample_df=sample_df.drop(list(duplicate.keys()))\n",
    "    sample_df['repeated']=row_repeated\n",
    "    return sample_df"
   ]
  },
  {
   "cell_type": "code",
   "execution_count": 5,
   "metadata": {},
   "outputs": [
    {
     "ename": "NameError",
     "evalue": "name 'remove_duplicates_within' is not defined",
     "output_type": "error",
     "traceback": [
      "\u001b[0;31m---------------------------------------------------------------------------\u001b[0m",
      "\u001b[0;31mNameError\u001b[0m                                 Traceback (most recent call last)",
      "\u001b[0;32m<ipython-input-5-d97e01d1fa30>\u001b[0m in \u001b[0;36m<module>\u001b[0;34m\u001b[0m\n\u001b[1;32m      1\u001b[0m \u001b[0mannotated_df\u001b[0m\u001b[0;34m=\u001b[0m\u001b[0mpd\u001b[0m\u001b[0;34m.\u001b[0m\u001b[0mread_pickle\u001b[0m\u001b[0;34m(\u001b[0m\u001b[0mparent_path\u001b[0m\u001b[0;34m+\u001b[0m\u001b[0;34m'Fearspeech_data.pkl'\u001b[0m\u001b[0;34m)\u001b[0m\u001b[0;34m\u001b[0m\u001b[0;34m\u001b[0m\u001b[0m\n\u001b[0;32m----> 2\u001b[0;31m \u001b[0mannotated_df\u001b[0m\u001b[0;34m=\u001b[0m\u001b[0mremove_duplicates_within\u001b[0m\u001b[0;34m(\u001b[0m\u001b[0mannotated_df\u001b[0m\u001b[0;34m)\u001b[0m\u001b[0;34m\u001b[0m\u001b[0;34m\u001b[0m\u001b[0m\n\u001b[0m",
      "\u001b[0;31mNameError\u001b[0m: name 'remove_duplicates_within' is not defined"
     ]
    }
   ],
   "source": [
    "annotated_df=pd.read_pickle(parent_path+'Fearspeech_data.pkl')\n",
    "annotated_df=remove_duplicates_within(annotated_df)"
   ]
  },
  {
   "cell_type": "code",
   "execution_count": null,
   "metadata": {},
   "outputs": [],
   "source": [
    "import numpy as np\n",
    "\n",
    "countrepeat_list=[]\n",
    "count_missing=0\n",
    "for index,row in annotated_df.iterrows():\n",
    "    if(len(row['repeated'])>0):\n",
    "        countrepeat_list.append(len(row['repeated']))\n",
    "    else:\n",
    "        countrepeat_list.append(0)\n",
    "        count_missing+=1\n",
    "annotated_df['times_repeated']=countrepeat_list"
   ]
  },
  {
   "cell_type": "code",
   "execution_count": null,
   "metadata": {},
   "outputs": [],
   "source": [
    "annotated_df=annotated_df[annotated_df['times_repeated']>0]"
   ]
  },
  {
   "cell_type": "code",
   "execution_count": 10,
   "metadata": {},
   "outputs": [],
   "source": [
    "annotated_df=pd.read_pickle(parent_path+'Fearspeech_data_final.pkl')\n",
    "\n",
    "#silver_df=pd.read_pickle(parent_path+'Fearspeech_data_silver.pkl')\n",
    "\n",
    "\n",
    "#annotated_df=pd.concat([annotated_df,silver_df])"
   ]
  },
  {
   "cell_type": "code",
   "execution_count": 11,
   "metadata": {},
   "outputs": [
    {
     "data": {
      "text/html": [
       "<div>\n",
       "<style scoped>\n",
       "    .dataframe tbody tr th:only-of-type {\n",
       "        vertical-align: middle;\n",
       "    }\n",
       "\n",
       "    .dataframe tbody tr th {\n",
       "        vertical-align: top;\n",
       "    }\n",
       "\n",
       "    .dataframe thead th {\n",
       "        text-align: right;\n",
       "    }\n",
       "</style>\n",
       "<table border=\"1\" class=\"dataframe\">\n",
       "  <thead>\n",
       "    <tr style=\"text-align: right;\">\n",
       "      <th></th>\n",
       "      <th>Annotation1</th>\n",
       "      <th>Annotation2</th>\n",
       "      <th>Annotation3</th>\n",
       "      <th>User1</th>\n",
       "      <th>User2</th>\n",
       "      <th>User3</th>\n",
       "      <th>forwarded</th>\n",
       "      <th>group_id_anonymized</th>\n",
       "      <th>group_type</th>\n",
       "      <th>hindu_keyword_count</th>\n",
       "      <th>...</th>\n",
       "      <th>pred_probab</th>\n",
       "      <th>preds</th>\n",
       "      <th>repeated</th>\n",
       "      <th>timestamp</th>\n",
       "      <th>tokenized</th>\n",
       "      <th>translated</th>\n",
       "      <th>unique_ids</th>\n",
       "      <th>signatures</th>\n",
       "      <th>one_fear_speech</th>\n",
       "      <th>times_repeated</th>\n",
       "    </tr>\n",
       "  </thead>\n",
       "  <tbody>\n",
       "    <tr>\n",
       "      <th>0</th>\n",
       "      <td>Fear speech</td>\n",
       "      <td>Fear speech</td>\n",
       "      <td>Normal</td>\n",
       "      <td>Adarsh</td>\n",
       "      <td>Yuvraj</td>\n",
       "      <td>Vineeth</td>\n",
       "      <td>1.0</td>\n",
       "      <td>7.0</td>\n",
       "      <td>BJP</td>\n",
       "      <td>1.0</td>\n",
       "      <td>...</td>\n",
       "      <td>0.030909</td>\n",
       "      <td>0.0</td>\n",
       "      <td>[26904.0, 5559349.0]</td>\n",
       "      <td>1.550186e+12</td>\n",
       "      <td>[प्रशासक, समिति, raised_fist, triangular_flag,...</td>\n",
       "      <td>* Administrator ✊ 🚩   Committee * ● ●●●●●●●●●●...</td>\n",
       "      <td>[bf7a79ae-f605-4b16-86a8-0fab7d1d8dc8, 8dff263...</td>\n",
       "      <td>[190121731, 83544920, 6727897, 5326334, 582284...</td>\n",
       "      <td>1</td>\n",
       "      <td>2</td>\n",
       "    </tr>\n",
       "    <tr>\n",
       "      <th>1</th>\n",
       "      <td>Normal</td>\n",
       "      <td>Normal</td>\n",
       "      <td>Normal</td>\n",
       "      <td>Adarsh</td>\n",
       "      <td>Yuvraj</td>\n",
       "      <td>Vineeth</td>\n",
       "      <td>1.0</td>\n",
       "      <td>7.0</td>\n",
       "      <td>BJP</td>\n",
       "      <td>1.0</td>\n",
       "      <td>...</td>\n",
       "      <td>0.004815</td>\n",
       "      <td>0.0</td>\n",
       "      <td>[5722016.0, 6275453.0, 3841610.0, 4591312.0, 2...</td>\n",
       "      <td>1.550921e+12</td>\n",
       "      <td>[हैदराबाद, की, मक्का, मस्जिद, में, ब्लास्ट, मर...</td>\n",
       "      <td>Blast 16 killed and 100 injured in Hyderabad's...</td>\n",
       "      <td>[7ee2ce95-7967-4514-ad12-e082cd80d994, 0511697...</td>\n",
       "      <td>[92668893, 116132756, 243624917, 380133676, 37...</td>\n",
       "      <td>0</td>\n",
       "      <td>11</td>\n",
       "    </tr>\n",
       "    <tr>\n",
       "      <th>2</th>\n",
       "      <td>Fear speech</td>\n",
       "      <td>Fear speech</td>\n",
       "      <td>Normal</td>\n",
       "      <td>Divyanshu</td>\n",
       "      <td>Adarsh</td>\n",
       "      <td>Vineeth</td>\n",
       "      <td>1.0</td>\n",
       "      <td>51.0</td>\n",
       "      <td>BJP</td>\n",
       "      <td>0.0</td>\n",
       "      <td>...</td>\n",
       "      <td>0.684925</td>\n",
       "      <td>1.0</td>\n",
       "      <td>[913665.0, 2533382.0, 2649481.0, 2700434.0, 52...</td>\n",
       "      <td>1.551149e+12</td>\n",
       "      <td>[(, ), ``, इस्लाम, धर्म, नहीं, एक, मानसिक, रोग...</td>\n",
       "      <td>* (1) - \"Islam is not a religion but a mental ...</td>\n",
       "      <td>[90bc3ab7-0148-4761-9756-d54592a270b2, 9b89d01...</td>\n",
       "      <td>[105464831, 5566639, 22142976, 16806931, 15938...</td>\n",
       "      <td>1</td>\n",
       "      <td>20</td>\n",
       "    </tr>\n",
       "    <tr>\n",
       "      <th>3</th>\n",
       "      <td>Fear speech</td>\n",
       "      <td>Normal</td>\n",
       "      <td>Normal</td>\n",
       "      <td>Divyanshu</td>\n",
       "      <td>Sharat</td>\n",
       "      <td>Kukkadapu</td>\n",
       "      <td>1.0</td>\n",
       "      <td>30.0</td>\n",
       "      <td>BJP</td>\n",
       "      <td>0.0</td>\n",
       "      <td>...</td>\n",
       "      <td>0.055631</td>\n",
       "      <td>0.0</td>\n",
       "      <td>[89540.0]</td>\n",
       "      <td>1.551532e+12</td>\n",
       "      <td>[पाकिस्तान, से, अधिक, तो, जमातएइस्लामी, के, सं...</td>\n",
       "      <td>Jamaat-e-Islami has more resources than Pakist...</td>\n",
       "      <td>[e230abbc-1869-4614-852c-e9d2f34b2a0a, 14946c4...</td>\n",
       "      <td>[229503663, 85790611, 18620710, 210381345, 158...</td>\n",
       "      <td>0</td>\n",
       "      <td>1</td>\n",
       "    </tr>\n",
       "    <tr>\n",
       "      <th>4</th>\n",
       "      <td>Normal</td>\n",
       "      <td>Normal</td>\n",
       "      <td>Fear speech</td>\n",
       "      <td>Sharat</td>\n",
       "      <td>Adarsh</td>\n",
       "      <td>Vineeth</td>\n",
       "      <td>1.0</td>\n",
       "      <td>75.0</td>\n",
       "      <td>BJP</td>\n",
       "      <td>13.0</td>\n",
       "      <td>...</td>\n",
       "      <td>0.014175</td>\n",
       "      <td>0.0</td>\n",
       "      <td>[4997140.0, 4995610.0, 1023004.0, 4463133.0, 1...</td>\n",
       "      <td>1.552123e+12</td>\n",
       "      <td>[शहरी, नक्सलवाद, माओवाद, ।, बस, एक, निवेदन, पढ...</td>\n",
       "      <td>Urban Naxalism Maoism. Just a request… start r...</td>\n",
       "      <td>[96f6b93f-a84e-43fb-bfdc-7082c2f75a59, e3b7d48...</td>\n",
       "      <td>[17345458, 310604, 13898869, 9356552, 91665, 6...</td>\n",
       "      <td>0</td>\n",
       "      <td>128</td>\n",
       "    </tr>\n",
       "    <tr>\n",
       "      <th>...</th>\n",
       "      <td>...</td>\n",
       "      <td>...</td>\n",
       "      <td>...</td>\n",
       "      <td>...</td>\n",
       "      <td>...</td>\n",
       "      <td>...</td>\n",
       "      <td>...</td>\n",
       "      <td>...</td>\n",
       "      <td>...</td>\n",
       "      <td>...</td>\n",
       "      <td>...</td>\n",
       "      <td>...</td>\n",
       "      <td>...</td>\n",
       "      <td>...</td>\n",
       "      <td>...</td>\n",
       "      <td>...</td>\n",
       "      <td>...</td>\n",
       "      <td>...</td>\n",
       "      <td>...</td>\n",
       "      <td>...</td>\n",
       "      <td>...</td>\n",
       "    </tr>\n",
       "    <tr>\n",
       "      <th>5333</th>\n",
       "      <td>Fear speech</td>\n",
       "      <td>Normal</td>\n",
       "      <td>Normal</td>\n",
       "      <td>Divyanshu</td>\n",
       "      <td>Kukkadapu</td>\n",
       "      <td>Yuvraj</td>\n",
       "      <td>1.0</td>\n",
       "      <td>9860.0</td>\n",
       "      <td>HINDU</td>\n",
       "      <td>13.0</td>\n",
       "      <td>...</td>\n",
       "      <td>0.910150</td>\n",
       "      <td>1.0</td>\n",
       "      <td>[6241993.0]</td>\n",
       "      <td>1.538751e+12</td>\n",
       "      <td>[हिन्दुओं, से, बेशर्म, कोई, जाति, पूरा, पढ़े, ...</td>\n",
       "      <td>I also apologize to the Hindus for the shamele...</td>\n",
       "      <td>[6f2e361b-3a44-423a-acce-9b0f32b40c7a, 60bd983...</td>\n",
       "      <td>[23152460, 10641181, 13654549, 391627, 8115877...</td>\n",
       "      <td>0</td>\n",
       "      <td>1</td>\n",
       "    </tr>\n",
       "    <tr>\n",
       "      <th>5334</th>\n",
       "      <td>Fear speech</td>\n",
       "      <td>Fear speech</td>\n",
       "      <td>Fear speech</td>\n",
       "      <td>Kukkadapu</td>\n",
       "      <td>Yuvraj</td>\n",
       "      <td>Vineeth</td>\n",
       "      <td>65.0</td>\n",
       "      <td>9860.0</td>\n",
       "      <td>HINDU</td>\n",
       "      <td>2.0</td>\n",
       "      <td>...</td>\n",
       "      <td>0.976954</td>\n",
       "      <td>1.0</td>\n",
       "      <td>[6242185.0]</td>\n",
       "      <td>1.532956e+12</td>\n",
       "      <td>[अब, भी, नही, जागे, तो, मधेपुरा, पूर्णिया, में...</td>\n",
       "      <td>Even if you do not wake up, then in Madhepura ...</td>\n",
       "      <td>[c2ba87ff-c661-464f-8312-b1d6ee69698f, ec96a32...</td>\n",
       "      <td>[2364716, 37555518, 44045896, 72009804, 329955...</td>\n",
       "      <td>1</td>\n",
       "      <td>1</td>\n",
       "    </tr>\n",
       "    <tr>\n",
       "      <th>5335</th>\n",
       "      <td>Normal</td>\n",
       "      <td>Normal</td>\n",
       "      <td>Fear speech</td>\n",
       "      <td>Divyanshu</td>\n",
       "      <td>Kukkadapu</td>\n",
       "      <td>Vineeth</td>\n",
       "      <td>1.0</td>\n",
       "      <td>252.0</td>\n",
       "      <td>BJP</td>\n",
       "      <td>3.0</td>\n",
       "      <td>...</td>\n",
       "      <td>0.961367</td>\n",
       "      <td>1.0</td>\n",
       "      <td>[6257600.0]</td>\n",
       "      <td>1.544080e+12</td>\n",
       "      <td>[इतिहास, का, सबसे, बड़ा, छल, हिंदुओं, के, साथ,...</td>\n",
       "      <td>The biggest trick of history happened to Hindu...</td>\n",
       "      <td>[98f83e20-3480-4af8-bb6c-6f40707010f9, fb13e8d...</td>\n",
       "      <td>[258028782, 179495400, 41236862, 4270146, 3634...</td>\n",
       "      <td>0</td>\n",
       "      <td>1</td>\n",
       "    </tr>\n",
       "    <tr>\n",
       "      <th>5336</th>\n",
       "      <td>Fear speech</td>\n",
       "      <td>Fear speech</td>\n",
       "      <td>Normal</td>\n",
       "      <td>Kukkadapu</td>\n",
       "      <td>Yuvraj</td>\n",
       "      <td>Vineeth</td>\n",
       "      <td>1.0</td>\n",
       "      <td>4532.0</td>\n",
       "      <td>BJP</td>\n",
       "      <td>11.0</td>\n",
       "      <td>...</td>\n",
       "      <td>0.937534</td>\n",
       "      <td>1.0</td>\n",
       "      <td>[6269592.0]</td>\n",
       "      <td>1.562183e+12</td>\n",
       "      <td>[फिर, कहते, हैं, #, राममन्दिर, नहीं, बना, ____...</td>\n",
       "      <td>Then it says #Ramandir is not made ___________...</td>\n",
       "      <td>[461a69c9-b8e7-4d86-9e22-f759ab5a2847, 45cb633...</td>\n",
       "      <td>[134021, 9506925, 7050110, 953206, 11604874, 8...</td>\n",
       "      <td>1</td>\n",
       "      <td>1</td>\n",
       "    </tr>\n",
       "    <tr>\n",
       "      <th>5337</th>\n",
       "      <td>Normal</td>\n",
       "      <td>Normal</td>\n",
       "      <td>Normal</td>\n",
       "      <td>Kukkadapu</td>\n",
       "      <td>Yuvraj</td>\n",
       "      <td>Vineeth</td>\n",
       "      <td>64.0</td>\n",
       "      <td>885.0</td>\n",
       "      <td>DOUBT</td>\n",
       "      <td>0.0</td>\n",
       "      <td>...</td>\n",
       "      <td>0.953176</td>\n",
       "      <td>1.0</td>\n",
       "      <td>[6295385.0]</td>\n",
       "      <td>1.533184e+12</td>\n",
       "      <td>[उर्दू, हिन्दुस्तान, के, देशभक्त, क्रांतिकारिय...</td>\n",
       "      <td>* Urdu is the tongue of the patriotic revoluti...</td>\n",
       "      <td>[9b1a034f-b097-41db-a09a-3f68f4d29f2c, b029340...</td>\n",
       "      <td>[941746, 11457407, 2689117, 832168, 902678, 39...</td>\n",
       "      <td>0</td>\n",
       "      <td>1</td>\n",
       "    </tr>\n",
       "  </tbody>\n",
       "</table>\n",
       "<p>4782 rows × 30 columns</p>\n",
       "</div>"
      ],
      "text/plain": [
       "      Annotation1  Annotation2  Annotation3      User1      User2      User3  \\\n",
       "0     Fear speech  Fear speech       Normal     Adarsh     Yuvraj    Vineeth   \n",
       "1          Normal       Normal       Normal     Adarsh     Yuvraj    Vineeth   \n",
       "2     Fear speech  Fear speech       Normal  Divyanshu     Adarsh    Vineeth   \n",
       "3     Fear speech       Normal       Normal  Divyanshu     Sharat  Kukkadapu   \n",
       "4          Normal       Normal  Fear speech     Sharat     Adarsh    Vineeth   \n",
       "...           ...          ...          ...        ...        ...        ...   \n",
       "5333  Fear speech       Normal       Normal  Divyanshu  Kukkadapu     Yuvraj   \n",
       "5334  Fear speech  Fear speech  Fear speech  Kukkadapu     Yuvraj    Vineeth   \n",
       "5335       Normal       Normal  Fear speech  Divyanshu  Kukkadapu    Vineeth   \n",
       "5336  Fear speech  Fear speech       Normal  Kukkadapu     Yuvraj    Vineeth   \n",
       "5337       Normal       Normal       Normal  Kukkadapu     Yuvraj    Vineeth   \n",
       "\n",
       "      forwarded  group_id_anonymized group_type  hindu_keyword_count  ...  \\\n",
       "0           1.0                  7.0        BJP                  1.0  ...   \n",
       "1           1.0                  7.0        BJP                  1.0  ...   \n",
       "2           1.0                 51.0        BJP                  0.0  ...   \n",
       "3           1.0                 30.0        BJP                  0.0  ...   \n",
       "4           1.0                 75.0        BJP                 13.0  ...   \n",
       "...         ...                  ...        ...                  ...  ...   \n",
       "5333        1.0               9860.0      HINDU                 13.0  ...   \n",
       "5334       65.0               9860.0      HINDU                  2.0  ...   \n",
       "5335        1.0                252.0        BJP                  3.0  ...   \n",
       "5336        1.0               4532.0        BJP                 11.0  ...   \n",
       "5337       64.0                885.0      DOUBT                  0.0  ...   \n",
       "\n",
       "      pred_probab preds                                           repeated  \\\n",
       "0        0.030909   0.0                               [26904.0, 5559349.0]   \n",
       "1        0.004815   0.0  [5722016.0, 6275453.0, 3841610.0, 4591312.0, 2...   \n",
       "2        0.684925   1.0  [913665.0, 2533382.0, 2649481.0, 2700434.0, 52...   \n",
       "3        0.055631   0.0                                          [89540.0]   \n",
       "4        0.014175   0.0  [4997140.0, 4995610.0, 1023004.0, 4463133.0, 1...   \n",
       "...           ...   ...                                                ...   \n",
       "5333     0.910150   1.0                                        [6241993.0]   \n",
       "5334     0.976954   1.0                                        [6242185.0]   \n",
       "5335     0.961367   1.0                                        [6257600.0]   \n",
       "5336     0.937534   1.0                                        [6269592.0]   \n",
       "5337     0.953176   1.0                                        [6295385.0]   \n",
       "\n",
       "         timestamp                                          tokenized  \\\n",
       "0     1.550186e+12  [प्रशासक, समिति, raised_fist, triangular_flag,...   \n",
       "1     1.550921e+12  [हैदराबाद, की, मक्का, मस्जिद, में, ब्लास्ट, मर...   \n",
       "2     1.551149e+12  [(, ), ``, इस्लाम, धर्म, नहीं, एक, मानसिक, रोग...   \n",
       "3     1.551532e+12  [पाकिस्तान, से, अधिक, तो, जमातएइस्लामी, के, सं...   \n",
       "4     1.552123e+12  [शहरी, नक्सलवाद, माओवाद, ।, बस, एक, निवेदन, पढ...   \n",
       "...            ...                                                ...   \n",
       "5333  1.538751e+12  [हिन्दुओं, से, बेशर्म, कोई, जाति, पूरा, पढ़े, ...   \n",
       "5334  1.532956e+12  [अब, भी, नही, जागे, तो, मधेपुरा, पूर्णिया, में...   \n",
       "5335  1.544080e+12  [इतिहास, का, सबसे, बड़ा, छल, हिंदुओं, के, साथ,...   \n",
       "5336  1.562183e+12  [फिर, कहते, हैं, #, राममन्दिर, नहीं, बना, ____...   \n",
       "5337  1.533184e+12  [उर्दू, हिन्दुस्तान, के, देशभक्त, क्रांतिकारिय...   \n",
       "\n",
       "                                             translated  \\\n",
       "0     * Administrator ✊ 🚩   Committee * ● ●●●●●●●●●●...   \n",
       "1     Blast 16 killed and 100 injured in Hyderabad's...   \n",
       "2     * (1) - \"Islam is not a religion but a mental ...   \n",
       "3     Jamaat-e-Islami has more resources than Pakist...   \n",
       "4     Urban Naxalism Maoism. Just a request… start r...   \n",
       "...                                                 ...   \n",
       "5333  I also apologize to the Hindus for the shamele...   \n",
       "5334  Even if you do not wake up, then in Madhepura ...   \n",
       "5335  The biggest trick of history happened to Hindu...   \n",
       "5336  Then it says #Ramandir is not made ___________...   \n",
       "5337  * Urdu is the tongue of the patriotic revoluti...   \n",
       "\n",
       "                                             unique_ids  \\\n",
       "0     [bf7a79ae-f605-4b16-86a8-0fab7d1d8dc8, 8dff263...   \n",
       "1     [7ee2ce95-7967-4514-ad12-e082cd80d994, 0511697...   \n",
       "2     [90bc3ab7-0148-4761-9756-d54592a270b2, 9b89d01...   \n",
       "3     [e230abbc-1869-4614-852c-e9d2f34b2a0a, 14946c4...   \n",
       "4     [96f6b93f-a84e-43fb-bfdc-7082c2f75a59, e3b7d48...   \n",
       "...                                                 ...   \n",
       "5333  [6f2e361b-3a44-423a-acce-9b0f32b40c7a, 60bd983...   \n",
       "5334  [c2ba87ff-c661-464f-8312-b1d6ee69698f, ec96a32...   \n",
       "5335  [98f83e20-3480-4af8-bb6c-6f40707010f9, fb13e8d...   \n",
       "5336  [461a69c9-b8e7-4d86-9e22-f759ab5a2847, 45cb633...   \n",
       "5337  [9b1a034f-b097-41db-a09a-3f68f4d29f2c, b029340...   \n",
       "\n",
       "                                             signatures  one_fear_speech  \\\n",
       "0     [190121731, 83544920, 6727897, 5326334, 582284...                1   \n",
       "1     [92668893, 116132756, 243624917, 380133676, 37...                0   \n",
       "2     [105464831, 5566639, 22142976, 16806931, 15938...                1   \n",
       "3     [229503663, 85790611, 18620710, 210381345, 158...                0   \n",
       "4     [17345458, 310604, 13898869, 9356552, 91665, 6...                0   \n",
       "...                                                 ...              ...   \n",
       "5333  [23152460, 10641181, 13654549, 391627, 8115877...                0   \n",
       "5334  [2364716, 37555518, 44045896, 72009804, 329955...                1   \n",
       "5335  [258028782, 179495400, 41236862, 4270146, 3634...                0   \n",
       "5336  [134021, 9506925, 7050110, 953206, 11604874, 8...                1   \n",
       "5337  [941746, 11457407, 2689117, 832168, 902678, 39...                0   \n",
       "\n",
       "      times_repeated  \n",
       "0                  2  \n",
       "1                 11  \n",
       "2                 20  \n",
       "3                  1  \n",
       "4                128  \n",
       "...              ...  \n",
       "5333               1  \n",
       "5334               1  \n",
       "5335               1  \n",
       "5336               1  \n",
       "5337               1  \n",
       "\n",
       "[4782 rows x 30 columns]"
      ]
     },
     "execution_count": 11,
     "metadata": {},
     "output_type": "execute_result"
    }
   ],
   "source": [
    "annotated_df"
   ]
  },
  {
   "cell_type": "code",
   "execution_count": 12,
   "metadata": {},
   "outputs": [
    {
     "name": "stderr",
     "output_type": "stream",
     "text": [
      "100%|██████████| 4782/4782 [00:00<00:00, 12122.82it/s]\n"
     ]
    }
   ],
   "source": [
    "all_fear_speech_index=[]\n",
    "all_normal_index=[]\n",
    "\n",
    "count_fearspeech=0\n",
    "count_normal=0\n",
    "\n",
    "for index,row in tqdm(annotated_df.iterrows(),total=len(annotated_df)):\n",
    "    if(row['one_fear_speech']==1):\n",
    "        count_fearspeech+=1\n",
    "        all_fear_speech_index+=row['repeated']\n",
    "    elif(row['one_fear_speech']==0):\n",
    "        count_normal+=1\n",
    "        all_normal_index+=row['repeated']\n",
    "\n",
    "data_fear_speech=whatsapp_data[whatsapp_data['orig_index'].isin(all_fear_speech_index)]\n",
    "data_normal=whatsapp_data[whatsapp_data['orig_index'].isin(all_normal_index)]\n"
   ]
  },
  {
   "cell_type": "code",
   "execution_count": 13,
   "metadata": {},
   "outputs": [
    {
     "data": {
      "text/plain": [
       "(1.0, 0.4980392156862745, 0.054901960784313725)"
      ]
     },
     "execution_count": 13,
     "metadata": {},
     "output_type": "execute_result"
    }
   ],
   "source": [
    "sns.color_palette()[1]"
   ]
  },
  {
   "cell_type": "code",
   "execution_count": 14,
   "metadata": {},
   "outputs": [
    {
     "name": "stderr",
     "output_type": "stream",
     "text": [
      "100%|██████████| 4782/4782 [00:32<00:00, 146.83it/s]\n"
     ]
    }
   ],
   "source": [
    "all_fear_speech_pairs=[]\n",
    "all_normal_pairs=[]\n",
    "\n",
    "\n",
    "for index,row in tqdm(annotated_df.iterrows(),total=len(annotated_df)):\n",
    "    if(row['one_fear_speech']==1):\n",
    "        data_fear_speech=whatsapp_data[whatsapp_data['orig_index'].isin(row['repeated'])]\n",
    "        if(len(data_fear_speech)==0):\n",
    "            continue\n",
    "        sample=data_fear_speech.sample(min(len(data_fear_speech),3))\n",
    "        \n",
    "        \n",
    "        for index1,row1 in sample.iterrows():\n",
    "            all_fear_speech_pairs.append([row['message_text'],row1['message_text']])\n",
    "    elif(row['one_fear_speech']==0):\n",
    "        data_normal=whatsapp_data[whatsapp_data['orig_index'].isin(row['repeated'])]\n",
    "        if(len(data_normal)==0):\n",
    "            continue\n",
    "        sample=data_normal.sample(min(len(data_normal),3))\n",
    "                \n",
    "        for index1,row1 in sample.iterrows():\n",
    "            all_normal_pairs.append([row['message_text'],row1['message_text']])\n",
    "\n"
   ]
  },
  {
   "cell_type": "code",
   "execution_count": 15,
   "metadata": {},
   "outputs": [],
   "source": [
    "with open('duplicate_pair_binny.txt', 'w') as f:\n",
    "    for item in random.sample(all_normal_pairs,50):\n",
    "        f.write(\"====================Start=======================\\n\")\n",
    "        f.write(\"*************Original*********\\n\")\n",
    "        f.write(\"%s\\n\" % item[0])\n",
    "        f.write(\"*************Duplicate found*********\\n\")\n",
    "        f.write(\"%s\\n\" % item[1])\n",
    "        \n",
    "        \n",
    "with open('duplicate_pair_punyajoy.txt', 'w') as f:        \n",
    "    for item in random.sample(all_fear_speech_pairs,50):\n",
    "        f.write(\"====================Start=======================\\n\")\n",
    "        f.write(\"*************Original*********\\n\")\n",
    "        f.write(\"%s\\n\" % item[0])\n",
    "        f.write(\"*************Duplicate found*********\\n\")\n",
    "        f.write(\"%s\\n\" % item[1])\n"
   ]
  },
  {
   "cell_type": "code",
   "execution_count": null,
   "metadata": {},
   "outputs": [],
   "source": []
  },
  {
   "cell_type": "code",
   "execution_count": null,
   "metadata": {},
   "outputs": [],
   "source": []
  },
  {
   "cell_type": "code",
   "execution_count": null,
   "metadata": {},
   "outputs": [],
   "source": [
    "len(data_fear_speech)"
   ]
  },
  {
   "cell_type": "code",
   "execution_count": null,
   "metadata": {},
   "outputs": [],
   "source": []
  },
  {
   "cell_type": "code",
   "execution_count": 16,
   "metadata": {
    "scrolled": true
   },
   "outputs": [
    {
     "name": "stdout",
     "output_type": "stream",
     "text": [
      "Fear speech: 1142\n",
      "Normal: 3640\n"
     ]
    }
   ],
   "source": [
    "print(\"Fear speech:\",len(annotated_df[annotated_df['one_fear_speech']==1]))\n",
    "print(\"Normal:\",len(annotated_df[annotated_df['one_fear_speech']==0]))"
   ]
  },
  {
   "cell_type": "code",
   "execution_count": 17,
   "metadata": {},
   "outputs": [],
   "source": [
    "def data_stats(df,whatsapp_data):\n",
    "    df_groups=df.group_id_anonymized.unique()\n",
    "   \n",
    "    average_user_per_group= 0\n",
    "    for group in df_groups:\n",
    "        number_of_users=whatsapp_data[whatsapp_data['group_id_anonymized']==group].phone_num_anonymized.nunique()\n",
    "        average_user_per_group+=number_of_users\n",
    "    average_user_per_group/= len(df_groups)\n",
    "    \n",
    "    average_message_per_group= 0\n",
    "    for group in df_groups:\n",
    "        num_of_messages=len(whatsapp_data[whatsapp_data['group_id_anonymized']==group])\n",
    "        average_message_per_group+=num_of_messages\n",
    "    average_message_per_group/= len(df_groups)\n",
    "    \n",
    "    average_fear_user_per_group= 0\n",
    "    for group in df_groups:\n",
    "        number_of_users=df[df['group_id_anonymized']==group].phone_num_anonymized.nunique()\n",
    "        average_fear_user_per_group+=number_of_users\n",
    "    average_fear_user_per_group/= len(df_groups)\n",
    "    \n",
    "    average_fear_message_per_group= 0\n",
    "    for group in df_groups:\n",
    "        num_of_messages=len(df[df['group_id_anonymized']==group])\n",
    "        average_fear_message_per_group+=num_of_messages\n",
    "    average_fear_message_per_group/= len(df_groups)\n",
    "    \n",
    "    df_users=df.phone_num_anonymized.unique()\n",
    "    \n",
    "    avg_number_group_per_users=0\n",
    "    for user in df_users:\n",
    "        number_of_users=whatsapp_data[whatsapp_data['phone_num_anonymized']==user].group_id_anonymized.nunique()\n",
    "        avg_number_group_per_users+=number_of_users\n",
    "    avg_number_group_per_users/=len(df_users)\n",
    "    \n",
    "    \n",
    "    average_fear_message_per_user= 0\n",
    "    for user in df_users:\n",
    "        num_of_messages=len(df[df['phone_num_anonymized']==user])\n",
    "        average_fear_message_per_user+=num_of_messages\n",
    "    average_fear_message_per_user/= len(df_users)\n",
    "    \n",
    "    average_message_per_user= 0\n",
    "    for user in df_users:\n",
    "        num_of_messages=len(whatsapp_data[whatsapp_data['phone_num_anonymized']==user])\n",
    "        average_message_per_user+=num_of_messages\n",
    "    average_message_per_user/= len(df_users)\n",
    "\n",
    "    ###average message length in chars\n",
    "    sum1=0\n",
    "    for index,row in tqdm(df.iterrows(),total=df.shape[0]):\n",
    "        sum1+=len(preprocess_sent(row[\"message_text\"],params={'remove_numbers': True, 'remove_emoji': True, 'remove_stop_words': False, 'tokenize': True}))\n",
    "    average_message_length= sum1/len(df)\n",
    "        \n",
    "    \n",
    "    dict1={}\n",
    "    \n",
    "    dict1[\"Total message\"]=len(df)\n",
    "    dict1[\"Total unique message\"]=len(annotated_df[annotated_df['one_fear_speech']==1])\n",
    "    dict1[\"Total users having atleast one fear speech (Fear speech users)\"]=len(df_users)\n",
    "    dict1[\"Total groups having atleast one fear speeach (Fear speech groups)\"]=len(df_groups)\n",
    "    dict1[\"Total languages\"]=len(df.groupby('language'))\n",
    "    dict1[\"Average number of users in Fear speech group\"]=int(average_user_per_group)\n",
    "    dict1[\"Average number of message in Fear speech group\"]=int(average_message_per_group)\n",
    "    dict1[\"Average number of fear speech users  in Fear speech group\"]=int(average_fear_user_per_group)\n",
    "    dict1[\"Average number of fear speech in Fear speech group\"]=int(average_fear_message_per_group)\n",
    "    dict1[\"Average number of groups by Fear speech users\"]=int(avg_number_group_per_users)\n",
    "    dict1[\"Average number of fear messages by Fear speech users\"]=int(average_fear_message_per_user)\n",
    "    dict1[\"Average number of messages by Fear speech users\"]=int(average_message_per_user)\n",
    "    dict1[\"Average message length of fear speech messages\"]=int(average_message_length)\n",
    "    return dict1"
   ]
  },
  {
   "cell_type": "code",
   "execution_count": 18,
   "metadata": {},
   "outputs": [
    {
     "name": "stderr",
     "output_type": "stream",
     "text": [
      "100%|██████████| 1/1 [00:00<00:00, 13.29it/s]\n"
     ]
    },
    {
     "data": {
      "text/plain": [
       "{'Total message': 1,\n",
       " 'Total unique message': 1142,\n",
       " 'Total users having atleast one fear speech (Fear speech users)': 1,\n",
       " 'Total groups having atleast one fear speeach (Fear speech groups)': 1,\n",
       " 'Total languages': 1,\n",
       " 'Average number of users in Fear speech group': 43,\n",
       " 'Average number of message in Fear speech group': 288,\n",
       " 'Average number of fear speech users  in Fear speech group': 1,\n",
       " 'Average number of fear speech in Fear speech group': 1,\n",
       " 'Average number of groups by Fear speech users': 1,\n",
       " 'Average number of fear messages by Fear speech users': 1,\n",
       " 'Average number of messages by Fear speech users': 33,\n",
       " 'Average message length of fear speech messages': 1408}"
      ]
     },
     "execution_count": 18,
     "metadata": {},
     "output_type": "execute_result"
    }
   ],
   "source": [
    "data_stats(data_normal,whatsapp_data)"
   ]
  },
  {
   "cell_type": "code",
   "execution_count": 19,
   "metadata": {},
   "outputs": [],
   "source": [
    "repeat_tuples=[]\n",
    "fear_speech_count=0\n",
    "for index,row in annotated_df.iterrows():\n",
    "    if(row['one_fear_speech']==1):\n",
    "        repeat_tuples.append([index,len(row['repeated']),'Fear speech'])\n",
    "        fear_speech_count+=len(row['repeated'])\n",
    "    else:\n",
    "        repeat_tuples.append([index,len(row['repeated']),'Non Fear speech'])"
   ]
  },
  {
   "cell_type": "code",
   "execution_count": 20,
   "metadata": {},
   "outputs": [],
   "source": [
    "df_repeat=pd.DataFrame(repeat_tuples,columns=['msg_id','num_repeats','label'])\n"
   ]
  },
  {
   "cell_type": "code",
   "execution_count": 21,
   "metadata": {},
   "outputs": [
    {
     "name": "stdout",
     "output_type": "stream",
     "text": [
      "Statistics=1909643.000, p=0.00001\n",
      "Different distribution (reject H0)\n"
     ]
    }
   ],
   "source": [
    "# generate two independent samples\n",
    "# compare samples\n",
    "stat, p = mannwhitneyu(df_repeat[df_repeat['label']=='Fear speech'].num_repeats, df_repeat[df_repeat['label']=='Non Fear speech'].num_repeats)\n",
    "print('Statistics=%.3f, p=%.5f' % (stat, p))\n",
    "# interpret\n",
    "alpha = 0.05\n",
    "if p > alpha:\n",
    "\tprint('Same distribution (fail to reject H0)')\n",
    "else:\n",
    "\tprint('Different distribution (reject H0)')"
   ]
  },
  {
   "cell_type": "code",
   "execution_count": 22,
   "metadata": {},
   "outputs": [
    {
     "data": {
      "image/png": "[encoded data removed]",
      "text/plain": [
       "<Figure size 360x360 with 1 Axes>"
      ]
     },
     "metadata": {},
     "output_type": "display_data"
    }
   ],
   "source": [
    "matplotlib.rcParams['figure.figsize'] = (5, 5)\n",
    "\n",
    "#     'weight' : 'normal',\n",
    "#     'size'   : 15}\n",
    "# matplotlib.rc('font', **font)\n",
    "#data_timeline.plot()\n",
    "sns.set(context='paper',style='white',font_scale=1.5)\n",
    "\n",
    "font = {\n",
    "    'weight' : 'normal',\n",
    "    'size'   : 11}\n",
    "ax = sns.barplot(x=\"label\", y=\"num_repeats\", data=df_repeat)\n",
    "#g=add_values(g,df_admin,15,order_list)\n",
    "plt.savefig('../Fear_speech_results/number_of_repeats.pdf',bbox_inches='tight',dpi=400)"
   ]
  },
  {
   "cell_type": "code",
   "execution_count": 23,
   "metadata": {},
   "outputs": [
    {
     "name": "stderr",
     "output_type": "stream",
     "text": [
      "100%|██████████| 4782/4782 [00:30<00:00, 156.76it/s]\n"
     ]
    }
   ],
   "source": [
    "num_groups_affected=[]\n",
    "for index,row in tqdm(annotated_df.iterrows(),total=len(annotated_df)):\n",
    "    pd.set_option('display.max_colwidth', 300)\n",
    "    temp=whatsapp_data[whatsapp_data['orig_index'].isin(row['repeated'])]\n",
    "    if(row['one_fear_speech']==1):\n",
    "        num_groups_affected.append([index,len(list(temp['group_id_anonymized'].unique())),'Fear speech'])\n",
    "    else:\n",
    "        num_groups_affected.append([index,len(list(temp['group_id_anonymized'].unique())),'Non Fear speech'])\n"
   ]
  },
  {
   "cell_type": "code",
   "execution_count": 24,
   "metadata": {},
   "outputs": [
    {
     "name": "stdout",
     "output_type": "stream",
     "text": [
      "Statistics=1851753.000, p=0.0000000028\n",
      "Different distribution (reject H0)\n"
     ]
    }
   ],
   "source": [
    "df_num_groups=pd.DataFrame(num_groups_affected,columns=['msg_id','groups_affected','label'])\n",
    "\n",
    "# generate two independent samples\n",
    "# compare samples\n",
    "stat, p = mannwhitneyu(df_num_groups[df_num_groups['label']=='Fear speech'].groups_affected, df_num_groups[df_num_groups['label']=='Non Fear speech'].groups_affected)\n",
    "print('Statistics=%.3f, p=%.10f' % (stat, p))\n",
    "# interpret\n",
    "alpha = 0.05\n",
    "if p > alpha:\n",
    "\tprint('Same distribution (fail to reject H0)')\n",
    "else:\n",
    "\tprint('Different distribution (reject H0)')"
   ]
  },
  {
   "cell_type": "code",
   "execution_count": 25,
   "metadata": {},
   "outputs": [
    {
     "data": {
      "image/png": "[encoded data removed]",
      "text/plain": [
       "<Figure size 360x360 with 1 Axes>"
      ]
     },
     "metadata": {},
     "output_type": "display_data"
    }
   ],
   "source": [
    "matplotlib.rcParams['figure.figsize'] = (5, 5)\n",
    "\n",
    "#     'weight' : 'normal',\n",
    "#     'size'   : 15}\n",
    "# matplotlib.rc('font', **font)\n",
    "#data_timeline.plot()\n",
    "sns.set(context='paper',style='white',font_scale=1.5)\n",
    "\n",
    "font = {\n",
    "    'weight' : 'normal',\n",
    "    'size'   : 11}\n",
    "ax1 = sns.barplot(x=\"label\", y=\"groups_affected\", data=df_num_groups)#g=add_values(g,df_admin,15,order_list)\n",
    "plt.savefig('../Fear_speech_results/groups_affected.pdf',bbox_inches='tight',dpi=400)\n"
   ]
  },
  {
   "cell_type": "code",
   "execution_count": 26,
   "metadata": {},
   "outputs": [
    {
     "name": "stderr",
     "output_type": "stream",
     "text": [
      "100%|██████████| 4782/4782 [00:31<00:00, 150.44it/s]\n"
     ]
    }
   ],
   "source": [
    "num_spreader=[]\n",
    "for index,row in tqdm(annotated_df.iterrows(),total=len(annotated_df)):\n",
    "    pd.set_option('display.max_colwidth', 300)\n",
    "    temp=whatsapp_data[whatsapp_data['orig_index'].isin(row['repeated'])]\n",
    "    temp=temp.sort_values('timestamp')\n",
    "    try:\n",
    "        days_active= (temp.iloc[len(temp)-1]['timestamp'] - temp.iloc[0]['timestamp'])/(60*60*24*1000)\n",
    "    except:\n",
    "        days_active=0\n",
    "    \n",
    "    \n",
    "    if(row['one_fear_speech']==1):\n",
    "        num_spreader.append([index,days_active,'Fear speech'])\n",
    "    else:\n",
    "        num_spreader.append([index,days_active,'Non Fear speech'])\n"
   ]
  },
  {
   "cell_type": "code",
   "execution_count": 27,
   "metadata": {},
   "outputs": [
    {
     "name": "stdout",
     "output_type": "stream",
     "text": [
      "Statistics=1844714.000, p=0.0000000008\n",
      "Different distribution (reject H0)\n"
     ]
    }
   ],
   "source": [
    "df_active=pd.DataFrame(num_spreader,columns=['msg_id','days_active','label'])\n",
    "\n",
    "\n",
    "# generate two independent samples\n",
    "# compare samples\n",
    "stat, p = mannwhitneyu(df_active[df_active['label']=='Fear speech'].days_active, df_active[df_active['label']=='Non Fear speech'].days_active)\n",
    "print('Statistics=%.3f, p=%.10f' % (stat, p))\n",
    "# interpret\n",
    "alpha = 0.05\n",
    "if p > alpha:\n",
    "\tprint('Same distribution (fail to reject H0)')\n",
    "else:\n",
    "\tprint('Different distribution (reject H0)')"
   ]
  },
  {
   "cell_type": "code",
   "execution_count": 28,
   "metadata": {},
   "outputs": [
    {
     "data": {
      "image/png": "[encoded data removed]",
      "text/plain": [
       "<Figure size 360x360 with 1 Axes>"
      ]
     },
     "metadata": {},
     "output_type": "display_data"
    }
   ],
   "source": [
    "matplotlib.rcParams['figure.figsize'] = (5, 5)\n",
    "\n",
    "#     'weight' : 'normal',\n",
    "#     'size'   : 15}\n",
    "# matplotlib.rc('font', **font)\n",
    "#data_timeline.plot()\n",
    "sns.set(context='paper',style='white',font_scale=1.5)\n",
    "\n",
    "font = {\n",
    "    'weight' : 'normal',\n",
    "    'size'   : 11}\n",
    "ax1 = sns.barplot(x=\"label\", y=\"days_active\", data=df_active)\n",
    "plt.savefig('../Fear_speech_results/number_of_days_active.pdf',bbox_inches='tight',dpi=400)\n",
    "\n"
   ]
  },
  {
   "cell_type": "code",
   "execution_count": 29,
   "metadata": {},
   "outputs": [
    {
     "name": "stderr",
     "output_type": "stream",
     "text": [
      "100%|██████████| 4782/4782 [00:30<00:00, 157.31it/s]\n"
     ]
    }
   ],
   "source": [
    "num_spreader=[]\n",
    "for index,row in tqdm(annotated_df.iterrows(),total=len(annotated_df)):\n",
    "    pd.set_option('display.max_colwidth', 300)\n",
    "    temp=whatsapp_data[whatsapp_data['orig_index'].isin(row['repeated'])]\n",
    "    if(row['one_fear_speech']==1):\n",
    "        num_spreader.append([index,len(list(temp['phone_num_anonymized'].unique())),'Fear speech'])\n",
    "    else:\n",
    "        num_spreader.append([index,len(list(temp['phone_num_anonymized'].unique())),'Non Fear speech'])\n"
   ]
  },
  {
   "cell_type": "code",
   "execution_count": 30,
   "metadata": {},
   "outputs": [
    {
     "name": "stdout",
     "output_type": "stream",
     "text": [
      "Statistics=1798503.500, p=0.0000000000\n",
      "Different distribution (reject H0)\n"
     ]
    }
   ],
   "source": [
    "df_num_users=pd.DataFrame(num_spreader,columns=['msg_id','users_who_spread','label'])\n",
    "\n",
    "# generate two independent samples\n",
    "# compare samples\n",
    "stat, p = mannwhitneyu(df_num_users[df_num_users['label']=='Fear speech'].users_who_spread, df_num_users[df_num_users['label']=='Non Fear speech'].users_who_spread)\n",
    "print('Statistics=%.3f, p=%.10f' % (stat, p))\n",
    "# interpret\n",
    "alpha = 0.05\n",
    "if p > alpha:\n",
    "\tprint('Same distribution (fail to reject H0)')\n",
    "else:\n",
    "\tprint('Different distribution (reject H0)')\n",
    "    \n",
    "    "
   ]
  },
  {
   "cell_type": "code",
   "execution_count": 31,
   "metadata": {},
   "outputs": [
    {
     "data": {
      "image/png": "[encoded data removed]",
      "text/plain": [
       "<Figure size 360x360 with 1 Axes>"
      ]
     },
     "metadata": {},
     "output_type": "display_data"
    }
   ],
   "source": [
    "matplotlib.rcParams['figure.figsize'] = (5, 5)\n",
    "\n",
    "#     'weight' : 'normal',\n",
    "#     'size'   : 15}\n",
    "# matplotlib.rc('font', **font)\n",
    "#data_timeline.plot()\n",
    "sns.set(context='paper',style='white',font_scale=1.5)\n",
    "\n",
    "font = {\n",
    "    'weight' : 'normal',\n",
    "    'size'   : 11}\n",
    "ax1 = sns.barplot(x=\"label\", y=\"users_who_spread\", data=df_num_users)\n",
    "plt.savefig('../Fear_speech_results/users_who_spread.pdf',bbox_inches='tight',dpi=400)\n",
    "\n",
    "\n",
    "\n"
   ]
  },
  {
   "cell_type": "code",
   "execution_count": 41,
   "metadata": {},
   "outputs": [
    {
     "data": {
      "image/png": "[encoded data removed]",
      "text/plain": [
       "<Figure size 720x432 with 4 Axes>"
      ]
     },
     "metadata": {},
     "output_type": "display_data"
    }
   ],
   "source": [
    "from matplotlib.lines import Line2D\n",
    "from  matplotlib.ticker import FuncFormatter\n",
    "matplotlib.rcParams['figure.figsize'] = (10, 6)\n",
    "\n",
    "#     'weight' : 'normal',\n",
    "#     'size'   : 15}\n",
    "# matplotlib.rc('font', **font)\n",
    "#data_timeline.plot()\n",
    "sns.set(context='paper',style='white',font_scale=1.5)\n",
    "\n",
    "font = {\n",
    "    'weight' : 'normal',\n",
    "    'size'   : 11}\n",
    "\n",
    "\n",
    "\n",
    "\n",
    "ax1=plt.subplot(2, 2, 1)\n",
    "ax = sns.barplot(x=\"label\", y=\"num_repeats\",ax=ax1,data=df_repeat)\n",
    "plt.tick_params(\n",
    "    axis='x',          # changes apply to the x-axis\n",
    "    which='both',      # both major and minor ticks are affected\n",
    "    bottom=False,      # ticks along the bottom edge are off\n",
    "    top=False,         # ticks along the top edge are off\n",
    "    labelbottom=False) # labels along the bottom edge are off\n",
    "plt.ylabel(\"Avg. reshares\")\n",
    "plt.xlabel(\"(a)\")\n",
    "plt.gca().yaxis.set_major_formatter(FuncFormatter(lambda x, _: int(x)))\n",
    "\n",
    "\n",
    "ax2=plt.subplot(2, 2, 2)\n",
    "ax = sns.barplot(x=\"label\", y=\"users_who_spread\",ax=ax2, data=df_num_users)\n",
    "plt.tick_params(\n",
    "    axis='x',          # changes apply to the x-axis\n",
    "    which='both',      # both major and minor ticks are affected\n",
    "    bottom=False,      # ticks along the bottom edge are off\n",
    "    top=False,         # ticks along the top edge are off\n",
    "    labelbottom=False) # labels along the bottom edge are off\n",
    "plt.ylabel(\"Avg. spreading users\")\n",
    "\n",
    "plt.xlabel(\"(b)\")\n",
    "\n",
    "ax3=plt.subplot(2, 2, 3)\n",
    "ax = sns.barplot(x=\"label\", y=\"groups_affected\",ax=ax3, data=df_num_groups)\n",
    "plt.tick_params(\n",
    "    axis='x',          # changes apply to the x-axis\n",
    "    which='both',      # both major and minor ticks are affected\n",
    "    bottom=False,      # ticks along the bottom edge are off\n",
    "    top=False,         # ticks along the top edge are off\n",
    "    labelbottom=False) # labels along the bottom edge are off\n",
    "plt.ylabel(\"Avg. groups affected\")\n",
    "\n",
    "plt.xlabel(\"(c)\")\n",
    "\n",
    "ax4=plt.subplot(2, 2, 4)\n",
    "ax = sns.barplot(x=\"label\", y=\"days_active\",ax=ax4, data=df_active)\n",
    "plt.tick_params(\n",
    "    axis='x',          # changes apply to the x-axis\n",
    "    which='both',      # both major and minor ticks are affected\n",
    "    bottom=False,      # ticks along the bottom edge are off\n",
    "    top=False,         # ticks along the top edge are off\n",
    "    labelbottom=False) # labels along the bottom edge are off\n",
    "plt.ylabel(\"Avg. days active\")\n",
    "\n",
    "plt.xlabel(\"(d)\")\n",
    "\n",
    "cmap=matplotlib.cm.get_cmap(name='tab20c')\n",
    "\n",
    "custom_lines = [Line2D([0], [0], color=sns.color_palette()[0], lw=6),\n",
    "                Line2D([0], [0], color=sns.color_palette()[1], lw=6)]\n",
    "\n",
    "\n",
    "plt.legend(custom_lines, ['Fear speech', 'Non fear speech'],bbox_to_anchor=(0.5, 2.5), ncol=2)\n",
    "#plt.legend(labels=['fear speech','non fear speech'], loc='center')\n",
    "plt.savefig('../Fear_speech_results/total.pdf',bbox_inches='tight',dpi=400)"
   ]
  },
  {
   "cell_type": "code",
   "execution_count": null,
   "metadata": {},
   "outputs": [],
   "source": [
    "#cmap=matplotlib.cm.get_cmap(name='tab10')\n",
    "cmap(4)"
   ]
  },
  {
   "cell_type": "code",
   "execution_count": null,
   "metadata": {},
   "outputs": [],
   "source": [
    "def distribution_of_messages(wp_data,window):\n",
    "    list_messages=[]\n",
    "    \n",
    "    num_days=int((end_time-start_time)/(window*24*60*60*1000))\n",
    "    for i in tqdm_notebook(range(num_days)):\n",
    "        data_of_the_day = wp_data[wp_data['timestamp'].between(start_time+i*(window*24*60*60*1000),start_time+(i+1)*(window*24*60*60*1000) , inclusive=True)]\n",
    "        for group in list(data_of_the_day['group_id_anonymized'].unique()):\n",
    "            grp_per_day_data=data_of_the_day[data_of_the_day['group_id_anonymized']==group]\n",
    "            #grp_per_day_data=data_of_the_day[data_of_the_day['group_id_anonymized']==group]['phone_num_anonymized'].unique()\n",
    "            if(len(grp_per_day_data)>1000):\n",
    "                list_messages.append([group,i,30,1])\n",
    "            else:\n",
    "                list_messages.append([group,i,len(grp_per_day_data),1])\n",
    "    return list_messages\n",
    "\n"
   ]
  },
  {
   "cell_type": "code",
   "execution_count": null,
   "metadata": {},
   "outputs": [],
   "source": []
  },
  {
   "cell_type": "code",
   "execution_count": null,
   "metadata": {},
   "outputs": [],
   "source": [
    "import matplotlib\n",
    "def convert(year,month,date):\n",
    "    return int(datetime(year, month, date, 0, 0, 0).timestamp()*1000)\n",
    "\n",
    "def convert_reverse(timestamp):\n",
    "    dt_object = datetime.fromtimestamp(timestamp/1000)\n",
    "    print(\"dt_object =\", dt_object)\n",
    "    return dt_object\n",
    "\n",
    "matplotlib.rcParams['figure.figsize'] = (15, 6)\n",
    "# font = {\n",
    "#     'weight' : 'normal',\n",
    "#     'size'   : 15}\n",
    "# matplotlib.rc('font', **font)\n",
    "#data_timeline.plot()\n",
    "sns.set(context='paper',style='white',font_scale=2.0)\n",
    "window=7\n",
    "list_timeline=distribution_of_messages(data_fear_speech,7)\n",
    "#list_timeline_2=distribution_of_messages(whatsapp_data,7)\n",
    "\n",
    "df_timeline=pd.DataFrame(list_timeline,columns=['user_id','timeline','num_messages','num_users'])\n",
    "#df_timeline2=pd.DataFrame(list_timeline_2,columns=['user_id','timeline','num_messages','num_users'])\n",
    "\n",
    "ax = sns.lineplot(x=\"timeline\", y=\"num_messages\",data=df_timeline,hue_order=['CONGRESS','BJP','AIMIM'],markers=True,dashes=False,estimator='mean')\n",
    "#ax2 = sns.lineplot(x=\"timeline\", y=\"num_messages\",data=df_timeline2,hue_order=['CONGRESS','BJP','AIMIM'],markers=True,dashes=False,estimator='mean')\n",
    "\n",
    "plt= add_extra_timeperiod(plt,window,start_time,end_time)\n",
    "plt.xlabel('')\n",
    "plt.ylabel('average number of messages')\n",
    "plt.legend(['Fear speech'])\n",
    "\n",
    "plt.savefig('../Fear_speech_results/temporal_fear_speech.pdf',bbox_inches='tight',dpi=400)\n",
    "#plt.savefig('../Whatsapp_Results/hindu__muslim_messages'+str(window)+'whole_data.pdf',bbox_inches='tight',dpi=400)\n",
    "\n",
    "plt.show() "
   ]
  },
  {
   "cell_type": "code",
   "execution_count": null,
   "metadata": {},
   "outputs": [],
   "source": [
    "import empath"
   ]
  },
  {
   "cell_type": "code",
   "execution_count": null,
   "metadata": {},
   "outputs": [],
   "source": [
    "from empath import Empath\n",
    "lexicon = Empath()"
   ]
  },
  {
   "cell_type": "code",
   "execution_count": null,
   "metadata": {},
   "outputs": [],
   "source": [
    "lexicon.cats.keys()"
   ]
  },
  {
   "cell_type": "code",
   "execution_count": null,
   "metadata": {},
   "outputs": [],
   "source": [
    "dict_map={0:'non fear speech',1:'fear speech'}\n",
    "\n",
    "def get_empath_categories(df,normalize=False): \n",
    "    tuples=[]\n",
    "    for index,row in df.iterrows():\n",
    "        dict_lexicon=lexicon.analyze(row['translated'], normalize=normalize)\n",
    "        try:\n",
    "            temp=dict_lexicon.values()\n",
    "        except AttributeError:\n",
    "            dict_lexicon=lexicon.analyze(\"sample text\", normalize=normalize)\n",
    "        temp=list(dict_lexicon.values())+[index,dict_map[row['one_fear_speech']]]\n",
    "        tuples.append(temp)\n",
    "    df_empath=pd.DataFrame(tuples,columns=list(dict_lexicon.keys())+['org_index','label'])\n",
    "    \n",
    "    \n",
    "    print(len(df),len(df_empath))\n",
    "    df=df.reset_index(drop=True)\n",
    "    #df_with_empath=pd.concat([df,df_empath],axis=1)\n",
    "    return df_empath\n"
   ]
  },
  {
   "cell_type": "code",
   "execution_count": null,
   "metadata": {
    "scrolled": true
   },
   "outputs": [],
   "source": []
  },
  {
   "cell_type": "code",
   "execution_count": null,
   "metadata": {},
   "outputs": [],
   "source": [
    "annotated_df_empath"
   ]
  },
  {
   "cell_type": "code",
   "execution_count": null,
   "metadata": {},
   "outputs": [],
   "source": [
    "annotated_df_empath = pd.melt(annotated_df_empath,id_vars=\"label\",var_name=\"category\", value_name=\"normalized_value\")\n"
   ]
  },
  {
   "cell_type": "code",
   "execution_count": null,
   "metadata": {},
   "outputs": [],
   "source": [
    "annotated_df_empath=annotated_df_empath[annotated_df_empath['category']!='org_index']\n",
    "annotated_df_empath.head()"
   ]
  },
  {
   "cell_type": "code",
   "execution_count": null,
   "metadata": {},
   "outputs": [],
   "source": [
    "categories=['help', 'cold', 'hate', 'cheerfulness', 'aggression', 'occupation', 'envy', 'family', 'crime', 'masculine', 'pride', 'dispute', 'government', 'weakness', 'horror', 'swearing_terms', 'leisure', 'suffering', 'royalty', 'wealthy', 'tourism', 'journalism', 'social_media', 'kill', 'ridicule', 'stealing', 'real_estate', 'home', 'divine', 'sexual', 'fear', 'irritability', 'religion', 'worship', 'leader', 'independence', 'movement', 'medieval', 'death', 'legend', 'heroic', 'celebration', 'violence', 'military', 'neglect', 'love', 'order', 'sympathy', 'anonymity', 'trust', 'ancient', 'deception', 'fight', 'dominant_personality', 'politeness', 'war', 'speaking', 'listen', 'disgust', 'fire', 'gain', 'injury', 'rage', 'work', 'valuable', 'warmth', 'youth', 'sadness', 'fun', 'emotional', 'joy', 'affection', 'ugliness', 'lust', 'shame', 'torment', 'anger', 'politics', 'strength', 'technology', 'breaking', 'power', 'animal', 'terrorism', 'disappointment', 'pain', 'philosophy', 'negotiate', 'negative_emotion', 'competing', 'law', 'friends', 'achievement', 'feminine', 'weapon', 'monster', 'giving', 'contentment', 'writing', 'positive_emotion']"
   ]
  },
  {
   "cell_type": "code",
   "execution_count": null,
   "metadata": {},
   "outputs": [],
   "source": [
    "matplotlib.rcParams['figure.figsize'] = (40, 6)\n",
    "\n",
    "temp=annotated_df_empath[annotated_df_empath['category'].isin(categories)]\n",
    "font = {\n",
    "    'weight' : 'normal',\n",
    "    'size'   : 11}\n",
    "g = sns.barplot(x=\"category\", y=\"normalized_value\",hue=\"label\",data=temp)\n",
    "#g=add_values(g,df_admin,15,order_list)\n",
    "#plt.ylabel('number of groups as admin')\n",
    "g.set_xticklabels(\n",
    "        g.get_xticklabels(), \n",
    "        rotation=45, \n",
    "        horizontalalignment='right',\n",
    "        fontweight='normal',\n",
    "        fontsize='medium'\n",
    "\n",
    "    )\n",
    "    \n",
    "# plt.show()\n",
    "plt.savefig('empath.pdf',bbox_inches='tight',dpi=400)"
   ]
  },
  {
   "cell_type": "code",
   "execution_count": null,
   "metadata": {},
   "outputs": [],
   "source": []
  },
  {
   "cell_type": "code",
   "execution_count": null,
   "metadata": {},
   "outputs": [],
   "source": [
    "\n",
    "\n",
    "\n",
    "from numpy.random import seed\n",
    "from numpy.random import randn\n",
    "from scipy.stats import mannwhitneyu\n",
    "# seed the random number generator\n"
   ]
  },
  {
   "cell_type": "code",
   "execution_count": null,
   "metadata": {},
   "outputs": [],
   "source": [
    "for cat in categories:\n",
    "    temp=annotated_df_empath[annotated_df_empath['category']==cat]\n",
    "    treatment=np.array(temp[temp['label']=='fear speech'].normalized_value)\n",
    "    control=np.array(temp[temp['label']=='non fear speech'].normalized_value)\n",
    "    seed(2)\n",
    "    # generate two independent samples\n",
    "    # compare samples\n",
    "    stat, p = mannwhitneyu(treatment, control)\n",
    "    print('For %s , Statistics=%.3f, p=%.3f' % (cat,stat, p))"
   ]
  },
  {
   "cell_type": "code",
   "execution_count": null,
   "metadata": {},
   "outputs": [],
   "source": []
  }
 ],
 "metadata": {
  "kernelspec": {
   "display_name": "Python [conda env:.conda-punyajoy_gpu] *",
   "language": "python",
   "name": "conda-env-.conda-punyajoy_gpu-py"
  },
  "language_info": {
   "codemirror_mode": {
    "name": "ipython",
    "version": 3
   },
   "file_extension": ".py",
   "mimetype": "text/x-python",
   "name": "python",
   "nbconvert_exporter": "python",
   "pygments_lexer": "ipython3",
   "version": "3.7.3"
  },
  "latex_envs": {
   "LaTeX_envs_menu_present": true,
   "autoclose": true,
   "autocomplete": true,
   "bibliofile": "biblio.bib",
   "cite_by": "apalike",
   "current_citInitial": 1,
   "eqLabelWithNumbers": true,
   "eqNumInitial": 1,
   "hotkeys": {
    "equation": "Ctrl-E",
    "itemize": "Ctrl-I"
   },
   "labels_anchors": false,
   "latex_user_defs": false,
   "report_style_numbering": false,
   "user_envs_cfg": false
  }
 },
 "nbformat": 4,
 "nbformat_minor": 4
}
