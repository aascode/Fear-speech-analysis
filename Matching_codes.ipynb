{
 "cells": [
  {
   "cell_type": "code",
   "execution_count": 3,
   "metadata": {},
   "outputs": [],
   "source": [
    "import pandas as pd\n",
    "import pickle\n",
    "from tqdm import tqdm,tqdm_notebook\n",
    "parent_path='../Data/New_Data_15-06-2020/'"
   ]
  },
  {
   "cell_type": "code",
   "execution_count": 156,
   "metadata": {},
   "outputs": [
    {
     "name": "stderr",
     "output_type": "stream",
     "text": [
      "100%|██████████| 82454/82454 [13:42<00:00, 100.28it/s] \n",
      "100%|██████████| 82454/82454 [14:05<00:00, 97.53it/s]  \n",
      "100%|██████████| 82454/82454 [13:40<00:00, 100.44it/s]\n",
      "100%|██████████| 82454/82454 [14:39<00:00, 93.72it/s]  \n",
      "100%|██████████| 82454/82454 [14:43<00:00, 93.27it/s]] \n",
      "100%|██████████| 82454/82454 [14:43<00:00, 93.37it/s] \n",
      "100%|██████████| 82454/82454 [15:33<00:00, 88.33it/s] \n",
      "100%|██████████| 82455/82455 [17:22<00:00, 79.06it/s]  \n",
      "100%|██████████| 82455/82455 [18:07<00:00, 75.84it/s]]\n",
      "100%|██████████| 82454/82454 [18:21<00:00, 74.85it/s] \n",
      "100%|██████████| 82455/82455 [18:44<00:00, 73.30it/s] \n",
      "100%|██████████| 82454/82454 [18:40<00:00, 73.59it/s] \n",
      "100%|██████████| 82454/82454 [18:26<00:00, 74.53it/s]]\n",
      "100%|██████████| 82454/82454 [18:27<00:00, 74.43it/s]]\n",
      "100%|██████████| 82454/82454 [18:52<00:00, 72.83it/s]]\n",
      "100%|██████████| 82454/82454 [18:39<00:00, 73.65it/s] \n",
      "100%|██████████| 82454/82454 [18:20<00:00, 74.90it/s] \n",
      "100%|██████████| 82454/82454 [18:30<00:00, 74.22it/s] \n",
      "100%|██████████| 82455/82455 [19:33<00:00, 70.28it/s]]\n",
      "100%|██████████| 82454/82454 [19:14<00:00, 71.42it/s] \n",
      "100%|██████████| 82454/82454 [19:01<00:00, 72.23it/s] \n",
      "100%|██████████| 82454/82454 [19:25<00:00, 70.74it/s] \n",
      "100%|██████████| 82454/82454 [19:39<00:00, 69.88it/s] \n",
      "100%|██████████| 82454/82454 [19:35<00:00, 70.15it/s] \n",
      "100%|██████████| 82454/82454 [19:37<00:00, 70.04it/s] \n",
      "100%|██████████| 82454/82454 [19:54<00:00, 69.03it/s] \n",
      "100%|██████████| 82454/82454 [19:58<00:00, 68.80it/s] \n",
      "100%|██████████| 82454/82454 [19:47<00:00, 69.43it/s] \n",
      "100%|██████████| 82454/82454 [19:32<00:00, 70.32it/s] \n",
      "100%|██████████| 82454/82454 [20:03<00:00, 68.52it/s] \n",
      "100%|██████████| 30/30 [20:55<00:00, 41.86s/it]\n"
     ]
    }
   ],
   "source": [
    "annotated_df=pd.read_pickle(parent_path+'Fearspeech_data_final.pkl')\n",
    "whatsapp_data=pd.read_csv(parent_path+'Data_text_spam_removed_v02.csv')\n",
    "temp=whatsapp_data[['group_id_anonymized','phone_num_anonymized','message_text','timestamp']]\n",
    "duplicateDFRow = temp[temp.duplicated()]\n",
    "whatsapp_data=whatsapp_data.drop(list(duplicateDFRow.index))\n",
    "\n",
    "from langdetect import detect\n",
    "from langdetect import DetectorFactory\n",
    "import parmap\n",
    "\n",
    "DetectorFactory.seed = 0\n",
    "\n",
    "def add_language(df):\n",
    "    language= []\n",
    "    for index, row in tqdm(df.iterrows(), total=len(df)):\n",
    "        try:\n",
    "            lang=detect(row[\"message_text\"])\n",
    "            language.append(lang)\n",
    "        except:\n",
    "            language.append('unk')\n",
    "\n",
    "    df[\"language\"] = language\n",
    "    return df\n",
    "\n",
    "n_process=30\n",
    "\n",
    "\n",
    "df_split = np.array_split(whatsapp_data, n_process)\n",
    "list_all = parmap.map(add_language, df_split,pm_processes=n_process,pm_pbar=True)\n",
    "whatsapp_data=pd.concat(list_all,axis=0)\n"
   ]
  },
  {
   "cell_type": "code",
   "execution_count": 159,
   "metadata": {},
   "outputs": [],
   "source": [
    "whatsapp_data=whatsapp_data[whatsapp_data['language'].isin(['hi','en'])]\n"
   ]
  },
  {
   "cell_type": "code",
   "execution_count": 157,
   "metadata": {},
   "outputs": [],
   "source": [
    "import numpy as np\n",
    "\n",
    "def Match(df, caliper = 0.05, caliper_method = \"propensity\", replace = False):\n",
    "        \n",
    "    \n",
    "    # Transform the propensity scores and caliper when caliper_method is \"logit\" or \"none\"\n",
    "    if caliper_method == \"logit\":\n",
    "        propensity = log(propensity/(1-propensity))\n",
    "        caliper = caliper*np.std(propensity)\n",
    "    elif caliper_method == \"none\":\n",
    "        caliper = 0\n",
    "    \n",
    "    # Code groups as 0 and 1\n",
    "    #groups = groups == np.unique(groups)\n",
    "    N = len(df)\n",
    "    N1 = df[df['treatment'] == 1].index; N2 =df[df['treatment'] == 0].index\n",
    "    g1, g2 = df.loc[N1]['pscore'],df.loc[N2]['pscore']\n",
    "    # Check if treatment groups got flipped - the smaller should correspond to N1/g1\n",
    "    if len(N1) > len(N2):\n",
    "       N1, N2, g1, g2 = N2, N1, g2, g1\n",
    "        \n",
    "        \n",
    "    # Randomly permute the smaller group to get order for matching\n",
    "    morder = np.random.permutation(N1)\n",
    "    matches = {}\n",
    "\n",
    "    \n",
    "    for m in morder:\n",
    "        dist = abs(g1[m] - g2)\n",
    "        if (dist.min() <= caliper) or not caliper:\n",
    "            matches[m] = dist.idxmin()    # Potential problem: check for ties\n",
    "            if not replace:\n",
    "                g2 = g2.drop(matches[m])\n",
    "    return (matches)\n",
    "\n",
    "def whichMatched(matches, data, many = False, unique = False):\n",
    "    ''' \n",
    "    Simple function to convert output of Matches to DataFrame of all matched observations\n",
    "    Inputs:\n",
    "    matches = output of Match\n",
    "    data = DataFrame of covariates\n",
    "    many = Boolean indicating if matching method is one-to-one or one-to-many\n",
    "    unique = Boolean indicating if duplicated individuals (ie controls matched to more than one case) should be removed\n",
    "    '''\n",
    "\n",
    "    tr = matches.keys()\n",
    "    if many:\n",
    "        ctrl = [m for matchset in matches.values() for m in matchset]\n",
    "    else:\n",
    "        ctrl = matches.values()\n",
    "    # need to remove duplicate rows, which may occur in matching with replacement\n",
    "    temp = pd.concat([data.loc[tr], data.loc[ctrl]])\n",
    "    if unique == True:\n",
    "        return temp.groupby(temp.index).first()\n",
    "    else:\n",
    "        return temp\n"
   ]
  },
  {
   "cell_type": "code",
   "execution_count": 158,
   "metadata": {},
   "outputs": [],
   "source": [
    "from datetime import datetime\n",
    "\n",
    "\n",
    "def convert(year,month,date):\n",
    "    return int(datetime(year, month, date, 0, 0, 0).timestamp()*1000)\n",
    "\n",
    "def convert_reverse(timestamp):\n",
    "    dt_object = datetime.fromtimestamp(timestamp/1000)\n",
    "    print(\"dt_object =\", dt_object)\n",
    "    return dt_object"
   ]
  },
  {
   "cell_type": "code",
   "execution_count": 160,
   "metadata": {},
   "outputs": [
    {
     "name": "stdout",
     "output_type": "stream",
     "text": [
      "dt_object = 2018-07-07 13:06:19.856000\n"
     ]
    },
    {
     "data": {
      "text/plain": [
       "datetime.datetime(2018, 7, 7, 13, 6, 19, 856000)"
      ]
     },
     "execution_count": 160,
     "metadata": {},
     "output_type": "execute_result"
    }
   ],
   "source": [
    "convert_reverse(1530948979856)"
   ]
  },
  {
   "cell_type": "code",
   "execution_count": 161,
   "metadata": {},
   "outputs": [],
   "source": [
    "whatsapp_data=whatsapp_data.sort_values('timestamp')"
   ]
  },
  {
   "cell_type": "code",
   "execution_count": 162,
   "metadata": {
    "scrolled": true
   },
   "outputs": [
    {
     "data": {
      "text/html": [
       "<div>\n",
       "<style scoped>\n",
       "    .dataframe tbody tr th:only-of-type {\n",
       "        vertical-align: middle;\n",
       "    }\n",
       "\n",
       "    .dataframe tbody tr th {\n",
       "        vertical-align: top;\n",
       "    }\n",
       "\n",
       "    .dataframe thead th {\n",
       "        text-align: right;\n",
       "    }\n",
       "</style>\n",
       "<table border=\"1\" class=\"dataframe\">\n",
       "  <thead>\n",
       "    <tr style=\"text-align: right;\">\n",
       "      <th></th>\n",
       "      <th>group_id_anonymized</th>\n",
       "      <th>phone_num_anonymized</th>\n",
       "      <th>message_text</th>\n",
       "      <th>timestamp</th>\n",
       "      <th>media_type</th>\n",
       "      <th>media_url</th>\n",
       "      <th>forwarded</th>\n",
       "      <th>orig_index</th>\n",
       "      <th>language</th>\n",
       "      <th>only_urls</th>\n",
       "      <th>is_spam</th>\n",
       "    </tr>\n",
       "  </thead>\n",
       "  <tbody>\n",
       "    <tr>\n",
       "      <th>2163788</th>\n",
       "      <td>8982</td>\n",
       "      <td>2148</td>\n",
       "      <td>What</td>\n",
       "      <td>1530949216000</td>\n",
       "      <td>None</td>\n",
       "      <td>None</td>\n",
       "      <td>0</td>\n",
       "      <td>5500170</td>\n",
       "      <td>en</td>\n",
       "      <td>0</td>\n",
       "      <td>0</td>\n",
       "    </tr>\n",
       "    <tr>\n",
       "      <th>2465534</th>\n",
       "      <td>9860</td>\n",
       "      <td>247483</td>\n",
       "      <td>#मंज़िल की तलाश में सड़को को #रौंद रहे है.... ...</td>\n",
       "      <td>1532187844000</td>\n",
       "      <td>None</td>\n",
       "      <td>None</td>\n",
       "      <td>64</td>\n",
       "      <td>6243091</td>\n",
       "      <td>hi</td>\n",
       "      <td>0</td>\n",
       "      <td>0</td>\n",
       "    </tr>\n",
       "    <tr>\n",
       "      <th>2471762</th>\n",
       "      <td>252</td>\n",
       "      <td>1287</td>\n",
       "      <td>इस मादर चोद को इतना शेयर करो कि यह पकडा जाय यह...</td>\n",
       "      <td>1532187995000</td>\n",
       "      <td>None</td>\n",
       "      <td>None</td>\n",
       "      <td>1</td>\n",
       "      <td>6257572</td>\n",
       "      <td>hi</td>\n",
       "      <td>0</td>\n",
       "      <td>0</td>\n",
       "    </tr>\n",
       "    <tr>\n",
       "      <th>2409489</th>\n",
       "      <td>4016</td>\n",
       "      <td>244632</td>\n",
       "      <td>Follow this link to join my WhatsApp group: ht...</td>\n",
       "      <td>1532188368000</td>\n",
       "      <td>None</td>\n",
       "      <td>https://chat.whatsapp.com</td>\n",
       "      <td>64</td>\n",
       "      <td>6099306</td>\n",
       "      <td>en</td>\n",
       "      <td>0</td>\n",
       "      <td>0</td>\n",
       "    </tr>\n",
       "    <tr>\n",
       "      <th>2465543</th>\n",
       "      <td>9860</td>\n",
       "      <td>247483</td>\n",
       "      <td>चलते रहो #पथ पर ...चलने में #माहिर बन जाओगे......</td>\n",
       "      <td>1532188521000</td>\n",
       "      <td>None</td>\n",
       "      <td>None</td>\n",
       "      <td>64</td>\n",
       "      <td>6243100</td>\n",
       "      <td>hi</td>\n",
       "      <td>0</td>\n",
       "      <td>0</td>\n",
       "    </tr>\n",
       "  </tbody>\n",
       "</table>\n",
       "</div>"
      ],
      "text/plain": [
       "         group_id_anonymized  phone_num_anonymized  \\\n",
       "2163788                 8982                  2148   \n",
       "2465534                 9860                247483   \n",
       "2471762                  252                  1287   \n",
       "2409489                 4016                244632   \n",
       "2465543                 9860                247483   \n",
       "\n",
       "                                              message_text      timestamp  \\\n",
       "2163788                                               What  1530949216000   \n",
       "2465534  #मंज़िल की तलाश में सड़को को #रौंद रहे है.... ...  1532187844000   \n",
       "2471762  इस मादर चोद को इतना शेयर करो कि यह पकडा जाय यह...  1532187995000   \n",
       "2409489  Follow this link to join my WhatsApp group: ht...  1532188368000   \n",
       "2465543  चलते रहो #पथ पर ...चलने में #माहिर बन जाओगे......  1532188521000   \n",
       "\n",
       "        media_type                  media_url  forwarded  orig_index language  \\\n",
       "2163788       None                       None          0     5500170       en   \n",
       "2465534       None                       None         64     6243091       hi   \n",
       "2471762       None                       None          1     6257572       hi   \n",
       "2409489       None  https://chat.whatsapp.com         64     6099306       en   \n",
       "2465543       None                       None         64     6243100       hi   \n",
       "\n",
       "         only_urls  is_spam  \n",
       "2163788          0        0  \n",
       "2465534          0        0  \n",
       "2471762          0        0  \n",
       "2409489          0        0  \n",
       "2465543          0        0  "
      ]
     },
     "execution_count": 162,
     "metadata": {},
     "output_type": "execute_result"
    }
   ],
   "source": [
    "whatsapp_data.head(5)"
   ]
  },
  {
   "cell_type": "code",
   "execution_count": 163,
   "metadata": {},
   "outputs": [
    {
     "name": "stderr",
     "output_type": "stream",
     "text": [
      "100%|██████████| 4782/4782 [00:00<00:00, 8509.59it/s]\n"
     ]
    }
   ],
   "source": [
    "all_fear_speech_index=[]\n",
    "all_normal_index=[]\n",
    "\n",
    "count_fearspeech=0\n",
    "count_normal=0\n",
    "\n",
    "for index,row in tqdm(annotated_df.iterrows(),total=len(annotated_df)):\n",
    "    if(row['one_fear_speech']==1):\n",
    "        count_fearspeech+=1\n",
    "        all_fear_speech_index+=row['repeated']\n",
    "    elif(row['one_fear_speech']==0):\n",
    "        count_normal+=1\n",
    "        all_normal_index+=row['repeated']\n",
    "\n",
    "data_fear_speech=whatsapp_data[whatsapp_data['orig_index'].isin(all_fear_speech_index)]\n",
    "data_normal=whatsapp_data[whatsapp_data['orig_index'].isin(all_normal_index)]\n"
   ]
  },
  {
   "cell_type": "code",
   "execution_count": 164,
   "metadata": {},
   "outputs": [
    {
     "name": "stderr",
     "output_type": "stream",
     "text": [
      "/home/punyajoy/.conda/envs/punyajoy_gpu/lib/python3.7/site-packages/ipykernel_launcher.py:5: TqdmDeprecationWarning: This function will be removed in tqdm==5.0.0\n",
      "Please use `tqdm.notebook.tqdm` instead of `tqdm.tqdm_notebook`\n",
      "  \"\"\"\n"
     ]
    },
    {
     "data": {
      "application/vnd.jupyter.widget-view+json": {
       "model_id": "3eab13447f7f42f9b9af4e9e9b552ea5",
       "version_major": 2,
       "version_minor": 0
      },
      "text/plain": [
       "HBox(children=(HTML(value=''), FloatProgress(value=0.0, max=109542.0), HTML(value='')))"
      ]
     },
     "metadata": {},
     "output_type": "display_data"
    },
    {
     "name": "stdout",
     "output_type": "stream",
     "text": [
      "\n"
     ]
    }
   ],
   "source": [
    "import numpy as np\n",
    "\n",
    "tuples_list=[]\n",
    "\n",
    "for user in tqdm_notebook(whatsapp_data.phone_num_anonymized.unique(),total=whatsapp_data.phone_num_anonymized.nunique()):\n",
    "    temp={}\n",
    "    temp['user_id']=user\n",
    "    user_data=whatsapp_data[whatsapp_data['phone_num_anonymized']==user]\n",
    "    if(user in set(data_fear_speech.phone_num_anonymized.unique())):\n",
    "        temp['treatment']=1\n",
    "    else:\n",
    "        temp['treatment']=0\n",
    "        \n",
    "   \n",
    "    temp['num_groups']=user_data['group_id_anonymized'].nunique()\n",
    "    count=0\n",
    "    list_message_present=[]\n",
    "    for year in [2018,2019]:\n",
    "        for month in range(1,13):\n",
    "            timestamp=convert(year,month,1)\n",
    "            count+=1\n",
    "            temp_data=user_data[user_data['timestamp'].between(timestamp, timestamp+30*24*60*60*1000, inclusive=True)]\n",
    "            if(len(temp_data)>0):\n",
    "                try:\n",
    "                    start=temp['start_date']\n",
    "                except KeyError:\n",
    "                    temp['start_date']=count\n",
    "                list_message_present.append(len(temp_data))\n",
    "    if(len(list_message_present)>0):\n",
    "        temp['mean_messages']=np.mean(list_message_present)\n",
    "        temp['stdev_messages']=np.std(list_message_present)\n",
    "        temp['month_present']=len(list_message_present)\n",
    "        tuples_list.append(temp)         \n"
   ]
  },
  {
   "cell_type": "code",
   "execution_count": 165,
   "metadata": {},
   "outputs": [],
   "source": [
    "df = pd.DataFrame(tuples_list) "
   ]
  },
  {
   "cell_type": "code",
   "execution_count": 166,
   "metadata": {},
   "outputs": [
    {
     "data": {
      "text/html": [
       "<div>\n",
       "<style scoped>\n",
       "    .dataframe tbody tr th:only-of-type {\n",
       "        vertical-align: middle;\n",
       "    }\n",
       "\n",
       "    .dataframe tbody tr th {\n",
       "        vertical-align: top;\n",
       "    }\n",
       "\n",
       "    .dataframe thead th {\n",
       "        text-align: right;\n",
       "    }\n",
       "</style>\n",
       "<table border=\"1\" class=\"dataframe\">\n",
       "  <thead>\n",
       "    <tr style=\"text-align: right;\">\n",
       "      <th></th>\n",
       "      <th>user_id</th>\n",
       "      <th>treatment</th>\n",
       "      <th>num_groups</th>\n",
       "      <th>start_date</th>\n",
       "      <th>mean_messages</th>\n",
       "      <th>stdev_messages</th>\n",
       "      <th>month_present</th>\n",
       "    </tr>\n",
       "  </thead>\n",
       "  <tbody>\n",
       "    <tr>\n",
       "      <th>0</th>\n",
       "      <td>2148</td>\n",
       "      <td>0</td>\n",
       "      <td>154</td>\n",
       "      <td>7</td>\n",
       "      <td>24.571429</td>\n",
       "      <td>21.181914</td>\n",
       "      <td>14</td>\n",
       "    </tr>\n",
       "    <tr>\n",
       "      <th>1</th>\n",
       "      <td>247483</td>\n",
       "      <td>0</td>\n",
       "      <td>1</td>\n",
       "      <td>7</td>\n",
       "      <td>10.000000</td>\n",
       "      <td>1.632993</td>\n",
       "      <td>3</td>\n",
       "    </tr>\n",
       "    <tr>\n",
       "      <th>2</th>\n",
       "      <td>1287</td>\n",
       "      <td>1</td>\n",
       "      <td>1</td>\n",
       "      <td>7</td>\n",
       "      <td>4.333333</td>\n",
       "      <td>3.399346</td>\n",
       "      <td>3</td>\n",
       "    </tr>\n",
       "    <tr>\n",
       "      <th>3</th>\n",
       "      <td>244632</td>\n",
       "      <td>0</td>\n",
       "      <td>2</td>\n",
       "      <td>7</td>\n",
       "      <td>5.000000</td>\n",
       "      <td>3.674235</td>\n",
       "      <td>4</td>\n",
       "    </tr>\n",
       "    <tr>\n",
       "      <th>4</th>\n",
       "      <td>242857</td>\n",
       "      <td>0</td>\n",
       "      <td>1</td>\n",
       "      <td>7</td>\n",
       "      <td>32.333333</td>\n",
       "      <td>24.115463</td>\n",
       "      <td>3</td>\n",
       "    </tr>\n",
       "    <tr>\n",
       "      <th>...</th>\n",
       "      <td>...</td>\n",
       "      <td>...</td>\n",
       "      <td>...</td>\n",
       "      <td>...</td>\n",
       "      <td>...</td>\n",
       "      <td>...</td>\n",
       "      <td>...</td>\n",
       "    </tr>\n",
       "    <tr>\n",
       "      <th>108692</th>\n",
       "      <td>23730</td>\n",
       "      <td>0</td>\n",
       "      <td>1</td>\n",
       "      <td>20</td>\n",
       "      <td>1.000000</td>\n",
       "      <td>0.000000</td>\n",
       "      <td>1</td>\n",
       "    </tr>\n",
       "    <tr>\n",
       "      <th>108693</th>\n",
       "      <td>174891</td>\n",
       "      <td>0</td>\n",
       "      <td>1</td>\n",
       "      <td>20</td>\n",
       "      <td>1.000000</td>\n",
       "      <td>0.000000</td>\n",
       "      <td>1</td>\n",
       "    </tr>\n",
       "    <tr>\n",
       "      <th>108694</th>\n",
       "      <td>174892</td>\n",
       "      <td>0</td>\n",
       "      <td>1</td>\n",
       "      <td>20</td>\n",
       "      <td>20.000000</td>\n",
       "      <td>0.000000</td>\n",
       "      <td>1</td>\n",
       "    </tr>\n",
       "    <tr>\n",
       "      <th>108695</th>\n",
       "      <td>174080</td>\n",
       "      <td>0</td>\n",
       "      <td>1</td>\n",
       "      <td>20</td>\n",
       "      <td>1.000000</td>\n",
       "      <td>0.000000</td>\n",
       "      <td>1</td>\n",
       "    </tr>\n",
       "    <tr>\n",
       "      <th>108696</th>\n",
       "      <td>174900</td>\n",
       "      <td>0</td>\n",
       "      <td>1</td>\n",
       "      <td>20</td>\n",
       "      <td>1.000000</td>\n",
       "      <td>0.000000</td>\n",
       "      <td>1</td>\n",
       "    </tr>\n",
       "  </tbody>\n",
       "</table>\n",
       "<p>108697 rows × 7 columns</p>\n",
       "</div>"
      ],
      "text/plain": [
       "        user_id  treatment  num_groups  start_date  mean_messages  \\\n",
       "0          2148          0         154           7      24.571429   \n",
       "1        247483          0           1           7      10.000000   \n",
       "2          1287          1           1           7       4.333333   \n",
       "3        244632          0           2           7       5.000000   \n",
       "4        242857          0           1           7      32.333333   \n",
       "...         ...        ...         ...         ...            ...   \n",
       "108692    23730          0           1          20       1.000000   \n",
       "108693   174891          0           1          20       1.000000   \n",
       "108694   174892          0           1          20      20.000000   \n",
       "108695   174080          0           1          20       1.000000   \n",
       "108696   174900          0           1          20       1.000000   \n",
       "\n",
       "        stdev_messages  month_present  \n",
       "0            21.181914             14  \n",
       "1             1.632993              3  \n",
       "2             3.399346              3  \n",
       "3             3.674235              4  \n",
       "4            24.115463              3  \n",
       "...                ...            ...  \n",
       "108692        0.000000              1  \n",
       "108693        0.000000              1  \n",
       "108694        0.000000              1  \n",
       "108695        0.000000              1  \n",
       "108696        0.000000              1  \n",
       "\n",
       "[108697 rows x 7 columns]"
      ]
     },
     "execution_count": 166,
     "metadata": {},
     "output_type": "execute_result"
    }
   ],
   "source": [
    "df"
   ]
  },
  {
   "cell_type": "code",
   "execution_count": null,
   "metadata": {},
   "outputs": [],
   "source": []
  },
  {
   "cell_type": "code",
   "execution_count": 194,
   "metadata": {},
   "outputs": [],
   "source": [
    "from pscore_match.pscore import PropensityScore\n",
    "#from pscore_match.match import Match, whichMatched\n",
    "from scipy.stats import gaussian_kde\n",
    "import matplotlib.pyplot as plt\n",
    "import numpy as np\n",
    "import pandas as pd\n",
    "\n",
    "\n",
    "treatment = np.array(df.treatment)\n",
    "cov_list = ['num_groups','start_date','mean_messages','stdev_messages','month_present']\n",
    "#cov_list = ['start_date','month_present']\n",
    "\n",
    "covariates = df[cov_list]\n",
    "\n",
    "pscore = PropensityScore(treatment, covariates).compute()\n",
    "df['pscore']=pscore\n",
    "pairs = Match(df,caliper = 0.5)\n",
    "data_matched=whichMatched(pairs, df,many = False, unique = False)\n",
    "# pairs = Match(treatment, pscore)\n",
    "# pairs.create(method='one-to-one',caliper=0.001,replace=False)\n",
    "# data_matched = whichMatched(pairs, pd.DataFrame({'pscore': pscore, 'treatment' :treatment, 'user_id':df.user_id}))\n"
   ]
  },
  {
   "cell_type": "code",
   "execution_count": 195,
   "metadata": {},
   "outputs": [],
   "source": [
    "treatment=np.array(data_matched[data_matched['treatment']==1].pscore)\n",
    "control=np.array(data_matched[data_matched['treatment']==0].pscore)"
   ]
  },
  {
   "cell_type": "code",
   "execution_count": 196,
   "metadata": {},
   "outputs": [
    {
     "data": {
      "text/plain": [
       "2933"
      ]
     },
     "execution_count": 196,
     "metadata": {},
     "output_type": "execute_result"
    }
   ],
   "source": [
    "data_fear_speech.phone_num_anonymized.nunique()"
   ]
  },
  {
   "cell_type": "code",
   "execution_count": 197,
   "metadata": {},
   "outputs": [
    {
     "name": "stdout",
     "output_type": "stream",
     "text": [
      "Statistics=4298233.000, p=0.500\n",
      "Same distribution (fail to reject H0)\n"
     ]
    }
   ],
   "source": [
    "from numpy.random import seed\n",
    "from numpy.random import randn\n",
    "from scipy.stats import mannwhitneyu\n",
    "# seed the random number generator\n",
    "seed(1)\n",
    "# generate two independent samples\n",
    "# compare samples\n",
    "stat, p = mannwhitneyu(treatment, control)\n",
    "print('Statistics=%.3f, p=%.3f' % (stat, p))\n",
    "# interpret\n",
    "alpha = 0.05\n",
    "if p > alpha:\n",
    "\tprint('Same distribution (fail to reject H0)')\n",
    "else:\n",
    "\tprint('Different distribution (reject H0)')"
   ]
  },
  {
   "cell_type": "code",
   "execution_count": 198,
   "metadata": {},
   "outputs": [
    {
     "data": {
      "text/plain": [
       "2932.0"
      ]
     },
     "execution_count": 198,
     "metadata": {},
     "output_type": "execute_result"
    }
   ],
   "source": [
    "len(data_matched)/2"
   ]
  },
  {
   "cell_type": "code",
   "execution_count": 26,
   "metadata": {},
   "outputs": [],
   "source": [
    "matched_groups=[]\n",
    "for index,row in data_matched.iterrows():\n",
    "    if(row['treatment']==1):\n",
    "        matched_groups.append([int(row['user_id']),'Fear speech'])\n",
    "    else:\n",
    "        matched_groups.append([int(row['user_id']),'Non fear speech'])\n",
    "    "
   ]
  },
  {
   "cell_type": "code",
   "execution_count": 27,
   "metadata": {},
   "outputs": [],
   "source": [
    "df_group_matched=pd.DataFrame(matched_groups,columns=['user_id','annotation'])"
   ]
  },
  {
   "cell_type": "code",
   "execution_count": 28,
   "metadata": {},
   "outputs": [],
   "source": [
    "df_group_matched.to_csv(parent_path+'final_user_selection_matched.csv',index=False)"
   ]
  },
  {
   "cell_type": "markdown",
   "metadata": {},
   "source": [
    "### Group matching\n"
   ]
  },
  {
   "cell_type": "code",
   "execution_count": 29,
   "metadata": {},
   "outputs": [
    {
     "data": {
      "text/plain": [
       "100"
      ]
     },
     "execution_count": 29,
     "metadata": {},
     "output_type": "execute_result"
    }
   ],
   "source": [
    "from collections import OrderedDict \n",
    "group_dict={}\n",
    "for group in data_fear_speech.group_id_anonymized.unique():\n",
    "    temp=data_fear_speech[data_fear_speech['group_id_anonymized']==group]\n",
    "    group_dict[group]=len(temp)\n",
    "dict1 = sorted(group_dict.items(),key=lambda item: item[1],reverse=True)\n",
    "\n",
    "selected_groups=[ele[0] for ele in dict1[0:100]]\n",
    "len(selected_groups)"
   ]
  },
  {
   "cell_type": "code",
   "execution_count": 145,
   "metadata": {},
   "outputs": [
    {
     "name": "stderr",
     "output_type": "stream",
     "text": [
      "/home/punyajoy/.conda/envs/punyajoy_gpu/lib/python3.7/site-packages/ipykernel_launcher.py:4: TqdmDeprecationWarning: This function will be removed in tqdm==5.0.0\n",
      "Please use `tqdm.notebook.tqdm` instead of `tqdm.tqdm_notebook`\n",
      "  after removing the cwd from sys.path.\n"
     ]
    },
    {
     "data": {
      "application/vnd.jupyter.widget-view+json": {
       "model_id": "bce529db58924e76a895c18724b2f5d3",
       "version_major": 2,
       "version_minor": 0
      },
      "text/plain": [
       "HBox(children=(HTML(value=''), FloatProgress(value=0.0, max=5584.0), HTML(value='')))"
      ]
     },
     "metadata": {},
     "output_type": "display_data"
    },
    {
     "name": "stdout",
     "output_type": "stream",
     "text": [
      "\n"
     ]
    }
   ],
   "source": [
    "import numpy as np\n",
    "\n",
    "tuples_list_grp=[]\n",
    "for user in tqdm_notebook(whatsapp_data.group_id_anonymized.unique(),total=whatsapp_data.group_id_anonymized.nunique()):\n",
    "    temp={}\n",
    "    temp['group_id']=user\n",
    "    user_data=whatsapp_data[whatsapp_data['group_id_anonymized']==user]\n",
    "    if(user in data_fear_speech.group_id_anonymized.unique()):\n",
    "        temp['treatment']=1\n",
    "    else:\n",
    "        temp['treatment']=0\n",
    "        \n",
    "   \n",
    "    temp['num_users']=user_data['phone_num_anonymized'].nunique()\n",
    "    count=0\n",
    "    list_message_present=[]\n",
    "    for year in [2018,2019]:\n",
    "        for month in range(1,13):\n",
    "            timestamp=convert(year,month,1)\n",
    "            count+=1\n",
    "            temp_data=user_data[user_data['timestamp'].between(timestamp, timestamp+30*24*60*60*1000, inclusive=True)]\n",
    "            if(len(temp_data)>0):\n",
    "                try:\n",
    "                    start=temp['start_date']\n",
    "                except KeyError:\n",
    "                    temp['start_date']=count\n",
    "                list_message_present.append(len(temp_data))\n",
    "    if(len(list_message_present)>0):\n",
    "        temp['mean_messages']= len(user_data)/temp['num_users']\n",
    "        temp['stdev_messages']=np.std(list_message_present)\n",
    "        temp['month_present']=len(list_message_present)\n",
    "        tuples_list_grp.append(temp)         \n",
    "\n"
   ]
  },
  {
   "cell_type": "code",
   "execution_count": 147,
   "metadata": {},
   "outputs": [],
   "source": [
    "df_groups = pd.DataFrame(tuples_list_grp) "
   ]
  },
  {
   "cell_type": "code",
   "execution_count": 148,
   "metadata": {},
   "outputs": [],
   "source": [
    "df_groups = df_groups[df_groups['treatment']!=-1]"
   ]
  },
  {
   "cell_type": "code",
   "execution_count": 149,
   "metadata": {},
   "outputs": [
    {
     "data": {
      "text/plain": [
       "950"
      ]
     },
     "execution_count": 149,
     "metadata": {},
     "output_type": "execute_result"
    }
   ],
   "source": [
    "len(df_groups[df_groups['treatment']==1])"
   ]
  },
  {
   "cell_type": "code",
   "execution_count": 150,
   "metadata": {},
   "outputs": [],
   "source": [
    "from pscore_match.pscore import PropensityScore\n",
    "#from pscore_match.match import Match, whichMatched\n",
    "from scipy.stats import gaussian_kde\n",
    "import matplotlib.pyplot as plt\n",
    "import numpy as np\n",
    "import pandas as pd\n",
    "\n",
    "\n",
    "treatment = np.array(df_groups.treatment)\n",
    "cov_list = ['start_date','num_users','month_present','mean_messages']\n",
    "#cov_list = ['start_date','month_present']\n",
    "\n",
    "covariates = df_groups[cov_list]\n",
    "\n",
    "pscore = PropensityScore(treatment, covariates).compute()\n",
    "df_groups['pscore']=pscore\n",
    "pairs = Match(df_groups,caliper = 1)\n",
    "data_matched=whichMatched(pairs, df_groups, many = False, unique = False)\n",
    "# pairs = Match(treatment, pscore)\n",
    "# pairs.create(method='one-to-one',caliper=0.001,replace=False)\n",
    "# data_matched = whichMatched(pairs, pd.DataFrame({'pscore': pscore, 'treatment' :treatment, 'user_id':df.user_id}))\n"
   ]
  },
  {
   "cell_type": "code",
   "execution_count": 151,
   "metadata": {},
   "outputs": [
    {
     "name": "stdout",
     "output_type": "stream",
     "text": [
      "950\n",
      "950\n"
     ]
    }
   ],
   "source": [
    "treatment=np.array(data_matched[data_matched['treatment']==1].pscore)\n",
    "control=np.array(data_matched[data_matched['treatment']==0].pscore)\n",
    "\n",
    "\n",
    "print(data_fear_speech.group_id_anonymized.nunique())\n",
    "print(len(treatment))"
   ]
  },
  {
   "cell_type": "code",
   "execution_count": 152,
   "metadata": {},
   "outputs": [
    {
     "data": {
      "text/html": [
       "<div>\n",
       "<style scoped>\n",
       "    .dataframe tbody tr th:only-of-type {\n",
       "        vertical-align: middle;\n",
       "    }\n",
       "\n",
       "    .dataframe tbody tr th {\n",
       "        vertical-align: top;\n",
       "    }\n",
       "\n",
       "    .dataframe thead th {\n",
       "        text-align: right;\n",
       "    }\n",
       "</style>\n",
       "<table border=\"1\" class=\"dataframe\">\n",
       "  <thead>\n",
       "    <tr style=\"text-align: right;\">\n",
       "      <th></th>\n",
       "      <th>group_id</th>\n",
       "      <th>treatment</th>\n",
       "      <th>num_users</th>\n",
       "      <th>start_date</th>\n",
       "      <th>mean_messages</th>\n",
       "      <th>stdev_messages</th>\n",
       "      <th>month_present</th>\n",
       "      <th>pscore</th>\n",
       "    </tr>\n",
       "  </thead>\n",
       "  <tbody>\n",
       "    <tr>\n",
       "      <th>1</th>\n",
       "      <td>9860</td>\n",
       "      <td>1</td>\n",
       "      <td>188</td>\n",
       "      <td>7</td>\n",
       "      <td>10.952128</td>\n",
       "      <td>162.887913</td>\n",
       "      <td>6</td>\n",
       "      <td>0.354408</td>\n",
       "    </tr>\n",
       "    <tr>\n",
       "      <th>2</th>\n",
       "      <td>252</td>\n",
       "      <td>1</td>\n",
       "      <td>175</td>\n",
       "      <td>7</td>\n",
       "      <td>5.360000</td>\n",
       "      <td>67.728420</td>\n",
       "      <td>12</td>\n",
       "      <td>0.625226</td>\n",
       "    </tr>\n",
       "    <tr>\n",
       "      <th>5</th>\n",
       "      <td>4016</td>\n",
       "      <td>1</td>\n",
       "      <td>331</td>\n",
       "      <td>7</td>\n",
       "      <td>18.531722</td>\n",
       "      <td>501.828196</td>\n",
       "      <td>13</td>\n",
       "      <td>0.917193</td>\n",
       "    </tr>\n",
       "    <tr>\n",
       "      <th>9</th>\n",
       "      <td>9337</td>\n",
       "      <td>1</td>\n",
       "      <td>78</td>\n",
       "      <td>7</td>\n",
       "      <td>11.871795</td>\n",
       "      <td>53.705214</td>\n",
       "      <td>6</td>\n",
       "      <td>0.143876</td>\n",
       "    </tr>\n",
       "    <tr>\n",
       "      <th>11</th>\n",
       "      <td>4872</td>\n",
       "      <td>1</td>\n",
       "      <td>5</td>\n",
       "      <td>7</td>\n",
       "      <td>834.800000</td>\n",
       "      <td>177.229717</td>\n",
       "      <td>14</td>\n",
       "      <td>0.355488</td>\n",
       "    </tr>\n",
       "    <tr>\n",
       "      <th>...</th>\n",
       "      <td>...</td>\n",
       "      <td>...</td>\n",
       "      <td>...</td>\n",
       "      <td>...</td>\n",
       "      <td>...</td>\n",
       "      <td>...</td>\n",
       "      <td>...</td>\n",
       "      <td>...</td>\n",
       "    </tr>\n",
       "    <tr>\n",
       "      <th>5517</th>\n",
       "      <td>8800</td>\n",
       "      <td>1</td>\n",
       "      <td>10</td>\n",
       "      <td>19</td>\n",
       "      <td>3.700000</td>\n",
       "      <td>11.500000</td>\n",
       "      <td>2</td>\n",
       "      <td>0.081120</td>\n",
       "    </tr>\n",
       "    <tr>\n",
       "      <th>5522</th>\n",
       "      <td>8797</td>\n",
       "      <td>1</td>\n",
       "      <td>10</td>\n",
       "      <td>19</td>\n",
       "      <td>1.900000</td>\n",
       "      <td>8.500000</td>\n",
       "      <td>2</td>\n",
       "      <td>0.081070</td>\n",
       "    </tr>\n",
       "    <tr>\n",
       "      <th>5540</th>\n",
       "      <td>8810</td>\n",
       "      <td>1</td>\n",
       "      <td>14</td>\n",
       "      <td>20</td>\n",
       "      <td>5.000000</td>\n",
       "      <td>0.000000</td>\n",
       "      <td>1</td>\n",
       "      <td>0.074788</td>\n",
       "    </tr>\n",
       "    <tr>\n",
       "      <th>5542</th>\n",
       "      <td>8812</td>\n",
       "      <td>1</td>\n",
       "      <td>18</td>\n",
       "      <td>20</td>\n",
       "      <td>3.777778</td>\n",
       "      <td>0.000000</td>\n",
       "      <td>1</td>\n",
       "      <td>0.077790</td>\n",
       "    </tr>\n",
       "    <tr>\n",
       "      <th>5550</th>\n",
       "      <td>8808</td>\n",
       "      <td>1</td>\n",
       "      <td>14</td>\n",
       "      <td>20</td>\n",
       "      <td>3.714286</td>\n",
       "      <td>0.000000</td>\n",
       "      <td>1</td>\n",
       "      <td>0.074755</td>\n",
       "    </tr>\n",
       "  </tbody>\n",
       "</table>\n",
       "<p>950 rows × 8 columns</p>\n",
       "</div>"
      ],
      "text/plain": [
       "      group_id  treatment  num_users  start_date  mean_messages  \\\n",
       "1         9860          1        188           7      10.952128   \n",
       "2          252          1        175           7       5.360000   \n",
       "5         4016          1        331           7      18.531722   \n",
       "9         9337          1         78           7      11.871795   \n",
       "11        4872          1          5           7     834.800000   \n",
       "...        ...        ...        ...         ...            ...   \n",
       "5517      8800          1         10          19       3.700000   \n",
       "5522      8797          1         10          19       1.900000   \n",
       "5540      8810          1         14          20       5.000000   \n",
       "5542      8812          1         18          20       3.777778   \n",
       "5550      8808          1         14          20       3.714286   \n",
       "\n",
       "      stdev_messages  month_present    pscore  \n",
       "1         162.887913              6  0.354408  \n",
       "2          67.728420             12  0.625226  \n",
       "5         501.828196             13  0.917193  \n",
       "9          53.705214              6  0.143876  \n",
       "11        177.229717             14  0.355488  \n",
       "...              ...            ...       ...  \n",
       "5517       11.500000              2  0.081120  \n",
       "5522        8.500000              2  0.081070  \n",
       "5540        0.000000              1  0.074788  \n",
       "5542        0.000000              1  0.077790  \n",
       "5550        0.000000              1  0.074755  \n",
       "\n",
       "[950 rows x 8 columns]"
      ]
     },
     "execution_count": 152,
     "metadata": {},
     "output_type": "execute_result"
    }
   ],
   "source": [
    "df_groups[df_groups['treatment']==1]"
   ]
  },
  {
   "cell_type": "code",
   "execution_count": 153,
   "metadata": {},
   "outputs": [
    {
     "name": "stdout",
     "output_type": "stream",
     "text": [
      "Pearsons correlation: -0.484\n"
     ]
    }
   ],
   "source": [
    "from scipy.stats import pearsonr\n",
    "# seed random number generator\n",
    "seed(1)\n",
    "# prepare data\n",
    "data1 = 20 * randn(1000) + 100\n",
    "data2 = data1 + (10 * randn(1000) + 50)\n",
    "# calculate Pearson's correlation\n",
    "corr, _ = pearsonr(df_groups['start_date'], df_groups['month_present'])\n",
    "print('Pearsons correlation: %.3f' % corr)"
   ]
  },
  {
   "cell_type": "code",
   "execution_count": 154,
   "metadata": {},
   "outputs": [
    {
     "name": "stdout",
     "output_type": "stream",
     "text": [
      "Statistics=450665.500, p=0.481\n",
      "Same distribution (fail to reject H0)\n"
     ]
    }
   ],
   "source": [
    "from numpy.random import seed\n",
    "from numpy.random import randn\n",
    "from scipy.stats import mannwhitneyu\n",
    "# seed the random number generator\n",
    "seed(2)\n",
    "# generate two independent samples\n",
    "# compare samples\n",
    "stat, p = mannwhitneyu(treatment, control)\n",
    "print('Statistics=%.3f, p=%.3f' % (stat, p))\n",
    "# interpret\n",
    "alpha = 0.005\n",
    "if p > alpha:\n",
    "\tprint('Same distribution (fail to reject H0)')\n",
    "else:\n",
    "\tprint('Different distribution (reject H0)')"
   ]
  },
  {
   "cell_type": "code",
   "execution_count": 94,
   "metadata": {},
   "outputs": [],
   "source": [
    "matched_groups=[]\n",
    "for index,row in data_matched.iterrows():\n",
    "    if(row['treatment']==1):\n",
    "        matched_groups.append([int(row['group_id']),'Fear speech'])\n",
    "    else:\n",
    "        matched_groups.append([int(row['group_id']),'Non fear speech'])\n",
    "    "
   ]
  },
  {
   "cell_type": "code",
   "execution_count": 133,
   "metadata": {},
   "outputs": [],
   "source": [
    "df_group_matched=pd.DataFrame(matched_groups,columns=['grp_id','annotation'])"
   ]
  },
  {
   "cell_type": "code",
   "execution_count": 134,
   "metadata": {},
   "outputs": [],
   "source": [
    "df_group_matched.to_csv(parent_path+'final_group_selection_matched.csv',index=False)"
   ]
  },
  {
   "cell_type": "code",
   "execution_count": 97,
   "metadata": {},
   "outputs": [
    {
     "data": {
      "text/html": [
       "<div>\n",
       "<style scoped>\n",
       "    .dataframe tbody tr th:only-of-type {\n",
       "        vertical-align: middle;\n",
       "    }\n",
       "\n",
       "    .dataframe tbody tr th {\n",
       "        vertical-align: top;\n",
       "    }\n",
       "\n",
       "    .dataframe thead th {\n",
       "        text-align: right;\n",
       "    }\n",
       "</style>\n",
       "<table border=\"1\" class=\"dataframe\">\n",
       "  <thead>\n",
       "    <tr style=\"text-align: right;\">\n",
       "      <th></th>\n",
       "      <th>grp_id</th>\n",
       "      <th>annotation</th>\n",
       "    </tr>\n",
       "  </thead>\n",
       "  <tbody>\n",
       "    <tr>\n",
       "      <th>0</th>\n",
       "      <td>9851</td>\n",
       "      <td>Fear speech</td>\n",
       "    </tr>\n",
       "    <tr>\n",
       "      <th>1</th>\n",
       "      <td>960</td>\n",
       "      <td>Fear speech</td>\n",
       "    </tr>\n",
       "    <tr>\n",
       "      <th>2</th>\n",
       "      <td>4057</td>\n",
       "      <td>Fear speech</td>\n",
       "    </tr>\n",
       "    <tr>\n",
       "      <th>3</th>\n",
       "      <td>936</td>\n",
       "      <td>Fear speech</td>\n",
       "    </tr>\n",
       "    <tr>\n",
       "      <th>4</th>\n",
       "      <td>838</td>\n",
       "      <td>Fear speech</td>\n",
       "    </tr>\n",
       "    <tr>\n",
       "      <th>...</th>\n",
       "      <td>...</td>\n",
       "      <td>...</td>\n",
       "    </tr>\n",
       "    <tr>\n",
       "      <th>167</th>\n",
       "      <td>1134</td>\n",
       "      <td>Non fear speech</td>\n",
       "    </tr>\n",
       "    <tr>\n",
       "      <th>168</th>\n",
       "      <td>81</td>\n",
       "      <td>Non fear speech</td>\n",
       "    </tr>\n",
       "    <tr>\n",
       "      <th>169</th>\n",
       "      <td>2656</td>\n",
       "      <td>Non fear speech</td>\n",
       "    </tr>\n",
       "    <tr>\n",
       "      <th>170</th>\n",
       "      <td>5071</td>\n",
       "      <td>Non fear speech</td>\n",
       "    </tr>\n",
       "    <tr>\n",
       "      <th>171</th>\n",
       "      <td>5792</td>\n",
       "      <td>Non fear speech</td>\n",
       "    </tr>\n",
       "  </tbody>\n",
       "</table>\n",
       "<p>172 rows × 2 columns</p>\n",
       "</div>"
      ],
      "text/plain": [
       "     grp_id       annotation\n",
       "0      9851      Fear speech\n",
       "1       960      Fear speech\n",
       "2      4057      Fear speech\n",
       "3       936      Fear speech\n",
       "4       838      Fear speech\n",
       "..      ...              ...\n",
       "167    1134  Non fear speech\n",
       "168      81  Non fear speech\n",
       "169    2656  Non fear speech\n",
       "170    5071  Non fear speech\n",
       "171    5792  Non fear speech\n",
       "\n",
       "[172 rows x 2 columns]"
      ]
     },
     "execution_count": 97,
     "metadata": {},
     "output_type": "execute_result"
    }
   ],
   "source": [
    "df_group_matched"
   ]
  },
  {
   "cell_type": "code",
   "execution_count": 135,
   "metadata": {},
   "outputs": [
    {
     "data": {
      "text/plain": [
       "896"
      ]
     },
     "execution_count": 135,
     "metadata": {},
     "output_type": "execute_result"
    }
   ],
   "source": [
    "len(treatment)"
   ]
  },
  {
   "cell_type": "code",
   "execution_count": null,
   "metadata": {},
   "outputs": [],
   "source": []
  }
 ],
 "metadata": {
  "kernelspec": {
   "display_name": "Python [conda env:.conda-punyajoy_gpu] *",
   "language": "python",
   "name": "conda-env-.conda-punyajoy_gpu-py"
  },
  "language_info": {
   "codemirror_mode": {
    "name": "ipython",
    "version": 3
   },
   "file_extension": ".py",
   "mimetype": "text/x-python",
   "name": "python",
   "nbconvert_exporter": "python",
   "pygments_lexer": "ipython3",
   "version": "3.7.3"
  }
 },
 "nbformat": 4,
 "nbformat_minor": 2
}
