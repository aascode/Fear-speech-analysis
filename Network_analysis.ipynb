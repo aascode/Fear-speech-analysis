{
 "cells": [
  {
   "cell_type": "code",
   "execution_count": 4,
   "metadata": {},
   "outputs": [],
   "source": [
    "import networkx as nx\n",
    "import pandas as pd\n",
    "from tqdm import tqdm_notebook,tqdm\n",
    "import numpy as np\n",
    "parent_path='../Data/New_Data_15-06-2020/'"
   ]
  },
  {
   "cell_type": "code",
   "execution_count": 5,
   "metadata": {},
   "outputs": [],
   "source": [
    "annotated_df=pd.read_pickle(parent_path+'Fearspeech_data_final.pkl')\n",
    "whatsapp_data=pd.read_csv(parent_path+'Data_text_spam_removed_v02.csv')\n",
    "temp=whatsapp_data[['group_id_anonymized','phone_num_anonymized','message_text','timestamp']]\n",
    "duplicateDFRow = temp[temp.duplicated()]\n",
    "whatsapp_data=whatsapp_data.drop(list(duplicateDFRow.index))\n"
   ]
  },
  {
   "cell_type": "code",
   "execution_count": 11,
   "metadata": {},
   "outputs": [
    {
     "name": "stderr",
     "output_type": "stream",
     "text": [
      "100%|██████████| 167905/167905 [05:16<00:00, 529.99it/s]\n"
     ]
    }
   ],
   "source": [
    "dict_users_ids={}\n",
    "dict_users_names={}\n",
    "dict_users_groups={}  \n",
    "count=0\n",
    "for user in tqdm(whatsapp_data['phone_num_anonymized'].unique()):\n",
    "    if user in annotated_df.phone_num_anonymized.unique():\n",
    "        dict_users_ids[count]=user\n",
    "        dict_users_names[count]='fear speech'\n",
    "    else:\n",
    "        dict_users_ids[count]=user\n",
    "        dict_users_names[count]='normal'\n",
    "        \n",
    "    dict_users_groups[count]=set(whatsapp_data[whatsapp_data['phone_num_anonymized']==user].group_id_anonymized)\n",
    "    count+=1"
   ]
  },
  {
   "cell_type": "code",
   "execution_count": 13,
   "metadata": {},
   "outputs": [
    {
     "name": "stderr",
     "output_type": "stream",
     "text": [
      "100%|██████████| 167905/167905 [3:02:50<00:00, 15.31it/s]  \n"
     ]
    }
   ],
   "source": [
    "tuples_user_info=[]\n",
    "for user1 in tqdm(dict_users_ids):\n",
    "    for user2 in dict_users_ids:\n",
    "        if(user1==user2):\n",
    "            continue\n",
    "        temp_user1_groups= dict_users_groups[user1]\n",
    "        temp_user2_groups= dict_users_groups[user2]\n",
    "        common_groups=len(temp_user1_groups.intersection(temp_user2_groups))\n",
    "        if(common_groups>0):\n",
    "            tuples_user_info.append([user1,user2,common_groups])"
   ]
  },
  {
   "cell_type": "code",
   "execution_count": null,
   "metadata": {},
   "outputs": [],
   "source": []
  }
 ],
 "metadata": {
  "kernelspec": {
   "display_name": "Python [conda env:.conda-punyajoy_gpu] *",
   "language": "python",
   "name": "conda-env-.conda-punyajoy_gpu-py"
  },
  "language_info": {
   "codemirror_mode": {
    "name": "ipython",
    "version": 3
   },
   "file_extension": ".py",
   "mimetype": "text/x-python",
   "name": "python",
   "nbconvert_exporter": "python",
   "pygments_lexer": "ipython3",
   "version": "3.7.3"
  }
 },
 "nbformat": 4,
 "nbformat_minor": 4
}
