{
 "cells": [
  {
   "cell_type": "code",
   "execution_count": 1,
   "metadata": {},
   "outputs": [],
   "source": [
    "import networkx as nx\n",
    "import pandas as pd\n",
    "from tqdm import tqdm_notebook,tqdm\n",
    "import numpy as np\n",
    "import parmap\n",
    "parent_path='../Data/New_Data_15-06-2020/'"
   ]
  },
  {
   "cell_type": "code",
   "execution_count": 2,
   "metadata": {},
   "outputs": [],
   "source": [
    "annotated_df=pd.read_pickle(parent_path+'Fearspeech_data_final.pkl')\n",
    "whatsapp_data=pd.read_csv(parent_path+'Data_text_spam_removed_v02_hi_en.csv')\n",
    "temp=whatsapp_data[['group_id_anonymized','phone_num_anonymized','message_text','timestamp']]\n",
    "duplicateDFRow = temp[temp.duplicated()]\n",
    "whatsapp_data=whatsapp_data.drop(list(duplicateDFRow.index))\n"
   ]
  },
  {
   "cell_type": "code",
   "execution_count": 3,
   "metadata": {},
   "outputs": [],
   "source": [
    "whatsapp_data=whatsapp_data.sort_values('timestamp')"
   ]
  },
  {
   "cell_type": "code",
   "execution_count": 18,
   "metadata": {},
   "outputs": [],
   "source": [
    "df_user_matched=pd.read_csv(parent_path+'final_user_selection_matched.csv')"
   ]
  },
  {
   "cell_type": "code",
   "execution_count": 19,
   "metadata": {},
   "outputs": [
    {
     "data": {
      "text/plain": [
       "2932"
      ]
     },
     "execution_count": 19,
     "metadata": {},
     "output_type": "execute_result"
    }
   ],
   "source": [
    "len(df_user_matched[df_user_matched['annotation']=='Non fear speech'])"
   ]
  },
  {
   "cell_type": "code",
   "execution_count": 4,
   "metadata": {},
   "outputs": [
    {
     "name": "stderr",
     "output_type": "stream",
     "text": [
      "100%|██████████| 109542/109542 [02:02<00:00, 897.69it/s]\n"
     ]
    }
   ],
   "source": [
    "dict_users_ids={}\n",
    "dict_users_names={}\n",
    "dict_users_groups={}  \n",
    "count=0\n",
    "for user in tqdm(whatsapp_data['phone_num_anonymized'].unique()):\n",
    "    dict_users_ids[count]=user\n",
    "#         dict_users_names[count]='fear speech'\n",
    "#     else:\n",
    "#         dict_users_ids[count]=user\n",
    "#         dict_users_names[count]='normal'\n",
    "        \n",
    "    dict_users_groups[count]=set(whatsapp_data[whatsapp_data['phone_num_anonymized']==user].group_id_anonymized)\n",
    "    count+=1"
   ]
  },
  {
   "cell_type": "code",
   "execution_count": null,
   "metadata": {},
   "outputs": [],
   "source": [
    "dict_users_groups[247483]"
   ]
  },
  {
   "cell_type": "code",
   "execution_count": null,
   "metadata": {},
   "outputs": [],
   "source": [
    "count_empty=0\n",
    "\n",
    "for key in range(count):\n",
    "    if dict_users_groups[key]:\n",
    "         pass\n",
    "    else:\n",
    "        count_empty+=1\n",
    "\n",
    "    "
   ]
  },
  {
   "cell_type": "code",
   "execution_count": null,
   "metadata": {},
   "outputs": [],
   "source": [
    "count_empty"
   ]
  },
  {
   "cell_type": "code",
   "execution_count": null,
   "metadata": {},
   "outputs": [],
   "source": [
    "def add_edge_tuples(list_users,user1):\n",
    "    tuples_user_info=[]\n",
    "    for user2 in list_users:\n",
    "        if(user1==user2):\n",
    "            continue\n",
    "        temp_user1_groups= dict_users_groups[user1]\n",
    "        temp_user2_groups= dict_users_groups[user2]\n",
    "        common_groups=len(temp_user1_groups.intersection(temp_user2_groups))\n",
    "        if(common_groups>0):\n",
    "            tuples_user_info.append([user1,user2,common_groups])\n",
    "    return tuples_user_info\n",
    "\n"
   ]
  },
  {
   "cell_type": "code",
   "execution_count": 6,
   "metadata": {},
   "outputs": [
    {
     "name": "stderr",
     "output_type": "stream",
     "text": [
      "100%|██████████| 109542/109542 [43:19<00:00, 42.14it/s]  \n"
     ]
    }
   ],
   "source": [
    "tuples_user_info=[]\n",
    "#list_split = np.array_split(list(dict_users_ids.keys()), n_process)\n",
    "\n",
    "list_users= list(dict_users_ids.keys())\n",
    "for i in tqdm(range(len(list_users))):\n",
    "#     list_all = parmap.map(add_edge_tuples, list_split, user1, pm_processes=n_process,pm_pbar=False)\n",
    "#     flat_list = [item for sublist in list_all for item in sublist]\n",
    "#     tuples_user_info+=flat_list\n",
    "    for j in range(i,len(list_users)):\n",
    "        if(i==j):\n",
    "            continue\n",
    "        temp_user1_groups= dict_users_groups[list_users[i]]\n",
    "        temp_user2_groups= dict_users_groups[list_users[j]]\n",
    "        common_groups=len(temp_user1_groups.intersection(temp_user2_groups))\n",
    "        if(common_groups>0):\n",
    "            tuples_user_info.append([list_users[i],list_users[j],common_groups])"
   ]
  },
  {
   "cell_type": "code",
   "execution_count": 7,
   "metadata": {},
   "outputs": [],
   "source": [
    "import networkx as nx"
   ]
  },
  {
   "cell_type": "code",
   "execution_count": 8,
   "metadata": {},
   "outputs": [],
   "source": [
    "G = nx.Graph()"
   ]
  },
  {
   "cell_type": "code",
   "execution_count": 12,
   "metadata": {},
   "outputs": [
    {
     "name": "stdout",
     "output_type": "stream",
     "text": [
      "False\n"
     ]
    }
   ],
   "source": [
    "print(nx.is_connected(G))"
   ]
  },
  {
   "cell_type": "code",
   "execution_count": 15,
   "metadata": {},
   "outputs": [
    {
     "data": {
      "text/plain": [
       "6382883"
      ]
     },
     "execution_count": 15,
     "metadata": {},
     "output_type": "execute_result"
    }
   ],
   "source": [
    "len(G.edges())"
   ]
  },
  {
   "cell_type": "code",
   "execution_count": 14,
   "metadata": {},
   "outputs": [],
   "source": [
    "G.add_weighted_edges_from(tuples_user_info)"
   ]
  },
  {
   "cell_type": "code",
   "execution_count": null,
   "metadata": {},
   "outputs": [],
   "source": [
    "import json\n",
    "\n",
    "def convert(o):\n",
    "    if isinstance(o, np.generic): return o.item()  \n",
    "    raise TypeError\n",
    "\n",
    "#json.dumps({'value': numpy.int64(42)}, default=convert)\n",
    "\n",
    "\n",
    "with open(\"Networks/user_dict.json\", 'w') as fp:\n",
    "    json.dump(dict_users_ids, fp,ensure_ascii=False,default=convert)\n",
    "with open(\"Networks/user_labels_dict.json\", 'w') as fp:\n",
    "    json.dump(dict_users_names, fp,ensure_ascii=False,default=convert)\n",
    "nx.write_weighted_edgelist(G, \"Networks/users_network.edgelist.gz\")"
   ]
  },
  {
   "cell_type": "markdown",
   "metadata": {},
   "source": [
    "### Load precomputed"
   ]
  },
  {
   "cell_type": "code",
   "execution_count": null,
   "metadata": {},
   "outputs": [],
   "source": [
    "import json\n",
    "\n",
    "with open(\"Networks/user_dict.json\", 'r') as fp:\n",
    "    dict_users_ids=json.load(fp)\n",
    "with open(\"Networks/user_labels_dict.json\", 'r') as fp:\n",
    "    dict_users_names=json.load(fp)\n",
    "\n",
    "    \n",
    "G=nx.read_weighted_edgelist(\"Networks/users_network.edgelist.gz\")\n",
    "    "
   ]
  },
  {
   "cell_type": "code",
   "execution_count": 16,
   "metadata": {},
   "outputs": [],
   "source": [
    "k_cores=nx.algorithms.core.core_number(G)"
   ]
  },
  {
   "cell_type": "code",
   "execution_count": 17,
   "metadata": {},
   "outputs": [
    {
     "data": {
      "text/plain": [
       "109292"
      ]
     },
     "execution_count": 17,
     "metadata": {},
     "output_type": "execute_result"
    }
   ],
   "source": [
    "len(k_cores)"
   ]
  },
  {
   "cell_type": "code",
   "execution_count": null,
   "metadata": {},
   "outputs": [],
   "source": [
    "largest_cc = max(nx.connected_components(G), key=len)"
   ]
  },
  {
   "cell_type": "code",
   "execution_count": null,
   "metadata": {},
   "outputs": [],
   "source": [
    "S = G.subgraph(largest_cc).copy()"
   ]
  },
  {
   "cell_type": "code",
   "execution_count": null,
   "metadata": {},
   "outputs": [],
   "source": [
    "dict_centrality=nx.algorithms.centrality.information_centrality(S, weight='weight', dtype='int', solver='full')"
   ]
  },
  {
   "cell_type": "code",
   "execution_count": 21,
   "metadata": {},
   "outputs": [
    {
     "name": "stderr",
     "output_type": "stream",
     "text": [
      "100%|██████████| 4782/4782 [00:00<00:00, 14797.42it/s]\n"
     ]
    }
   ],
   "source": [
    "all_fear_speech_index=[]\n",
    "all_normal_index=[]\n",
    "\n",
    "count_fearspeech=0\n",
    "count_normal=0\n",
    "\n",
    "for index,row in tqdm(annotated_df.iterrows(),total=len(annotated_df)):\n",
    "    if(row['one_fear_speech']==1):\n",
    "        count_fearspeech+=1\n",
    "        all_fear_speech_index+=row['repeated']\n",
    "    elif(row['one_fear_speech']==0):\n",
    "        count_normal+=1\n",
    "        all_normal_index+=row['repeated']\n",
    "\n",
    "data_fear_speech=whatsapp_data[whatsapp_data['orig_index'].isin(all_fear_speech_index)]\n",
    "data_normal=whatsapp_data[whatsapp_data['orig_index'].isin(all_normal_index)]\n"
   ]
  },
  {
   "cell_type": "code",
   "execution_count": 22,
   "metadata": {},
   "outputs": [
    {
     "data": {
      "text/plain": [
       "2933"
      ]
     },
     "execution_count": 22,
     "metadata": {},
     "output_type": "execute_result"
    }
   ],
   "source": [
    "len(data_fear_speech.phone_num_anonymized.unique())"
   ]
  },
  {
   "cell_type": "code",
   "execution_count": 28,
   "metadata": {},
   "outputs": [],
   "source": [
    "list_messages=[]\n",
    "for user in data_fear_speech.phone_num_anonymized.unique():\n",
    "    temp_user=data_fear_speech[data_fear_speech['phone_num_anonymized']==user]\n",
    "    list_messages.append(len(temp_user))\n",
    "    \n",
    "\n"
   ]
  },
  {
   "cell_type": "code",
   "execution_count": 29,
   "metadata": {
    "scrolled": true
   },
   "outputs": [
    {
     "data": {
      "image/png": "[encoded data removed]",
      "text/plain": [
       "<Figure size 360x360 with 1 Axes>"
      ]
     },
     "metadata": {},
     "output_type": "display_data"
    }
   ],
   "source": [
    "%matplotlib inline\n",
    "import matplotlib.pyplot as plt\n",
    "import matplotlib\n",
    "import seaborn as sns\n",
    "matplotlib.rcParams['figure.figsize'] = (5, 5)\n",
    "\n",
    "#     'weight' : 'normal',\n",
    "#     'size'   : 15}\n",
    "# matplotlib.rc('font', **font)\n",
    "#data_timeline.plot()\n",
    "sns.set(context='paper',style='white',font_scale=2.0)\n",
    "\n",
    "font = {\n",
    "    'weight' : 'normal',\n",
    "    'size'   : 11}\n",
    "ax = sns.histplot(x=list_messages,bins=100)\n",
    "\n",
    "plt.xlabel('amount of fear speech')\n",
    "plt.ylabel('number of users')\n",
    "\n",
    "plt.yscale('log')\n",
    "plt.savefig('../Fear_speech_results/fear_speech_per_users.pdf',bbox_inches='tight',dpi=400)\n",
    "\n",
    "plt.show()"
   ]
  },
  {
   "cell_type": "code",
   "execution_count": 30,
   "metadata": {},
   "outputs": [
    {
     "data": {
      "image/png": "[encoded data removed]",
      "text/plain": [
       "<Figure size 360x360 with 1 Axes>"
      ]
     },
     "metadata": {},
     "output_type": "display_data"
    }
   ],
   "source": [
    "\n",
    "\n",
    "%matplotlib inline\n",
    "import matplotlib.pyplot as plt\n",
    "import matplotlib\n",
    "\n",
    "matplotlib.rcParams['figure.figsize'] = (5, 5)\n",
    "\n",
    "#     'weight' : 'normal',\n",
    "#     'size'   : 15}\n",
    "# matplotlib.rc('font', **font)\n",
    "#data_timeline.plot()\n",
    "sns.set(context='paper',style='white',font_scale=2.0)\n",
    "\n",
    "font = {\n",
    "    'weight' : 'normal',\n",
    "    'size'   : 11}\n",
    "\n",
    "\n",
    "list_messages=[]\n",
    "for user in data_fear_speech.group_id_anonymized.unique():\n",
    "    temp_user=data_fear_speech[data_fear_speech['group_id_anonymized']==user]\n",
    "    list_messages.append(len(temp_user))\n",
    "    \n",
    "ax = sns.histplot(x=list_messages,bins=100)\n",
    "\n",
    "plt.xlabel('amount of fear speech')\n",
    "plt.ylabel('number of groups')\n",
    "\n",
    "plt.yscale('log')\n",
    "plt.savefig('../Fear_speech_results/fear_speech_per_groups.pdf',bbox_inches='tight',dpi=400)\n",
    "\n",
    "plt.show()"
   ]
  },
  {
   "cell_type": "code",
   "execution_count": 31,
   "metadata": {},
   "outputs": [],
   "source": [
    "dict_users_ids_reverse = {v: k for k, v in dict_users_ids.items()}\n"
   ]
  },
  {
   "cell_type": "code",
   "execution_count": 32,
   "metadata": {},
   "outputs": [
    {
     "ename": "TypeError",
     "evalue": "len() takes exactly one argument (0 given)",
     "output_type": "error",
     "traceback": [
      "\u001b[0;31m---------------------------------------------------------------------------\u001b[0m",
      "\u001b[0;31mTypeError\u001b[0m                                 Traceback (most recent call last)",
      "\u001b[0;32m<ipython-input-32-adf3103c7c3e>\u001b[0m in \u001b[0;36m<module>\u001b[0;34m\u001b[0m\n\u001b[0;32m----> 1\u001b[0;31m \u001b[0mlen\u001b[0m\u001b[0;34m(\u001b[0m\u001b[0;34m)\u001b[0m\u001b[0;34m\u001b[0m\u001b[0;34m\u001b[0m\u001b[0m\n\u001b[0m",
      "\u001b[0;31mTypeError\u001b[0m: len() takes exactly one argument (0 given)"
     ]
    }
   ],
   "source": [
    "len()"
   ]
  },
  {
   "cell_type": "code",
   "execution_count": 43,
   "metadata": {},
   "outputs": [
    {
     "data": {
      "text/plain": [
       "1"
      ]
     },
     "execution_count": 43,
     "metadata": {},
     "output_type": "execute_result"
    }
   ],
   "source": [
    "list_cores_fs=[]\n",
    "count=0\n",
    "for user in data_fear_speech.phone_num_anonymized.unique():\n",
    "   \n",
    "    try:\n",
    "        list_cores_fs.append(k_cores[dict_users_ids_reverse[user]])\n",
    "    except:\n",
    "        count+=1\n",
    "        \n",
    "count"
   ]
  },
  {
   "cell_type": "code",
   "execution_count": 76,
   "metadata": {},
   "outputs": [
    {
     "data": {
      "text/html": [
       "<div>\n",
       "<style scoped>\n",
       "    .dataframe tbody tr th:only-of-type {\n",
       "        vertical-align: middle;\n",
       "    }\n",
       "\n",
       "    .dataframe tbody tr th {\n",
       "        vertical-align: top;\n",
       "    }\n",
       "\n",
       "    .dataframe thead th {\n",
       "        text-align: right;\n",
       "    }\n",
       "</style>\n",
       "<table border=\"1\" class=\"dataframe\">\n",
       "  <thead>\n",
       "    <tr style=\"text-align: right;\">\n",
       "      <th></th>\n",
       "      <th>group_id_anonymized</th>\n",
       "      <th>phone_num_anonymized</th>\n",
       "      <th>message_text</th>\n",
       "      <th>timestamp</th>\n",
       "      <th>media_type</th>\n",
       "      <th>media_url</th>\n",
       "      <th>forwarded</th>\n",
       "      <th>orig_index</th>\n",
       "      <th>language</th>\n",
       "      <th>only_urls</th>\n",
       "      <th>is_spam</th>\n",
       "    </tr>\n",
       "  </thead>\n",
       "  <tbody>\n",
       "    <tr>\n",
       "      <th>677</th>\n",
       "      <td>9356</td>\n",
       "      <td>235075</td>\n",
       "      <td>राजस्थान मे किसी मुस्लिम की भीड़ ने हत्या इसलि...</td>\n",
       "      <td>1532311954000</td>\n",
       "      <td>None</td>\n",
       "      <td>None</td>\n",
       "      <td>64</td>\n",
       "      <td>5716783</td>\n",
       "      <td>hi</td>\n",
       "      <td>0</td>\n",
       "      <td>0</td>\n",
       "    </tr>\n",
       "    <tr>\n",
       "      <th>1062</th>\n",
       "      <td>9699</td>\n",
       "      <td>244246</td>\n",
       "      <td>आजादी के बाद से एक समस्या शुरू से मुँह फाड़े ख...</td>\n",
       "      <td>1532338582000</td>\n",
       "      <td>None</td>\n",
       "      <td>None</td>\n",
       "      <td>65</td>\n",
       "      <td>6087694</td>\n",
       "      <td>hi</td>\n",
       "      <td>0</td>\n",
       "      <td>0</td>\n",
       "    </tr>\n",
       "    <tr>\n",
       "      <th>1371</th>\n",
       "      <td>9087</td>\n",
       "      <td>54645</td>\n",
       "      <td>आजादी के बाद से एक समस्या शुरू से मुँह फाड़े ख...</td>\n",
       "      <td>1532356425000</td>\n",
       "      <td>None</td>\n",
       "      <td>None</td>\n",
       "      <td>65</td>\n",
       "      <td>5562669</td>\n",
       "      <td>hi</td>\n",
       "      <td>0</td>\n",
       "      <td>0</td>\n",
       "    </tr>\n",
       "    <tr>\n",
       "      <th>1854</th>\n",
       "      <td>9356</td>\n",
       "      <td>235075</td>\n",
       "      <td>##मॉब_लॉंचिंग \"मॉब लिंचिंग पर राजनीति गर्म है....</td>\n",
       "      <td>1532406075000</td>\n",
       "      <td>None</td>\n",
       "      <td>None</td>\n",
       "      <td>64</td>\n",
       "      <td>5716588</td>\n",
       "      <td>hi</td>\n",
       "      <td>0</td>\n",
       "      <td>0</td>\n",
       "    </tr>\n",
       "    <tr>\n",
       "      <th>2255</th>\n",
       "      <td>9356</td>\n",
       "      <td>217436</td>\n",
       "      <td>*🚩🏹प्रशाषक समिति🏹🚩*  *##मॉब_लॉंचिंग* 🐷😈🐖🐖 *\"मॉ...</td>\n",
       "      <td>1532436871000</td>\n",
       "      <td>None</td>\n",
       "      <td>None</td>\n",
       "      <td>65</td>\n",
       "      <td>5717803</td>\n",
       "      <td>hi</td>\n",
       "      <td>0</td>\n",
       "      <td>0</td>\n",
       "    </tr>\n",
       "    <tr>\n",
       "      <th>...</th>\n",
       "      <td>...</td>\n",
       "      <td>...</td>\n",
       "      <td>...</td>\n",
       "      <td>...</td>\n",
       "      <td>...</td>\n",
       "      <td>...</td>\n",
       "      <td>...</td>\n",
       "      <td>...</td>\n",
       "      <td>...</td>\n",
       "      <td>...</td>\n",
       "      <td>...</td>\n",
       "    </tr>\n",
       "    <tr>\n",
       "      <th>1422960</th>\n",
       "      <td>6687</td>\n",
       "      <td>173142</td>\n",
       "      <td>*जय हिंद✊🚩* (१४/ पोस्ट:-३)  *🇮🇳🇮🇳15 अगस्त पर🇮🇳...</td>\n",
       "      <td>1565760314000</td>\n",
       "      <td>None</td>\n",
       "      <td>None</td>\n",
       "      <td>1</td>\n",
       "      <td>4095862</td>\n",
       "      <td>hi</td>\n",
       "      <td>0</td>\n",
       "      <td>0</td>\n",
       "    </tr>\n",
       "    <tr>\n",
       "      <th>1422980</th>\n",
       "      <td>4033</td>\n",
       "      <td>122354</td>\n",
       "      <td>*जय हिंद✊🚩* (१४/ पोस्ट:-३)  *🇮🇳🇮🇳15 अगस्त पर🇮🇳...</td>\n",
       "      <td>1565761162000</td>\n",
       "      <td>None</td>\n",
       "      <td>None</td>\n",
       "      <td>1</td>\n",
       "      <td>2941633</td>\n",
       "      <td>hi</td>\n",
       "      <td>0</td>\n",
       "      <td>0</td>\n",
       "    </tr>\n",
       "    <tr>\n",
       "      <th>1423171</th>\n",
       "      <td>37</td>\n",
       "      <td>21902</td>\n",
       "      <td>मुस्लीम ने मोदी से कहा 10/15         मिनट के ल...</td>\n",
       "      <td>1565765294000</td>\n",
       "      <td>None</td>\n",
       "      <td>None</td>\n",
       "      <td>1</td>\n",
       "      <td>338378</td>\n",
       "      <td>hi</td>\n",
       "      <td>0</td>\n",
       "      <td>0</td>\n",
       "    </tr>\n",
       "    <tr>\n",
       "      <th>1423184</th>\n",
       "      <td>3989</td>\n",
       "      <td>102886</td>\n",
       "      <td>*जय हिंद✊🚩* (१४/ पोस्ट:-३)  *🇮🇳🇮🇳15 अगस्त पर🇮🇳...</td>\n",
       "      <td>1565765772000</td>\n",
       "      <td>None</td>\n",
       "      <td>None</td>\n",
       "      <td>1</td>\n",
       "      <td>2942257</td>\n",
       "      <td>hi</td>\n",
       "      <td>0</td>\n",
       "      <td>0</td>\n",
       "    </tr>\n",
       "    <tr>\n",
       "      <th>1424002</th>\n",
       "      <td>554</td>\n",
       "      <td>19672</td>\n",
       "      <td>इतिहास के 10 सबसे बड़े झूठ 1. दो गोली लगने के ...</td>\n",
       "      <td>1566386553000</td>\n",
       "      <td>None</td>\n",
       "      <td>None</td>\n",
       "      <td>1</td>\n",
       "      <td>342991</td>\n",
       "      <td>hi</td>\n",
       "      <td>0</td>\n",
       "      <td>0</td>\n",
       "    </tr>\n",
       "  </tbody>\n",
       "</table>\n",
       "<p>7845 rows × 11 columns</p>\n",
       "</div>"
      ],
      "text/plain": [
       "         group_id_anonymized  phone_num_anonymized  \\\n",
       "677                     9356                235075   \n",
       "1062                    9699                244246   \n",
       "1371                    9087                 54645   \n",
       "1854                    9356                235075   \n",
       "2255                    9356                217436   \n",
       "...                      ...                   ...   \n",
       "1422960                 6687                173142   \n",
       "1422980                 4033                122354   \n",
       "1423171                   37                 21902   \n",
       "1423184                 3989                102886   \n",
       "1424002                  554                 19672   \n",
       "\n",
       "                                              message_text      timestamp  \\\n",
       "677      राजस्थान मे किसी मुस्लिम की भीड़ ने हत्या इसलि...  1532311954000   \n",
       "1062     आजादी के बाद से एक समस्या शुरू से मुँह फाड़े ख...  1532338582000   \n",
       "1371     आजादी के बाद से एक समस्या शुरू से मुँह फाड़े ख...  1532356425000   \n",
       "1854     ##मॉब_लॉंचिंग \"मॉब लिंचिंग पर राजनीति गर्म है....  1532406075000   \n",
       "2255     *🚩🏹प्रशाषक समिति🏹🚩*  *##मॉब_लॉंचिंग* 🐷😈🐖🐖 *\"मॉ...  1532436871000   \n",
       "...                                                    ...            ...   \n",
       "1422960  *जय हिंद✊🚩* (१४/ पोस्ट:-३)  *🇮🇳🇮🇳15 अगस्त पर🇮🇳...  1565760314000   \n",
       "1422980  *जय हिंद✊🚩* (१४/ पोस्ट:-३)  *🇮🇳🇮🇳15 अगस्त पर🇮🇳...  1565761162000   \n",
       "1423171  मुस्लीम ने मोदी से कहा 10/15         मिनट के ल...  1565765294000   \n",
       "1423184  *जय हिंद✊🚩* (१४/ पोस्ट:-३)  *🇮🇳🇮🇳15 अगस्त पर🇮🇳...  1565765772000   \n",
       "1424002  इतिहास के 10 सबसे बड़े झूठ 1. दो गोली लगने के ...  1566386553000   \n",
       "\n",
       "        media_type media_url  forwarded  orig_index language  only_urls  \\\n",
       "677           None      None         64     5716783       hi          0   \n",
       "1062          None      None         65     6087694       hi          0   \n",
       "1371          None      None         65     5562669       hi          0   \n",
       "1854          None      None         64     5716588       hi          0   \n",
       "2255          None      None         65     5717803       hi          0   \n",
       "...            ...       ...        ...         ...      ...        ...   \n",
       "1422960       None      None          1     4095862       hi          0   \n",
       "1422980       None      None          1     2941633       hi          0   \n",
       "1423171       None      None          1      338378       hi          0   \n",
       "1423184       None      None          1     2942257       hi          0   \n",
       "1424002       None      None          1      342991       hi          0   \n",
       "\n",
       "         is_spam  \n",
       "677            0  \n",
       "1062           0  \n",
       "1371           0  \n",
       "1854           0  \n",
       "2255           0  \n",
       "...          ...  \n",
       "1422960        0  \n",
       "1422980        0  \n",
       "1423171        0  \n",
       "1423184        0  \n",
       "1424002        0  \n",
       "\n",
       "[7845 rows x 11 columns]"
      ]
     },
     "execution_count": 76,
     "metadata": {},
     "output_type": "execute_result"
    }
   ],
   "source": [
    "data_fear_speech"
   ]
  },
  {
   "cell_type": "code",
   "execution_count": 44,
   "metadata": {},
   "outputs": [
    {
     "data": {
      "image/png": "[encoded data removed]",
      "text/plain": [
       "<Figure size 360x360 with 1 Axes>"
      ]
     },
     "metadata": {},
     "output_type": "display_data"
    }
   ],
   "source": [
    "matplotlib.rcParams['figure.figsize'] = (5, 5)\n",
    "\n",
    "#     'weight' : 'normal',\n",
    "#     'size'   : 15}\n",
    "# matplotlib.rc('font', **font)\n",
    "#data_timeline.plot()\n",
    "sns.set(context='paper',style='white',font_scale=2.0)\n",
    "\n",
    "font = {\n",
    "    'weight' : 'normal',\n",
    "    'size'   : 11}\n",
    "ax = sns.histplot(x=list_cores,bins=50)\n",
    "\n",
    "plt.xlabel('core number')\n",
    "plt.ylabel('# of fear speech users')\n",
    "#ax.set(ylim=(0, 1000))\n",
    "#plt.yscale('log')\n",
    "plt.savefig('../Fear_speech_results/kcore_fear_speech_users.pdf',bbox_inches='tight',dpi=400)\n",
    "\n",
    "plt.show()"
   ]
  },
  {
   "cell_type": "code",
   "execution_count": 75,
   "metadata": {},
   "outputs": [
    {
     "data": {
      "text/plain": [
       "0.4367066895368782"
      ]
     },
     "execution_count": 75,
     "metadata": {},
     "output_type": "execute_result"
    }
   ],
   "source": [
    "list_cores_fs\n",
    "len([x for x in list_cores_nfs if x>=100])/len(list_cores_nfs)"
   ]
  },
  {
   "cell_type": "code",
   "execution_count": 69,
   "metadata": {},
   "outputs": [
    {
     "data": {
      "text/plain": [
       "2932"
      ]
     },
     "execution_count": 69,
     "metadata": {},
     "output_type": "execute_result"
    }
   ],
   "source": [
    "len(list_cores_fs)"
   ]
  },
  {
   "cell_type": "code",
   "execution_count": 35,
   "metadata": {},
   "outputs": [],
   "source": [
    "user_nfs=df_user_matched[df_user_matched['annotation']=='Non fear speech'].user_id"
   ]
  },
  {
   "cell_type": "code",
   "execution_count": 36,
   "metadata": {},
   "outputs": [
    {
     "data": {
      "text/plain": [
       "2932"
      ]
     },
     "execution_count": 36,
     "metadata": {},
     "output_type": "execute_result"
    }
   ],
   "source": [
    "len(user_nfs)"
   ]
  },
  {
   "cell_type": "code",
   "execution_count": 45,
   "metadata": {},
   "outputs": [],
   "source": [
    "list_cores_nfs=[]\n",
    "for user in user_nfs:\n",
    "    try:\n",
    "        list_cores_nfs.append(k_cores[dict_users_ids_reverse[int(user)]])\n",
    "    except:\n",
    "        list_cores.append(0)"
   ]
  },
  {
   "cell_type": "code",
   "execution_count": 50,
   "metadata": {},
   "outputs": [
    {
     "data": {
      "text/plain": [
       "(0.8666666666666667, 0.5176470588235295, 0.3215686274509804)"
      ]
     },
     "execution_count": 50,
     "metadata": {},
     "output_type": "execute_result"
    }
   ],
   "source": [
    "sns.color_palette()[1]"
   ]
  },
  {
   "cell_type": "code",
   "execution_count": 66,
   "metadata": {},
   "outputs": [
    {
     "data": {
      "image/png": "[encoded data removed]",
      "text/plain": [
       "<Figure size 360x360 with 1 Axes>"
      ]
     },
     "metadata": {},
     "output_type": "display_data"
    }
   ],
   "source": [
    "matplotlib.rcParams['figure.figsize'] = (5, 5)\n",
    "\n",
    "#     'weight' : 'normal',\n",
    "#     'size'   : 15}\n",
    "# matplotlib.rc('font', **font)\n",
    "#data_timeline.plot()\n",
    "sns.set(context='paper',style='white',font_scale=2.0)\n",
    "\n",
    "font = {\n",
    "    'weight' : 'normal',\n",
    "    'size'   : 11}\n",
    "#ax = sns.histplot(x=list_cores_nfs,bins=50,color='#DE8F05')\n",
    "ax=sns.ecdfplot(x=list_cores_nfs,color=sns.color_palette()[1])\n",
    "ax=sns.ecdfplot(x=list_cores_fs,color=sns.color_palette()[0])\n",
    "\n",
    "plt.xlabel('core number')\n",
    "plt.ylabel('fraction of users')\n",
    "#ax.set(ylim=(0, 1000))\n",
    "plt.legend(['NFS users','FS users'])\n",
    "#plt.yscale('log')\n",
    "plt.savefig('../Fear_speech_results/kcore_non_users.pdf',bbox_inches='tight',dpi=400)\n",
    "\n",
    "plt.show()"
   ]
  },
  {
   "cell_type": "code",
   "execution_count": 59,
   "metadata": {},
   "outputs": [],
   "source": [
    "from numpy.random import seed\n",
    "from numpy.random import randn\n",
    "from scipy.stats import mannwhitneyu\n",
    "\n",
    "seed(1)\n",
    "stat, p = mannwhitneyu(list_cores_fs, list_cores_nfs)"
   ]
  },
  {
   "cell_type": "code",
   "execution_count": 63,
   "metadata": {},
   "outputs": [
    {
     "name": "stdout",
     "output_type": "stream",
     "text": [
      "Statistics=3793358.500, p=0.000000\n"
     ]
    }
   ],
   "source": [
    "print('Statistics=%.3f, p=%.6f' % (stat, p))"
   ]
  },
  {
   "cell_type": "code",
   "execution_count": 83,
   "metadata": {},
   "outputs": [],
   "source": [
    "admin_data=pd.read_csv(parent_path+'group_membership.csv',sep='\\t')\n",
    "admin_data=admin_data[admin_data['is_admin']!=0]"
   ]
  },
  {
   "cell_type": "code",
   "execution_count": 84,
   "metadata": {},
   "outputs": [
    {
     "data": {
      "text/html": [
       "<div>\n",
       "<style scoped>\n",
       "    .dataframe tbody tr th:only-of-type {\n",
       "        vertical-align: middle;\n",
       "    }\n",
       "\n",
       "    .dataframe tbody tr th {\n",
       "        vertical-align: top;\n",
       "    }\n",
       "\n",
       "    .dataframe thead th {\n",
       "        text-align: right;\n",
       "    }\n",
       "</style>\n",
       "<table border=\"1\" class=\"dataframe\">\n",
       "  <thead>\n",
       "    <tr style=\"text-align: right;\">\n",
       "      <th></th>\n",
       "      <th>group_id</th>\n",
       "      <th>user_id</th>\n",
       "      <th>is_admin</th>\n",
       "    </tr>\n",
       "  </thead>\n",
       "  <tbody>\n",
       "    <tr>\n",
       "      <th>2</th>\n",
       "      <td>56</td>\n",
       "      <td>5150</td>\n",
       "      <td>1</td>\n",
       "    </tr>\n",
       "    <tr>\n",
       "      <th>14</th>\n",
       "      <td>56</td>\n",
       "      <td>519</td>\n",
       "      <td>1</td>\n",
       "    </tr>\n",
       "    <tr>\n",
       "      <th>15</th>\n",
       "      <td>56</td>\n",
       "      <td>3141</td>\n",
       "      <td>2</td>\n",
       "    </tr>\n",
       "    <tr>\n",
       "      <th>22</th>\n",
       "      <td>56</td>\n",
       "      <td>2329</td>\n",
       "      <td>1</td>\n",
       "    </tr>\n",
       "    <tr>\n",
       "      <th>32</th>\n",
       "      <td>56</td>\n",
       "      <td>9277</td>\n",
       "      <td>1</td>\n",
       "    </tr>\n",
       "    <tr>\n",
       "      <th>...</th>\n",
       "      <td>...</td>\n",
       "      <td>...</td>\n",
       "      <td>...</td>\n",
       "    </tr>\n",
       "    <tr>\n",
       "      <th>267484</th>\n",
       "      <td>9976</td>\n",
       "      <td>233159</td>\n",
       "      <td>1</td>\n",
       "    </tr>\n",
       "    <tr>\n",
       "      <th>267485</th>\n",
       "      <td>9976</td>\n",
       "      <td>249609</td>\n",
       "      <td>1</td>\n",
       "    </tr>\n",
       "    <tr>\n",
       "      <th>267486</th>\n",
       "      <td>9976</td>\n",
       "      <td>249610</td>\n",
       "      <td>1</td>\n",
       "    </tr>\n",
       "    <tr>\n",
       "      <th>267487</th>\n",
       "      <td>9977</td>\n",
       "      <td>249611</td>\n",
       "      <td>1</td>\n",
       "    </tr>\n",
       "    <tr>\n",
       "      <th>267491</th>\n",
       "      <td>9979</td>\n",
       "      <td>249612</td>\n",
       "      <td>1</td>\n",
       "    </tr>\n",
       "  </tbody>\n",
       "</table>\n",
       "<p>17751 rows × 3 columns</p>\n",
       "</div>"
      ],
      "text/plain": [
       "        group_id  user_id  is_admin\n",
       "2             56     5150         1\n",
       "14            56      519         1\n",
       "15            56     3141         2\n",
       "22            56     2329         1\n",
       "32            56     9277         1\n",
       "...          ...      ...       ...\n",
       "267484      9976   233159         1\n",
       "267485      9976   249609         1\n",
       "267486      9976   249610         1\n",
       "267487      9977   249611         1\n",
       "267491      9979   249612         1\n",
       "\n",
       "[17751 rows x 3 columns]"
      ]
     },
     "execution_count": 84,
     "metadata": {},
     "output_type": "execute_result"
    }
   ],
   "source": [
    "admin_data"
   ]
  },
  {
   "cell_type": "code",
   "execution_count": null,
   "metadata": {},
   "outputs": [],
   "source": [
    "num_spreader=[]\n",
    "for index,row in tqdm(data_fear_speech.phone_num_anonymized.unique(),total=len(df_user_matched)):\n",
    "    try:\n",
    "        temp=admin_data[admin_data['user_id']==row['user_id']].group_id.unique()\n",
    "        \n",
    "        \n",
    "    except KeyError:\n",
    "        temp=0\n",
    "    num_spreader.append([row['user_id'],temp,row['annotation']])\n",
    "    "
   ]
  },
  {
   "cell_type": "code",
   "execution_count": 85,
   "metadata": {},
   "outputs": [
    {
     "data": {
      "text/html": [
       "<div>\n",
       "<style scoped>\n",
       "    .dataframe tbody tr th:only-of-type {\n",
       "        vertical-align: middle;\n",
       "    }\n",
       "\n",
       "    .dataframe tbody tr th {\n",
       "        vertical-align: top;\n",
       "    }\n",
       "\n",
       "    .dataframe thead th {\n",
       "        text-align: right;\n",
       "    }\n",
       "</style>\n",
       "<table border=\"1\" class=\"dataframe\">\n",
       "  <thead>\n",
       "    <tr style=\"text-align: right;\">\n",
       "      <th></th>\n",
       "      <th>group_id_anonymized</th>\n",
       "      <th>phone_num_anonymized</th>\n",
       "      <th>message_text</th>\n",
       "      <th>timestamp</th>\n",
       "      <th>media_type</th>\n",
       "      <th>media_url</th>\n",
       "      <th>forwarded</th>\n",
       "      <th>orig_index</th>\n",
       "      <th>language</th>\n",
       "      <th>only_urls</th>\n",
       "      <th>is_spam</th>\n",
       "    </tr>\n",
       "  </thead>\n",
       "  <tbody>\n",
       "    <tr>\n",
       "      <th>677</th>\n",
       "      <td>9356</td>\n",
       "      <td>235075</td>\n",
       "      <td>राजस्थान मे किसी मुस्लिम की भीड़ ने हत्या इसलि...</td>\n",
       "      <td>1532311954000</td>\n",
       "      <td>None</td>\n",
       "      <td>None</td>\n",
       "      <td>64</td>\n",
       "      <td>5716783</td>\n",
       "      <td>hi</td>\n",
       "      <td>0</td>\n",
       "      <td>0</td>\n",
       "    </tr>\n",
       "    <tr>\n",
       "      <th>1062</th>\n",
       "      <td>9699</td>\n",
       "      <td>244246</td>\n",
       "      <td>आजादी के बाद से एक समस्या शुरू से मुँह फाड़े ख...</td>\n",
       "      <td>1532338582000</td>\n",
       "      <td>None</td>\n",
       "      <td>None</td>\n",
       "      <td>65</td>\n",
       "      <td>6087694</td>\n",
       "      <td>hi</td>\n",
       "      <td>0</td>\n",
       "      <td>0</td>\n",
       "    </tr>\n",
       "    <tr>\n",
       "      <th>1371</th>\n",
       "      <td>9087</td>\n",
       "      <td>54645</td>\n",
       "      <td>आजादी के बाद से एक समस्या शुरू से मुँह फाड़े ख...</td>\n",
       "      <td>1532356425000</td>\n",
       "      <td>None</td>\n",
       "      <td>None</td>\n",
       "      <td>65</td>\n",
       "      <td>5562669</td>\n",
       "      <td>hi</td>\n",
       "      <td>0</td>\n",
       "      <td>0</td>\n",
       "    </tr>\n",
       "    <tr>\n",
       "      <th>1854</th>\n",
       "      <td>9356</td>\n",
       "      <td>235075</td>\n",
       "      <td>##मॉब_लॉंचिंग \"मॉब लिंचिंग पर राजनीति गर्म है....</td>\n",
       "      <td>1532406075000</td>\n",
       "      <td>None</td>\n",
       "      <td>None</td>\n",
       "      <td>64</td>\n",
       "      <td>5716588</td>\n",
       "      <td>hi</td>\n",
       "      <td>0</td>\n",
       "      <td>0</td>\n",
       "    </tr>\n",
       "    <tr>\n",
       "      <th>2255</th>\n",
       "      <td>9356</td>\n",
       "      <td>217436</td>\n",
       "      <td>*🚩🏹प्रशाषक समिति🏹🚩*  *##मॉब_लॉंचिंग* 🐷😈🐖🐖 *\"मॉ...</td>\n",
       "      <td>1532436871000</td>\n",
       "      <td>None</td>\n",
       "      <td>None</td>\n",
       "      <td>65</td>\n",
       "      <td>5717803</td>\n",
       "      <td>hi</td>\n",
       "      <td>0</td>\n",
       "      <td>0</td>\n",
       "    </tr>\n",
       "    <tr>\n",
       "      <th>...</th>\n",
       "      <td>...</td>\n",
       "      <td>...</td>\n",
       "      <td>...</td>\n",
       "      <td>...</td>\n",
       "      <td>...</td>\n",
       "      <td>...</td>\n",
       "      <td>...</td>\n",
       "      <td>...</td>\n",
       "      <td>...</td>\n",
       "      <td>...</td>\n",
       "      <td>...</td>\n",
       "    </tr>\n",
       "    <tr>\n",
       "      <th>1422960</th>\n",
       "      <td>6687</td>\n",
       "      <td>173142</td>\n",
       "      <td>*जय हिंद✊🚩* (१४/ पोस्ट:-३)  *🇮🇳🇮🇳15 अगस्त पर🇮🇳...</td>\n",
       "      <td>1565760314000</td>\n",
       "      <td>None</td>\n",
       "      <td>None</td>\n",
       "      <td>1</td>\n",
       "      <td>4095862</td>\n",
       "      <td>hi</td>\n",
       "      <td>0</td>\n",
       "      <td>0</td>\n",
       "    </tr>\n",
       "    <tr>\n",
       "      <th>1422980</th>\n",
       "      <td>4033</td>\n",
       "      <td>122354</td>\n",
       "      <td>*जय हिंद✊🚩* (१४/ पोस्ट:-३)  *🇮🇳🇮🇳15 अगस्त पर🇮🇳...</td>\n",
       "      <td>1565761162000</td>\n",
       "      <td>None</td>\n",
       "      <td>None</td>\n",
       "      <td>1</td>\n",
       "      <td>2941633</td>\n",
       "      <td>hi</td>\n",
       "      <td>0</td>\n",
       "      <td>0</td>\n",
       "    </tr>\n",
       "    <tr>\n",
       "      <th>1423171</th>\n",
       "      <td>37</td>\n",
       "      <td>21902</td>\n",
       "      <td>मुस्लीम ने मोदी से कहा 10/15         मिनट के ल...</td>\n",
       "      <td>1565765294000</td>\n",
       "      <td>None</td>\n",
       "      <td>None</td>\n",
       "      <td>1</td>\n",
       "      <td>338378</td>\n",
       "      <td>hi</td>\n",
       "      <td>0</td>\n",
       "      <td>0</td>\n",
       "    </tr>\n",
       "    <tr>\n",
       "      <th>1423184</th>\n",
       "      <td>3989</td>\n",
       "      <td>102886</td>\n",
       "      <td>*जय हिंद✊🚩* (१४/ पोस्ट:-३)  *🇮🇳🇮🇳15 अगस्त पर🇮🇳...</td>\n",
       "      <td>1565765772000</td>\n",
       "      <td>None</td>\n",
       "      <td>None</td>\n",
       "      <td>1</td>\n",
       "      <td>2942257</td>\n",
       "      <td>hi</td>\n",
       "      <td>0</td>\n",
       "      <td>0</td>\n",
       "    </tr>\n",
       "    <tr>\n",
       "      <th>1424002</th>\n",
       "      <td>554</td>\n",
       "      <td>19672</td>\n",
       "      <td>इतिहास के 10 सबसे बड़े झूठ 1. दो गोली लगने के ...</td>\n",
       "      <td>1566386553000</td>\n",
       "      <td>None</td>\n",
       "      <td>None</td>\n",
       "      <td>1</td>\n",
       "      <td>342991</td>\n",
       "      <td>hi</td>\n",
       "      <td>0</td>\n",
       "      <td>0</td>\n",
       "    </tr>\n",
       "  </tbody>\n",
       "</table>\n",
       "<p>7845 rows × 11 columns</p>\n",
       "</div>"
      ],
      "text/plain": [
       "         group_id_anonymized  phone_num_anonymized  \\\n",
       "677                     9356                235075   \n",
       "1062                    9699                244246   \n",
       "1371                    9087                 54645   \n",
       "1854                    9356                235075   \n",
       "2255                    9356                217436   \n",
       "...                      ...                   ...   \n",
       "1422960                 6687                173142   \n",
       "1422980                 4033                122354   \n",
       "1423171                   37                 21902   \n",
       "1423184                 3989                102886   \n",
       "1424002                  554                 19672   \n",
       "\n",
       "                                              message_text      timestamp  \\\n",
       "677      राजस्थान मे किसी मुस्लिम की भीड़ ने हत्या इसलि...  1532311954000   \n",
       "1062     आजादी के बाद से एक समस्या शुरू से मुँह फाड़े ख...  1532338582000   \n",
       "1371     आजादी के बाद से एक समस्या शुरू से मुँह फाड़े ख...  1532356425000   \n",
       "1854     ##मॉब_लॉंचिंग \"मॉब लिंचिंग पर राजनीति गर्म है....  1532406075000   \n",
       "2255     *🚩🏹प्रशाषक समिति🏹🚩*  *##मॉब_लॉंचिंग* 🐷😈🐖🐖 *\"मॉ...  1532436871000   \n",
       "...                                                    ...            ...   \n",
       "1422960  *जय हिंद✊🚩* (१४/ पोस्ट:-३)  *🇮🇳🇮🇳15 अगस्त पर🇮🇳...  1565760314000   \n",
       "1422980  *जय हिंद✊🚩* (१४/ पोस्ट:-३)  *🇮🇳🇮🇳15 अगस्त पर🇮🇳...  1565761162000   \n",
       "1423171  मुस्लीम ने मोदी से कहा 10/15         मिनट के ल...  1565765294000   \n",
       "1423184  *जय हिंद✊🚩* (१४/ पोस्ट:-३)  *🇮🇳🇮🇳15 अगस्त पर🇮🇳...  1565765772000   \n",
       "1424002  इतिहास के 10 सबसे बड़े झूठ 1. दो गोली लगने के ...  1566386553000   \n",
       "\n",
       "        media_type media_url  forwarded  orig_index language  only_urls  \\\n",
       "677           None      None         64     5716783       hi          0   \n",
       "1062          None      None         65     6087694       hi          0   \n",
       "1371          None      None         65     5562669       hi          0   \n",
       "1854          None      None         64     5716588       hi          0   \n",
       "2255          None      None         65     5717803       hi          0   \n",
       "...            ...       ...        ...         ...      ...        ...   \n",
       "1422960       None      None          1     4095862       hi          0   \n",
       "1422980       None      None          1     2941633       hi          0   \n",
       "1423171       None      None          1      338378       hi          0   \n",
       "1423184       None      None          1     2942257       hi          0   \n",
       "1424002       None      None          1      342991       hi          0   \n",
       "\n",
       "         is_spam  \n",
       "677            0  \n",
       "1062           0  \n",
       "1371           0  \n",
       "1854           0  \n",
       "2255           0  \n",
       "...          ...  \n",
       "1422960        0  \n",
       "1422980        0  \n",
       "1423171        0  \n",
       "1423184        0  \n",
       "1424002        0  \n",
       "\n",
       "[7845 rows x 11 columns]"
      ]
     },
     "execution_count": 85,
     "metadata": {},
     "output_type": "execute_result"
    }
   ],
   "source": [
    "data_fear_speech"
   ]
  },
  {
   "cell_type": "code",
   "execution_count": 88,
   "metadata": {},
   "outputs": [],
   "source": [
    "temp_users=[]\n",
    "for user in data_fear_speech.phone_num_anonymized.unique():\n",
    "    try:\n",
    "        temp=set(admin_data[admin_data['user_id']==user].group_id.unique())\n",
    "        temp_2=set(data_fear_speech[data_fear_speech['phone_num_anonymized']==user].group_id_anonymized.unique())\n",
    "        \n",
    "        num_groups=len(temp.intersection(temp_2))\n",
    "        if(num_groups>0):\n",
    "            temp_users.append(num_groups)\n",
    "        \n",
    "    except KeyError:\n",
    "        pass\n",
    "        "
   ]
  },
  {
   "cell_type": "code",
   "execution_count": 92,
   "metadata": {},
   "outputs": [
    {
     "data": {
      "text/plain": [
       "0.08660075008523696"
      ]
     },
     "execution_count": 92,
     "metadata": {},
     "output_type": "execute_result"
    }
   ],
   "source": [
    "len(temp_users)/data_fear_speech.phone_num_anonymized.nunique()"
   ]
  },
  {
   "cell_type": "code",
   "execution_count": null,
   "metadata": {},
   "outputs": [],
   "source": [
    "num_spreader=[]\n",
    "for index,row in tqdm(data_fear_speech.phone_num_anonymized.unique(),total=len(df_user_matched)):\n",
    "    try:\n",
    "        temp=admin_data[admin_data['user_id']==row['user_id']].group_id.unique()\n",
    "        \n",
    "        \n",
    "    except KeyError:\n",
    "        temp=0\n",
    "    num_spreader.append([row['user_id'],temp,row['annotation']])\n",
    "    "
   ]
  },
  {
   "cell_type": "code",
   "execution_count": null,
   "metadata": {},
   "outputs": [],
   "source": [
    "import seaborn as sns\n",
    "\n",
    "matplotlib.rcParams['figure.figsize'] = (5, 5)\n",
    "\n",
    "#     'weight' : 'normal',\n",
    "#     'size'   : 15}\n",
    "# matplotlib.rc('font', **font)\n",
    "#data_timeline.plot()\n",
    "sns.set(context='paper',style='white',font_scale=1.5)\n",
    "\n",
    "font = {\n",
    "    'weight' : 'normal',\n",
    "    'size'   : 11}\n",
    "\n",
    "\n",
    "df_num_users=pd.DataFrame(num_spreader,columns=['user_id','number of groups','label'])\n",
    "ax1 = sns.barplot(x=\"label\", y=\"number of groups\", data=df_num_users)\n",
    "plt.savefig('../Fear_speech_results/admins_in_fear_speech_users.pdf',bbox_inches='tight',dpi=400)\n",
    "plt.show()\n"
   ]
  },
  {
   "cell_type": "code",
   "execution_count": null,
   "metadata": {},
   "outputs": [],
   "source": [
    "len(df_num_users[(df_num_users['label']=='Fear speech') & (df_num_users['number of groups']>0)])/len(df_num_users[(df_num_users['label']=='Fear speech')])"
   ]
  },
  {
   "cell_type": "code",
   "execution_count": null,
   "metadata": {},
   "outputs": [],
   "source": []
  },
  {
   "cell_type": "code",
   "execution_count": null,
   "metadata": {},
   "outputs": [],
   "source": [
    "all_fear_speech_index=[]\n",
    "all_normal_index=[]\n",
    "\n",
    "count_fearspeech=0\n",
    "count_normal=0\n",
    "\n",
    "for index,row in tqdm(annotated_df.iterrows(),total=len(annotated_df)):\n",
    "    if(row['one_fear_speech']==1):\n",
    "        count_fearspeech+=1\n",
    "        all_fear_speech_index+=row['repeated']\n",
    "    elif(row['one_fear_speech']==0):\n",
    "        count_normal+=1\n",
    "        all_normal_index+=row['repeated']\n",
    "\n",
    "data_fear_speech=whatsapp_data[whatsapp_data['orig_index'].isin(all_fear_speech_index)]\n",
    "data_normal=whatsapp_data[whatsapp_data['orig_index'].isin(all_normal_index)]\n"
   ]
  },
  {
   "cell_type": "code",
   "execution_count": null,
   "metadata": {},
   "outputs": [],
   "source": [
    "temp=data_fear_speech.sample(1)\n",
    "whatsapp_data[(whatsapp_data['group_id_anonymized']==temp.iloc[0]['group_id_anonymized']) & (whatsapp_data['timestamp'].between(temp.iloc[0]['timestamp'],temp.iloc[0]['timestamp']+(2*24*60*60*1000) , inclusive=True))]"
   ]
  },
  {
   "cell_type": "code",
   "execution_count": null,
   "metadata": {},
   "outputs": [],
   "source": [
    "user_actions=pd.read_csv(parent_path+'user_actions.csv',sep='\\t')\n",
    "user_actions=user_actions.sort_values('timestamp')"
   ]
  },
  {
   "cell_type": "code",
   "execution_count": null,
   "metadata": {},
   "outputs": [],
   "source": [
    "user_actions.head()"
   ]
  },
  {
   "cell_type": "code",
   "execution_count": null,
   "metadata": {},
   "outputs": [],
   "source": [
    "count_no_left=0\n",
    "time_to_leave=[]\n",
    "for index,row in tqdm_notebook(data_fear_speech.iterrows(),total=len(data_fear_speech)):\n",
    "    temp_action=user_actions[(user_actions['timestamp']>int(row['timestamp']/1000))&(user_actions['group_id']==row['group_id_anonymized'])&(user_actions['user_id']==row['phone_num_anonymized'])]\n",
    "    flag=0\n",
    "    if(len(temp_action)==0):\n",
    "        count_no_left+=1\n",
    "        continue\n",
    "    for index1,row1 in temp_action.iterrows():\n",
    "        if(row1['action'] in ['removed']):\n",
    "            time_shift=(row1['timestamp']-int(row['timestamp']/1000))/(24*60*60)\n",
    "            time_to_leave.append(time_shift)\n",
    "            flag=1\n",
    "            break\n",
    "    if(flag==0):\n",
    "        count_no_left+=1\n",
    "        \n",
    "           \n",
    "    \n",
    "        \n",
    "        "
   ]
  },
  {
   "cell_type": "code",
   "execution_count": null,
   "metadata": {},
   "outputs": [],
   "source": [
    "len(time_to_leave)/len(data_fear_speech)"
   ]
  },
  {
   "cell_type": "code",
   "execution_count": null,
   "metadata": {
    "scrolled": true
   },
   "outputs": [],
   "source": [
    "%matplotlib inline\n",
    "import matplotlib.pyplot as plt\n",
    "plt.hist(time_to_leave, bins = 100)\n",
    "plt.xlabel('days when removed from the group')\n",
    "plt.ylabel('number of cases')\n",
    "plt.show()"
   ]
  },
  {
   "cell_type": "code",
   "execution_count": null,
   "metadata": {},
   "outputs": [],
   "source": [
    "user_actions.action.unique()"
   ]
  },
  {
   "cell_type": "markdown",
   "metadata": {},
   "source": [
    "### Groups"
   ]
  },
  {
   "cell_type": "code",
   "execution_count": null,
   "metadata": {},
   "outputs": [],
   "source": []
  }
 ],
 "metadata": {
  "kernelspec": {
   "display_name": "Python [conda env:.conda-punyajoy_gpu] *",
   "language": "python",
   "name": "conda-env-.conda-punyajoy_gpu-py"
  },
  "language_info": {
   "codemirror_mode": {
    "name": "ipython",
    "version": 3
   },
   "file_extension": ".py",
   "mimetype": "text/x-python",
   "name": "python",
   "nbconvert_exporter": "python",
   "pygments_lexer": "ipython3",
   "version": "3.7.3"
  }
 },
 "nbformat": 4,
 "nbformat_minor": 4
}
