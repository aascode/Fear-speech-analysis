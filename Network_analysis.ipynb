{
 "cells": [
  {
   "cell_type": "code",
   "execution_count": 1,
   "metadata": {},
   "outputs": [],
   "source": [
    "import networkx as nx\n",
    "import pandas as pd\n",
    "from tqdm import tqdm_notebook,tqdm\n",
    "import numpy as np\n",
    "parent_path='../Data/New_Data_15-06-2020/'"
   ]
  },
  {
   "cell_type": "code",
   "execution_count": 8,
   "metadata": {},
   "outputs": [],
   "source": [
    "annotated_df=pd.read_pickle(parent_path+'Fearspeech_data_final.pkl')\n",
    "whatsapp_data=pd.read_csv(parent_path+'Data_text_spam_removed_v02.csv')\n",
    "temp=whatsapp_data[['group_id_anonymized','phone_num_anonymized','message_text','timestamp']]\n",
    "duplicateDFRow = temp[temp.duplicated()]\n",
    "whatsapp_data=whatsapp_data.drop(list(duplicateDFRow.index))\n"
   ]
  },
  {
   "cell_type": "code",
   "execution_count": 27,
   "metadata": {},
   "outputs": [],
   "source": [
    "whatsapp_data=whatsapp_data.sort_values('timestamp')\n"
   ]
  },
  {
   "cell_type": "code",
   "execution_count": 2,
   "metadata": {},
   "outputs": [],
   "source": [
    "df_user_matched=pd.read_csv(parent_path+'final_user_selection_matched.csv')"
   ]
  },
  {
   "cell_type": "code",
   "execution_count": 49,
   "metadata": {},
   "outputs": [
    {
     "data": {
      "text/plain": [
       "2935"
      ]
     },
     "execution_count": 49,
     "metadata": {},
     "output_type": "execute_result"
    }
   ],
   "source": [
    "len(df_user_matched[df_user_matched['annotation']=='Non fear speech'])"
   ]
  },
  {
   "cell_type": "code",
   "execution_count": 11,
   "metadata": {},
   "outputs": [
    {
     "name": "stderr",
     "output_type": "stream",
     "text": [
      "100%|██████████| 167905/167905 [05:16<00:00, 529.99it/s]\n"
     ]
    }
   ],
   "source": [
    "dict_users_ids={}\n",
    "dict_users_names={}\n",
    "dict_users_groups={}  \n",
    "count=0\n",
    "for user in tqdm(whatsapp_data['phone_num_anonymized'].unique()):\n",
    "    if user in annotated_df.phone_num_anonymized.unique():\n",
    "        dict_users_ids[count]=user\n",
    "        dict_users_names[count]='fear speech'\n",
    "    else:\n",
    "        dict_users_ids[count]=user\n",
    "        dict_users_names[count]='normal'\n",
    "        \n",
    "    dict_users_groups[count]=set(whatsapp_data[whatsapp_data['phone_num_anonymized']==user].group_id_anonymized)\n",
    "    count+=1"
   ]
  },
  {
   "cell_type": "code",
   "execution_count": 13,
   "metadata": {},
   "outputs": [
    {
     "name": "stderr",
     "output_type": "stream",
     "text": [
      "100%|██████████| 167905/167905 [3:02:50<00:00, 15.31it/s]  \n"
     ]
    }
   ],
   "source": [
    "tuples_user_info=[]\n",
    "for user1 in tqdm(dict_users_ids):\n",
    "    for user2 in dict_users_ids:\n",
    "        if(user1==user2):\n",
    "            continue\n",
    "        temp_user1_groups= dict_users_groups[user1]\n",
    "        temp_user2_groups= dict_users_groups[user2]\n",
    "        common_groups=len(temp_user1_groups.intersection(temp_user2_groups))\n",
    "        if(common_groups>0):\n",
    "            tuples_user_info.append([user1,user2,common_groups])"
   ]
  },
  {
   "cell_type": "code",
   "execution_count": 15,
   "metadata": {},
   "outputs": [],
   "source": [
    "import networkx as nx"
   ]
  },
  {
   "cell_type": "code",
   "execution_count": 17,
   "metadata": {},
   "outputs": [],
   "source": [
    "G = nx.Graph()\n"
   ]
  },
  {
   "cell_type": "code",
   "execution_count": 18,
   "metadata": {},
   "outputs": [],
   "source": [
    "G.add_weighted_edges_from(tuples_user_info)"
   ]
  },
  {
   "cell_type": "code",
   "execution_count": 24,
   "metadata": {},
   "outputs": [],
   "source": [
    "k_cores=nx.algorithms.core.k_crust()"
   ]
  },
  {
   "cell_type": "code",
   "execution_count": 37,
   "metadata": {},
   "outputs": [
    {
     "name": "stderr",
     "output_type": "stream",
     "text": [
      "100%|██████████| 4782/4782 [00:02<00:00, 2163.77it/s]\n"
     ]
    }
   ],
   "source": [
    "all_fear_speech_index=[]\n",
    "all_normal_index=[]\n",
    "\n",
    "count_fearspeech=0\n",
    "count_normal=0\n",
    "\n",
    "for index,row in tqdm(annotated_df.iterrows(),total=len(annotated_df)):\n",
    "    if(row['one_fear_speech']==1):\n",
    "        count_fearspeech+=1\n",
    "        all_fear_speech_index+=row['repeated']\n",
    "    elif(row['one_fear_speech']==0):\n",
    "        count_normal+=1\n",
    "        all_normal_index+=row['repeated']\n",
    "\n",
    "data_fear_speech=whatsapp_data[whatsapp_data['orig_index'].isin(all_fear_speech_index)]\n",
    "data_normal=whatsapp_data[whatsapp_data['orig_index'].isin(all_normal_index)]\n"
   ]
  },
  {
   "cell_type": "code",
   "execution_count": 112,
   "metadata": {},
   "outputs": [
    {
     "data": {
      "text/plain": [
       "2935"
      ]
     },
     "execution_count": 112,
     "metadata": {},
     "output_type": "execute_result"
    }
   ],
   "source": [
    "len(data_fear_speech.phone_num_anonymized.unique())"
   ]
  },
  {
   "cell_type": "code",
   "execution_count": 115,
   "metadata": {},
   "outputs": [],
   "source": [
    "list_messages=[]\n",
    "for user in data_fear_speech.phone_num_anonymized.unique():\n",
    "    temp_user=data_fear_speech[data_fear_speech['phone_num_anonymized']==user]\n",
    "    list_messages.append(len(temp_user))\n",
    "    \n",
    "\n"
   ]
  },
  {
   "cell_type": "code",
   "execution_count": 116,
   "metadata": {},
   "outputs": [
    {
     "data": {
      "image/png": "[encoded data removed]",
      "text/plain": [
       "<Figure size 432x288 with 1 Axes>"
      ]
     },
     "metadata": {
      "needs_background": "light"
     },
     "output_type": "display_data"
    }
   ],
   "source": [
    "%matplotlib inline\n",
    "import matplotlib.pyplot as plt\n",
    "plt.hist(list_messages, bins = 50)\n",
    "plt.xlabel('amount of fear speech')\n",
    "plt.ylabel('number of users')\n",
    "plt.yscale('log')\n",
    "plt.show()"
   ]
  },
  {
   "cell_type": "code",
   "execution_count": 75,
   "metadata": {},
   "outputs": [],
   "source": [
    "list_cores=[]\n",
    "for user in data_fear_speech.phone_num_anonymized.unique():\n",
    "    try:\n",
    "        list_cores.append(k_cores[int(user)])\n",
    "    except:\n",
    "        list_cores.append(0)"
   ]
  },
  {
   "cell_type": "code",
   "execution_count": 76,
   "metadata": {},
   "outputs": [
    {
     "data": {
      "image/png": "[encoded data removed]",
      "text/plain": [
       "<Figure size 432x288 with 1 Axes>"
      ]
     },
     "metadata": {
      "needs_background": "light"
     },
     "output_type": "display_data"
    }
   ],
   "source": [
    "%matplotlib inline\n",
    "import matplotlib.pyplot as plt\n",
    "plt.hist(list_cores, bins = 50)\n",
    "plt.xlabel('core number')\n",
    "plt.ylabel('number of fear speech users')\n",
    "plt.show()"
   ]
  },
  {
   "cell_type": "code",
   "execution_count": 70,
   "metadata": {},
   "outputs": [],
   "source": [
    "user_nfs=df_user_matched[df_user_matched['annotation']=='Non fear speech'].user_id"
   ]
  },
  {
   "cell_type": "code",
   "execution_count": 71,
   "metadata": {},
   "outputs": [
    {
     "data": {
      "text/html": [
       "<div>\n",
       "<style scoped>\n",
       "    .dataframe tbody tr th:only-of-type {\n",
       "        vertical-align: middle;\n",
       "    }\n",
       "\n",
       "    .dataframe tbody tr th {\n",
       "        vertical-align: top;\n",
       "    }\n",
       "\n",
       "    .dataframe thead th {\n",
       "        text-align: right;\n",
       "    }\n",
       "</style>\n",
       "<table border=\"1\" class=\"dataframe\">\n",
       "  <thead>\n",
       "    <tr style=\"text-align: right;\">\n",
       "      <th style=\"min-width: {};\"></th>\n",
       "      <th style=\"min-width: {};\">user_id</th>\n",
       "      <th style=\"min-width: {};\">annotation</th>\n",
       "    </tr>\n",
       "  </thead>\n",
       "  <tbody>\n",
       "    <tr>\n",
       "      <th>0</th>\n",
       "      <td>103959</td>\n",
       "      <td>Fear speech</td>\n",
       "    </tr>\n",
       "    <tr>\n",
       "      <th>1</th>\n",
       "      <td>241507</td>\n",
       "      <td>Fear speech</td>\n",
       "    </tr>\n",
       "    <tr>\n",
       "      <th>2</th>\n",
       "      <td>219396</td>\n",
       "      <td>Fear speech</td>\n",
       "    </tr>\n",
       "    <tr>\n",
       "      <th>3</th>\n",
       "      <td>13625</td>\n",
       "      <td>Fear speech</td>\n",
       "    </tr>\n",
       "    <tr>\n",
       "      <th>4</th>\n",
       "      <td>150350</td>\n",
       "      <td>Fear speech</td>\n",
       "    </tr>\n",
       "    <tr>\n",
       "      <th>...</th>\n",
       "      <td>...</td>\n",
       "      <td>...</td>\n",
       "    </tr>\n",
       "    <tr>\n",
       "      <th>5865</th>\n",
       "      <td>151434</td>\n",
       "      <td>Non fear speech</td>\n",
       "    </tr>\n",
       "    <tr>\n",
       "      <th>5866</th>\n",
       "      <td>37388</td>\n",
       "      <td>Non fear speech</td>\n",
       "    </tr>\n",
       "    <tr>\n",
       "      <th>5867</th>\n",
       "      <td>33435</td>\n",
       "      <td>Non fear speech</td>\n",
       "    </tr>\n",
       "    <tr>\n",
       "      <th>5868</th>\n",
       "      <td>63851</td>\n",
       "      <td>Non fear speech</td>\n",
       "    </tr>\n",
       "    <tr>\n",
       "      <th>5869</th>\n",
       "      <td>186818</td>\n",
       "      <td>Non fear speech</td>\n",
       "    </tr>\n",
       "  </tbody>\n",
       "</table>\n",
       "<p>5870 rows × 2 columns</p>\n",
       "</div>"
      ],
      "text/plain": [
       "      user_id       annotation\n",
       "0      103959      Fear speech\n",
       "1      241507      Fear speech\n",
       "2      219396      Fear speech\n",
       "3       13625      Fear speech\n",
       "4      150350      Fear speech\n",
       "...       ...              ...\n",
       "5865   151434  Non fear speech\n",
       "5866    37388  Non fear speech\n",
       "5867    33435  Non fear speech\n",
       "5868    63851  Non fear speech\n",
       "5869   186818  Non fear speech\n",
       "\n",
       "[5870 rows x 2 columns]"
      ]
     },
     "execution_count": 71,
     "metadata": {},
     "output_type": "execute_result"
    }
   ],
   "source": [
    "df_user_matched"
   ]
  },
  {
   "cell_type": "code",
   "execution_count": 78,
   "metadata": {},
   "outputs": [],
   "source": [
    "list_cores=[]\n",
    "for user in user_nfs:\n",
    "    try:\n",
    "        list_cores.append(k_cores[int(user)])\n",
    "    except:\n",
    "        list_cores.append(0)"
   ]
  },
  {
   "cell_type": "code",
   "execution_count": 79,
   "metadata": {},
   "outputs": [
    {
     "data": {
      "image/png": "[encoded data removed]",
      "text/plain": [
       "<Figure size 432x288 with 1 Axes>"
      ]
     },
     "metadata": {
      "needs_background": "light"
     },
     "output_type": "display_data"
    }
   ],
   "source": [
    "%matplotlib inline\n",
    "import matplotlib.pyplot as plt\n",
    "plt.hist(list_cores, bins = 50,color='orange')\n",
    "plt.xlabel('core number')\n",
    "plt.ylabel('number of non fear speech users')\n",
    "plt.show()"
   ]
  },
  {
   "cell_type": "code",
   "execution_count": 5,
   "metadata": {},
   "outputs": [
    {
     "data": {
      "text/html": [
       "<div>\n",
       "<style scoped>\n",
       "    .dataframe tbody tr th:only-of-type {\n",
       "        vertical-align: middle;\n",
       "    }\n",
       "\n",
       "    .dataframe tbody tr th {\n",
       "        vertical-align: top;\n",
       "    }\n",
       "\n",
       "    .dataframe thead th {\n",
       "        text-align: right;\n",
       "    }\n",
       "</style>\n",
       "<table border=\"1\" class=\"dataframe\">\n",
       "  <thead>\n",
       "    <tr style=\"text-align: right;\">\n",
       "      <th></th>\n",
       "      <th>group_id</th>\n",
       "      <th>user_id</th>\n",
       "      <th>is_admin</th>\n",
       "    </tr>\n",
       "  </thead>\n",
       "  <tbody>\n",
       "    <tr>\n",
       "      <th>2</th>\n",
       "      <td>56</td>\n",
       "      <td>5150</td>\n",
       "      <td>1</td>\n",
       "    </tr>\n",
       "    <tr>\n",
       "      <th>14</th>\n",
       "      <td>56</td>\n",
       "      <td>519</td>\n",
       "      <td>1</td>\n",
       "    </tr>\n",
       "    <tr>\n",
       "      <th>15</th>\n",
       "      <td>56</td>\n",
       "      <td>3141</td>\n",
       "      <td>2</td>\n",
       "    </tr>\n",
       "    <tr>\n",
       "      <th>22</th>\n",
       "      <td>56</td>\n",
       "      <td>2329</td>\n",
       "      <td>1</td>\n",
       "    </tr>\n",
       "    <tr>\n",
       "      <th>32</th>\n",
       "      <td>56</td>\n",
       "      <td>9277</td>\n",
       "      <td>1</td>\n",
       "    </tr>\n",
       "    <tr>\n",
       "      <th>...</th>\n",
       "      <td>...</td>\n",
       "      <td>...</td>\n",
       "      <td>...</td>\n",
       "    </tr>\n",
       "    <tr>\n",
       "      <th>267484</th>\n",
       "      <td>9976</td>\n",
       "      <td>233159</td>\n",
       "      <td>1</td>\n",
       "    </tr>\n",
       "    <tr>\n",
       "      <th>267485</th>\n",
       "      <td>9976</td>\n",
       "      <td>249609</td>\n",
       "      <td>1</td>\n",
       "    </tr>\n",
       "    <tr>\n",
       "      <th>267486</th>\n",
       "      <td>9976</td>\n",
       "      <td>249610</td>\n",
       "      <td>1</td>\n",
       "    </tr>\n",
       "    <tr>\n",
       "      <th>267487</th>\n",
       "      <td>9977</td>\n",
       "      <td>249611</td>\n",
       "      <td>1</td>\n",
       "    </tr>\n",
       "    <tr>\n",
       "      <th>267491</th>\n",
       "      <td>9979</td>\n",
       "      <td>249612</td>\n",
       "      <td>1</td>\n",
       "    </tr>\n",
       "  </tbody>\n",
       "</table>\n",
       "<p>17751 rows × 3 columns</p>\n",
       "</div>"
      ],
      "text/plain": [
       "        group_id  user_id  is_admin\n",
       "2             56     5150         1\n",
       "14            56      519         1\n",
       "15            56     3141         2\n",
       "22            56     2329         1\n",
       "32            56     9277         1\n",
       "...          ...      ...       ...\n",
       "267484      9976   233159         1\n",
       "267485      9976   249609         1\n",
       "267486      9976   249610         1\n",
       "267487      9977   249611         1\n",
       "267491      9979   249612         1\n",
       "\n",
       "[17751 rows x 3 columns]"
      ]
     },
     "execution_count": 5,
     "metadata": {},
     "output_type": "execute_result"
    }
   ],
   "source": [
    "admin_data=pd.read_csv(parent_path+'group_membership.csv',sep='\\t')\n",
    "admin_data[admin_data['is_admin']!=0]"
   ]
  },
  {
   "cell_type": "code",
   "execution_count": 6,
   "metadata": {},
   "outputs": [
    {
     "name": "stderr",
     "output_type": "stream",
     "text": [
      "100%|██████████| 5870/5870 [00:05<00:00, 1098.44it/s]\n"
     ]
    }
   ],
   "source": [
    "num_spreader=[]\n",
    "for index,row in tqdm(df_user_matched.iterrows(),total=len(df_user_matched)):\n",
    "    try:\n",
    "        temp=admin_data[admin_data['user_id']==row['user_id']].group_id.nunique()\n",
    "    except KeyError:\n",
    "        temp=0\n",
    "    num_spreader.append([row['user_id'],temp,row['annotation']])\n",
    "    "
   ]
  },
  {
   "cell_type": "code",
   "execution_count": 7,
   "metadata": {},
   "outputs": [
    {
     "data": {
      "image/png": "[encoded data removed]",
      "text/plain": [
       "<Figure size 432x288 with 1 Axes>"
      ]
     },
     "metadata": {
      "needs_background": "light"
     },
     "output_type": "display_data"
    }
   ],
   "source": [
    "import seaborn as sns\n",
    "\n",
    "df_num_users=pd.DataFrame(num_spreader,columns=['user_id','number of groups','label'])\n",
    "ax1 = sns.barplot(x=\"label\", y=\"number of groups\", data=df_num_users)"
   ]
  },
  {
   "cell_type": "code",
   "execution_count": 9,
   "metadata": {},
   "outputs": [
    {
     "name": "stderr",
     "output_type": "stream",
     "text": [
      "100%|██████████| 4782/4782 [00:00<00:00, 14421.40it/s]\n"
     ]
    }
   ],
   "source": [
    "all_fear_speech_index=[]\n",
    "all_normal_index=[]\n",
    "\n",
    "count_fearspeech=0\n",
    "count_normal=0\n",
    "\n",
    "for index,row in tqdm(annotated_df.iterrows(),total=len(annotated_df)):\n",
    "    if(row['one_fear_speech']==1):\n",
    "        count_fearspeech+=1\n",
    "        all_fear_speech_index+=row['repeated']\n",
    "    elif(row['one_fear_speech']==0):\n",
    "        count_normal+=1\n",
    "        all_normal_index+=row['repeated']\n",
    "\n",
    "data_fear_speech=whatsapp_data[whatsapp_data['orig_index'].isin(all_fear_speech_index)]\n",
    "data_normal=whatsapp_data[whatsapp_data['orig_index'].isin(all_normal_index)]\n"
   ]
  },
  {
   "cell_type": "code",
   "execution_count": null,
   "metadata": {},
   "outputs": [],
   "source": [
    "temp=data_fear_speech.sample(1)\n",
    "whatsapp_data[(whatsapp_data['group_id_anonymized']==temp.iloc[0]['group_id_anonymized']) & (whatsapp_data['timestamp'].between(temp.iloc[0]['timestamp'],temp.iloc[0]['timestamp']+(2*24*60*60*1000) , inclusive=True))]"
   ]
  },
  {
   "cell_type": "code",
   "execution_count": 42,
   "metadata": {},
   "outputs": [],
   "source": [
    "user_actions=pd.read_csv(parent_path+'user_actions.csv',sep='\\t')\n",
    "user_actions=user_actions.sort_values('timestamp')"
   ]
  },
  {
   "cell_type": "code",
   "execution_count": 50,
   "metadata": {},
   "outputs": [
    {
     "data": {
      "text/html": [
       "<div>\n",
       "<style scoped>\n",
       "    .dataframe tbody tr th:only-of-type {\n",
       "        vertical-align: middle;\n",
       "    }\n",
       "\n",
       "    .dataframe tbody tr th {\n",
       "        vertical-align: top;\n",
       "    }\n",
       "\n",
       "    .dataframe thead th {\n",
       "        text-align: right;\n",
       "    }\n",
       "</style>\n",
       "<table border=\"1\" class=\"dataframe\">\n",
       "  <thead>\n",
       "    <tr style=\"text-align: right;\">\n",
       "      <th></th>\n",
       "      <th>group_id</th>\n",
       "      <th>user_id</th>\n",
       "      <th>timestamp</th>\n",
       "      <th>action</th>\n",
       "      <th>action_by_user</th>\n",
       "    </tr>\n",
       "  </thead>\n",
       "  <tbody>\n",
       "    <tr>\n",
       "      <th>290489</th>\n",
       "      <td>7949</td>\n",
       "      <td>199778</td>\n",
       "      <td>1538120798</td>\n",
       "      <td>added_by_admin</td>\n",
       "      <td>NaN</td>\n",
       "    </tr>\n",
       "    <tr>\n",
       "      <th>290564</th>\n",
       "      <td>7949</td>\n",
       "      <td>239924</td>\n",
       "      <td>1538120798</td>\n",
       "      <td>added_by_admin</td>\n",
       "      <td>NaN</td>\n",
       "    </tr>\n",
       "    <tr>\n",
       "      <th>290563</th>\n",
       "      <td>7949</td>\n",
       "      <td>199162</td>\n",
       "      <td>1538120798</td>\n",
       "      <td>added_by_admin</td>\n",
       "      <td>NaN</td>\n",
       "    </tr>\n",
       "    <tr>\n",
       "      <th>290562</th>\n",
       "      <td>7949</td>\n",
       "      <td>198507</td>\n",
       "      <td>1538120798</td>\n",
       "      <td>added_by_admin</td>\n",
       "      <td>NaN</td>\n",
       "    </tr>\n",
       "    <tr>\n",
       "      <th>290561</th>\n",
       "      <td>7949</td>\n",
       "      <td>239923</td>\n",
       "      <td>1538120798</td>\n",
       "      <td>added_by_admin</td>\n",
       "      <td>NaN</td>\n",
       "    </tr>\n",
       "  </tbody>\n",
       "</table>\n",
       "</div>"
      ],
      "text/plain": [
       "        group_id  user_id   timestamp          action  action_by_user\n",
       "290489      7949   199778  1538120798  added_by_admin             NaN\n",
       "290564      7949   239924  1538120798  added_by_admin             NaN\n",
       "290563      7949   199162  1538120798  added_by_admin             NaN\n",
       "290562      7949   198507  1538120798  added_by_admin             NaN\n",
       "290561      7949   239923  1538120798  added_by_admin             NaN"
      ]
     },
     "execution_count": 50,
     "metadata": {},
     "output_type": "execute_result"
    }
   ],
   "source": [
    "user_actions.head()"
   ]
  },
  {
   "cell_type": "code",
   "execution_count": 99,
   "metadata": {},
   "outputs": [
    {
     "name": "stderr",
     "output_type": "stream",
     "text": [
      "/home/punyajoy/.conda/envs/punyajoy_gpu/lib/python3.7/site-packages/ipykernel_launcher.py:3: TqdmDeprecationWarning: This function will be removed in tqdm==5.0.0\n",
      "Please use `tqdm.notebook.tqdm` instead of `tqdm.tqdm_notebook`\n",
      "  This is separate from the ipykernel package so we can avoid doing imports until\n"
     ]
    },
    {
     "data": {
      "application/vnd.jupyter.widget-view+json": {
       "model_id": "4a8e5cc6a8554e86a3d2e4cb4bd61229",
       "version_major": 2,
       "version_minor": 0
      },
      "text/plain": [
       "HBox(children=(HTML(value=''), FloatProgress(value=0.0, max=7848.0), HTML(value='')))"
      ]
     },
     "metadata": {},
     "output_type": "display_data"
    },
    {
     "name": "stdout",
     "output_type": "stream",
     "text": [
      "\n"
     ]
    }
   ],
   "source": [
    "count_no_left=0\n",
    "time_to_leave=[]\n",
    "for index,row in tqdm_notebook(data_fear_speech.iterrows(),total=len(data_fear_speech)):\n",
    "    temp_action=user_actions[(user_actions['timestamp']>int(row['timestamp']/1000))&(user_actions['group_id']==row['group_id_anonymized'])&(user_actions['user_id']==row['phone_num_anonymized'])]\n",
    "    flag=0\n",
    "    if(len(temp_action)==0):\n",
    "        count_no_left+=1\n",
    "        continue\n",
    "    for index1,row1 in temp_action.iterrows():\n",
    "        if(row1['action'] in ['removed']):\n",
    "            time_shift=(row1['timestamp']-int(row['timestamp']/1000))/(24*60*60)\n",
    "            time_to_leave.append(time_shift)\n",
    "            flag=1\n",
    "            break\n",
    "    if(flag==0):\n",
    "        count_no_left+=1\n",
    "        \n",
    "           \n",
    "    \n",
    "        \n",
    "        "
   ]
  },
  {
   "cell_type": "code",
   "execution_count": 100,
   "metadata": {},
   "outputs": [
    {
     "data": {
      "text/plain": [
       "0.03682466870540265"
      ]
     },
     "execution_count": 100,
     "metadata": {},
     "output_type": "execute_result"
    }
   ],
   "source": [
    "len(time_to_leave)/len(data_fear_speech)"
   ]
  },
  {
   "cell_type": "code",
   "execution_count": 102,
   "metadata": {
    "scrolled": true
   },
   "outputs": [
    {
     "data": {
      "image/png": "[encoded data removed]",
      "text/plain": [
       "<Figure size 432x288 with 1 Axes>"
      ]
     },
     "metadata": {
      "needs_background": "light"
     },
     "output_type": "display_data"
    }
   ],
   "source": [
    "%matplotlib inline\n",
    "import matplotlib.pyplot as plt\n",
    "plt.hist(time_to_leave, bins = 100)\n",
    "plt.xlabel('days when removed from the group')\n",
    "plt.ylabel('number of cases')\n",
    "plt.show()"
   ]
  },
  {
   "cell_type": "code",
   "execution_count": 103,
   "metadata": {},
   "outputs": [
    {
     "data": {
      "text/plain": [
       "array(['added_by_admin', 'added', 'joined_via_link', 'left', 'removed',\n",
       "       'number_changed'], dtype=object)"
      ]
     },
     "execution_count": 103,
     "metadata": {},
     "output_type": "execute_result"
    }
   ],
   "source": [
    "user_actions.action.unique()"
   ]
  },
  {
   "cell_type": "markdown",
   "metadata": {},
   "source": [
    "### Groups"
   ]
  },
  {
   "cell_type": "code",
   "execution_count": 113,
   "metadata": {},
   "outputs": [],
   "source": [
    "list_messages=[]\n",
    "for user in data_fear_speech.group_id_anonymized.unique():\n",
    "    temp_user=data_fear_speech[data_fear_speech['group_id_anonymized']==user]\n",
    "    list_messages.append(len(temp_user))"
   ]
  },
  {
   "cell_type": "code",
   "execution_count": 117,
   "metadata": {},
   "outputs": [
    {
     "data": {
      "text/plain": [
       "950"
      ]
     },
     "execution_count": 117,
     "metadata": {},
     "output_type": "execute_result"
    }
   ],
   "source": [
    "data_fear_speech.group_id_anonymized.nunique()"
   ]
  },
  {
   "cell_type": "code",
   "execution_count": 114,
   "metadata": {},
   "outputs": [
    {
     "data": {
      "image/png": "[encoded data removed]",
      "text/plain": [
       "<Figure size 432x288 with 1 Axes>"
      ]
     },
     "metadata": {
      "needs_background": "light"
     },
     "output_type": "display_data"
    }
   ],
   "source": [
    "%matplotlib inline\n",
    "import matplotlib.pyplot as plt\n",
    "plt.hist(list_messages, bins = 50)\n",
    "plt.xlabel('amount of fear speech')\n",
    "plt.ylabel('number of groups')\n",
    "plt.yscale('log')\n",
    "plt.show()"
   ]
  },
  {
   "cell_type": "code",
   "execution_count": null,
   "metadata": {},
   "outputs": [],
   "source": []
  }
 ],
 "metadata": {
  "kernelspec": {
   "display_name": "Python [conda env:.conda-punyajoy_gpu] *",
   "language": "python",
   "name": "conda-env-.conda-punyajoy_gpu-py"
  },
  "language_info": {
   "codemirror_mode": {
    "name": "ipython",
    "version": 3
   },
   "file_extension": ".py",
   "mimetype": "text/x-python",
   "name": "python",
   "nbconvert_exporter": "python",
   "pygments_lexer": "ipython3",
   "version": "3.7.3"
  }
 },
 "nbformat": 4,
 "nbformat_minor": 4
}
