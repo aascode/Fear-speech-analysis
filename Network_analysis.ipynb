{
 "cells": [
  {
   "cell_type": "code",
   "execution_count": null,
   "metadata": {},
   "outputs": [],
   "source": [
    "import networkx as nx\n",
    "import pandas as pd\n",
    "from tqdm import tqdm_notebook,tqdm\n",
    "import numpy as np\n",
    "parent_path='../Data/New_Data_15-06-2020/'"
   ]
  },
  {
   "cell_type": "code",
   "execution_count": null,
   "metadata": {},
   "outputs": [],
   "source": [
    "annotated_df=pd.read_pickle(parent_path+'Fearspeech_data_final.pkl')\n",
    "whatsapp_data=pd.read_csv(parent_path+'Data_text_spam_removed_v02.csv')\n",
    "temp=whatsapp_data[['group_id_anonymized','phone_num_anonymized','message_text','timestamp']]\n",
    "duplicateDFRow = temp[temp.duplicated()]\n",
    "whatsapp_data=whatsapp_data.drop(list(duplicateDFRow.index))\n"
   ]
  },
  {
   "cell_type": "code",
   "execution_count": null,
   "metadata": {},
   "outputs": [],
   "source": [
    "whatsapp_data=whatsapp_data.sort_values('timestamp')"
   ]
  },
  {
   "cell_type": "code",
   "execution_count": null,
   "metadata": {},
   "outputs": [],
   "source": [
    "df_user_matched=pd.read_csv(parent_path+'final_user_selection_matched.csv')"
   ]
  },
  {
   "cell_type": "code",
   "execution_count": null,
   "metadata": {},
   "outputs": [],
   "source": [
    "len(df_user_matched[df_user_matched['annotation']=='Non fear speech'])"
   ]
  },
  {
   "cell_type": "code",
   "execution_count": null,
   "metadata": {},
   "outputs": [],
   "source": [
    "dict_users_ids={}\n",
    "dict_users_names={}\n",
    "dict_users_groups={}  \n",
    "count=0\n",
    "for user in tqdm(whatsapp_data['phone_num_anonymized'].unique()):\n",
    "    if user in annotated_df.phone_num_anonymized.unique():\n",
    "        dict_users_ids[count]=user\n",
    "        dict_users_names[count]='fear speech'\n",
    "    else:\n",
    "        dict_users_ids[count]=user\n",
    "        dict_users_names[count]='normal'\n",
    "        \n",
    "    dict_users_groups[count]=set(whatsapp_data[whatsapp_data['phone_num_anonymized']==user].group_id_anonymized)\n",
    "    count+=1"
   ]
  },
  {
   "cell_type": "code",
   "execution_count": null,
   "metadata": {},
   "outputs": [],
   "source": [
    "tuples_user_info=[]\n",
    "for user1 in tqdm(dict_users_ids):\n",
    "    for user2 in dict_users_ids:\n",
    "        if(user1==user2):\n",
    "            continue\n",
    "        temp_user1_groups= dict_users_groups[user1]\n",
    "        temp_user2_groups= dict_users_groups[user2]\n",
    "        common_groups=len(temp_user1_groups.intersection(temp_user2_groups))\n",
    "        if(common_groups>0):\n",
    "            tuples_user_info.append([user1,user2,common_groups])"
   ]
  },
  {
   "cell_type": "code",
   "execution_count": null,
   "metadata": {},
   "outputs": [],
   "source": [
    "import networkx as nx"
   ]
  },
  {
   "cell_type": "code",
   "execution_count": null,
   "metadata": {},
   "outputs": [],
   "source": [
    "G = nx.Graph()"
   ]
  },
  {
   "cell_type": "code",
   "execution_count": null,
   "metadata": {},
   "outputs": [],
   "source": []
  },
  {
   "cell_type": "code",
   "execution_count": null,
   "metadata": {},
   "outputs": [],
   "source": [
    "G.add_weighted_edges_from(tuples_user_info)"
   ]
  },
  {
   "cell_type": "code",
   "execution_count": null,
   "metadata": {},
   "outputs": [],
   "source": [
    "import json\n",
    "\n",
    "def convert(o):\n",
    "    if isinstance(o, np.generic): return o.item()  \n",
    "    raise TypeError\n",
    "\n",
    "#json.dumps({'value': numpy.int64(42)}, default=convert)\n",
    "\n",
    "\n",
    "with open(\"Networks/user_dict.json\", 'w') as fp:\n",
    "    json.dump(dict_users_ids, fp,ensure_ascii=False,default=convert)\n",
    "with open(\"Networks/user_labels_dict.json\", 'w') as fp:\n",
    "    json.dump(dict_users_names, fp,ensure_ascii=False,default=convert)\n",
    "nx.write_weighted_edgelist(G, \"Networks/users_network.edgelist.gz\")"
   ]
  },
  {
   "cell_type": "markdown",
   "metadata": {},
   "source": [
    "### Load precomputed"
   ]
  },
  {
   "cell_type": "code",
   "execution_count": null,
   "metadata": {},
   "outputs": [],
   "source": [
    "import json\n",
    "\n",
    "with open(\"Networks/user_dict.json\", 'r') as fp:\n",
    "    dict_users_ids=json.load(fp)\n",
    "with open(\"Networks/user_labels_dict.json\", 'r') as fp:\n",
    "    dict_users_names=json.load(fp)\n",
    "\n",
    "    \n",
    "G=nx.read_weighted_edgelist(\"Networks/users_network.edgelist.gz\")\n",
    "    "
   ]
  },
  {
   "cell_type": "code",
   "execution_count": null,
   "metadata": {},
   "outputs": [],
   "source": [
    "k_cores=nx.algorithms.core.core_number(G)"
   ]
  },
  {
   "cell_type": "code",
   "execution_count": null,
   "metadata": {
    "scrolled": true
   },
   "outputs": [],
   "source": [
    "closeness_centrality=nx.algorithms.centrality.closeness_centrality(G)"
   ]
  },
  {
   "cell_type": "code",
   "execution_count": null,
   "metadata": {},
   "outputs": [],
   "source": [
    "all_fear_speech_index=[]\n",
    "all_normal_index=[]\n",
    "\n",
    "count_fearspeech=0\n",
    "count_normal=0\n",
    "\n",
    "for index,row in tqdm(annotated_df.iterrows(),total=len(annotated_df)):\n",
    "    if(row['one_fear_speech']==1):\n",
    "        count_fearspeech+=1\n",
    "        all_fear_speech_index+=row['repeated']\n",
    "    elif(row['one_fear_speech']==0):\n",
    "        count_normal+=1\n",
    "        all_normal_index+=row['repeated']\n",
    "\n",
    "data_fear_speech=whatsapp_data[whatsapp_data['orig_index'].isin(all_fear_speech_index)]\n",
    "data_normal=whatsapp_data[whatsapp_data['orig_index'].isin(all_normal_index)]\n"
   ]
  },
  {
   "cell_type": "code",
   "execution_count": null,
   "metadata": {},
   "outputs": [],
   "source": [
    "len(data_fear_speech.phone_num_anonymized.unique())"
   ]
  },
  {
   "cell_type": "code",
   "execution_count": null,
   "metadata": {},
   "outputs": [],
   "source": [
    "list_messages=[]\n",
    "for user in data_fear_speech.phone_num_anonymized.unique():\n",
    "    temp_user=data_fear_speech[data_fear_speech['phone_num_anonymized']==user]\n",
    "    list_messages.append(len(temp_user))\n",
    "    \n",
    "\n"
   ]
  },
  {
   "cell_type": "code",
   "execution_count": null,
   "metadata": {
    "scrolled": true
   },
   "outputs": [],
   "source": [
    "%matplotlib inline\n",
    "import matplotlib.pyplot as plt\n",
    "import matplotlib\n",
    "\n",
    "matplotlib.rcParams['figure.figsize'] = (5, 5)\n",
    "\n",
    "#     'weight' : 'normal',\n",
    "#     'size'   : 15}\n",
    "# matplotlib.rc('font', **font)\n",
    "#data_timeline.plot()\n",
    "sns.set(context='paper',style='white',font_scale=1.5)\n",
    "\n",
    "font = {\n",
    "    'weight' : 'normal',\n",
    "    'size'   : 11}\n",
    "ax = sns.histplot(x=list_messages,bins=100)\n",
    "\n",
    "plt.xlabel('amount of fear speech')\n",
    "plt.ylabel('number of users')\n",
    "\n",
    "plt.yscale('log')\n",
    "plt.savefig('../Fear_speech_results/fear_speech_per_users.pdf',bbox_inches='tight',dpi=400)\n",
    "\n",
    "plt.show()"
   ]
  },
  {
   "cell_type": "code",
   "execution_count": null,
   "metadata": {},
   "outputs": [],
   "source": [
    "\n",
    "\n",
    "%matplotlib inline\n",
    "import matplotlib.pyplot as plt\n",
    "import matplotlib\n",
    "\n",
    "matplotlib.rcParams['figure.figsize'] = (5, 5)\n",
    "\n",
    "#     'weight' : 'normal',\n",
    "#     'size'   : 15}\n",
    "# matplotlib.rc('font', **font)\n",
    "#data_timeline.plot()\n",
    "sns.set(context='paper',style='white',font_scale=1.5)\n",
    "\n",
    "font = {\n",
    "    'weight' : 'normal',\n",
    "    'size'   : 11}\n",
    "\n",
    "\n",
    "list_messages=[]\n",
    "for user in data_fear_speech.group_id_anonymized.unique():\n",
    "    temp_user=data_fear_speech[data_fear_speech['group_id_anonymized']==user]\n",
    "    list_messages.append(len(temp_user))\n",
    "    \n",
    "ax = sns.histplot(x=list_messages,bins=100)\n",
    "\n",
    "plt.xlabel('amount of fear speech')\n",
    "plt.ylabel('number of groups')\n",
    "\n",
    "plt.yscale('log')\n",
    "plt.savefig('../Fear_speech_results/fear_speech_per_groups.pdf',bbox_inches='tight',dpi=400)\n",
    "\n",
    "plt.show()"
   ]
  },
  {
   "cell_type": "code",
   "execution_count": null,
   "metadata": {},
   "outputs": [],
   "source": [
    "list_cores=[]\n",
    "for user in data_fear_speech.phone_num_anonymized.unique():\n",
    "    try:\n",
    "        list_cores.append(k_cores[int(user)])\n",
    "    except:\n",
    "        list_cores.append(0)"
   ]
  },
  {
   "cell_type": "code",
   "execution_count": null,
   "metadata": {},
   "outputs": [],
   "source": [
    "matplotlib.rcParams['figure.figsize'] = (5, 5)\n",
    "\n",
    "#     'weight' : 'normal',\n",
    "#     'size'   : 15}\n",
    "# matplotlib.rc('font', **font)\n",
    "#data_timeline.plot()\n",
    "sns.set(context='paper',style='white',font_scale=1.5)\n",
    "\n",
    "font = {\n",
    "    'weight' : 'normal',\n",
    "    'size'   : 11}\n",
    "ax = sns.histplot(x=list_cores,bins=50)\n",
    "\n",
    "plt.xlabel('core number')\n",
    "plt.ylabel('number of fear speech users')\n",
    "\n",
    "#plt.yscale('log')\n",
    "plt.savefig('../Fear_speech_results/kcore_fear_speech_users.pdf',bbox_inches='tight',dpi=400)\n",
    "\n",
    "plt.show()"
   ]
  },
  {
   "cell_type": "code",
   "execution_count": null,
   "metadata": {},
   "outputs": [],
   "source": [
    "user_nfs=df_user_matched[df_user_matched['annotation']=='Non fear speech'].user_id"
   ]
  },
  {
   "cell_type": "code",
   "execution_count": null,
   "metadata": {},
   "outputs": [],
   "source": [
    "len(user_nfs)"
   ]
  },
  {
   "cell_type": "code",
   "execution_count": null,
   "metadata": {},
   "outputs": [],
   "source": [
    "list_cores=[]\n",
    "for user in user_nfs:\n",
    "    try:\n",
    "        list_cores.append(k_cores[int(user)])\n",
    "    except:\n",
    "        list_cores.append(0)"
   ]
  },
  {
   "cell_type": "code",
   "execution_count": null,
   "metadata": {},
   "outputs": [],
   "source": [
    "matplotlib.rcParams['figure.figsize'] = (5, 5)\n",
    "\n",
    "#     'weight' : 'normal',\n",
    "#     'size'   : 15}\n",
    "# matplotlib.rc('font', **font)\n",
    "#data_timeline.plot()\n",
    "sns.set(context='paper',style='white',font_scale=1.5)\n",
    "\n",
    "font = {\n",
    "    'weight' : 'normal',\n",
    "    'size'   : 11}\n",
    "ax = sns.histplot(x=list_cores,bins=50,color='#DE8F05')\n",
    "\n",
    "plt.xlabel('core number')\n",
    "plt.ylabel('number of non fear speech users')\n",
    "\n",
    "#plt.yscale('log')\n",
    "plt.savefig('../Fear_speech_results/kcore_non_fear_speech_users.pdf',bbox_inches='tight',dpi=400)\n",
    "\n",
    "plt.show()"
   ]
  },
  {
   "cell_type": "code",
   "execution_count": null,
   "metadata": {},
   "outputs": [],
   "source": [
    "admin_data=pd.read_csv(parent_path+'group_membership.csv',sep='\\t')\n",
    "admin_data[admin_data['is_admin']!=0]"
   ]
  },
  {
   "cell_type": "code",
   "execution_count": null,
   "metadata": {},
   "outputs": [],
   "source": [
    "num_spreader=[]\n",
    "for index,row in tqdm(df_user_matched.iterrows(),total=len(df_user_matched)):\n",
    "    try:\n",
    "        temp=admin_data[admin_data['user_id']==row['user_id']].group_id.nunique()\n",
    "    except KeyError:\n",
    "        temp=0\n",
    "    num_spreader.append([row['user_id'],temp,row['annotation']])\n",
    "    "
   ]
  },
  {
   "cell_type": "code",
   "execution_count": null,
   "metadata": {},
   "outputs": [],
   "source": [
    "import seaborn as sns\n",
    "\n",
    "matplotlib.rcParams['figure.figsize'] = (5, 5)\n",
    "\n",
    "#     'weight' : 'normal',\n",
    "#     'size'   : 15}\n",
    "# matplotlib.rc('font', **font)\n",
    "#data_timeline.plot()\n",
    "sns.set(context='paper',style='white',font_scale=1.5)\n",
    "\n",
    "font = {\n",
    "    'weight' : 'normal',\n",
    "    'size'   : 11}\n",
    "\n",
    "\n",
    "df_num_users=pd.DataFrame(num_spreader,columns=['user_id','number of groups','label'])\n",
    "ax1 = sns.barplot(x=\"label\", y=\"number of groups\", data=df_num_users)\n",
    "plt.savefig('../Fear_speech_results/admins_in_fear_speech_users.pdf',bbox_inches='tight',dpi=400)\n",
    "plt.show()\n"
   ]
  },
  {
   "cell_type": "code",
   "execution_count": null,
   "metadata": {},
   "outputs": [],
   "source": [
    "len(df_num_users[(df_num_users['label']=='Fear speech') & (df_num_users['number of groups']>0)])/len(df_num_users[(df_num_users['label']=='Fear speech')])"
   ]
  },
  {
   "cell_type": "code",
   "execution_count": null,
   "metadata": {},
   "outputs": [],
   "source": []
  },
  {
   "cell_type": "code",
   "execution_count": null,
   "metadata": {},
   "outputs": [],
   "source": [
    "all_fear_speech_index=[]\n",
    "all_normal_index=[]\n",
    "\n",
    "count_fearspeech=0\n",
    "count_normal=0\n",
    "\n",
    "for index,row in tqdm(annotated_df.iterrows(),total=len(annotated_df)):\n",
    "    if(row['one_fear_speech']==1):\n",
    "        count_fearspeech+=1\n",
    "        all_fear_speech_index+=row['repeated']\n",
    "    elif(row['one_fear_speech']==0):\n",
    "        count_normal+=1\n",
    "        all_normal_index+=row['repeated']\n",
    "\n",
    "data_fear_speech=whatsapp_data[whatsapp_data['orig_index'].isin(all_fear_speech_index)]\n",
    "data_normal=whatsapp_data[whatsapp_data['orig_index'].isin(all_normal_index)]\n"
   ]
  },
  {
   "cell_type": "code",
   "execution_count": null,
   "metadata": {},
   "outputs": [],
   "source": [
    "temp=data_fear_speech.sample(1)\n",
    "whatsapp_data[(whatsapp_data['group_id_anonymized']==temp.iloc[0]['group_id_anonymized']) & (whatsapp_data['timestamp'].between(temp.iloc[0]['timestamp'],temp.iloc[0]['timestamp']+(2*24*60*60*1000) , inclusive=True))]"
   ]
  },
  {
   "cell_type": "code",
   "execution_count": null,
   "metadata": {},
   "outputs": [],
   "source": [
    "user_actions=pd.read_csv(parent_path+'user_actions.csv',sep='\\t')\n",
    "user_actions=user_actions.sort_values('timestamp')"
   ]
  },
  {
   "cell_type": "code",
   "execution_count": null,
   "metadata": {},
   "outputs": [],
   "source": [
    "user_actions.head()"
   ]
  },
  {
   "cell_type": "code",
   "execution_count": null,
   "metadata": {},
   "outputs": [],
   "source": [
    "count_no_left=0\n",
    "time_to_leave=[]\n",
    "for index,row in tqdm_notebook(data_fear_speech.iterrows(),total=len(data_fear_speech)):\n",
    "    temp_action=user_actions[(user_actions['timestamp']>int(row['timestamp']/1000))&(user_actions['group_id']==row['group_id_anonymized'])&(user_actions['user_id']==row['phone_num_anonymized'])]\n",
    "    flag=0\n",
    "    if(len(temp_action)==0):\n",
    "        count_no_left+=1\n",
    "        continue\n",
    "    for index1,row1 in temp_action.iterrows():\n",
    "        if(row1['action'] in ['removed']):\n",
    "            time_shift=(row1['timestamp']-int(row['timestamp']/1000))/(24*60*60)\n",
    "            time_to_leave.append(time_shift)\n",
    "            flag=1\n",
    "            break\n",
    "    if(flag==0):\n",
    "        count_no_left+=1\n",
    "        \n",
    "           \n",
    "    \n",
    "        \n",
    "        "
   ]
  },
  {
   "cell_type": "code",
   "execution_count": null,
   "metadata": {},
   "outputs": [],
   "source": [
    "len(time_to_leave)/len(data_fear_speech)"
   ]
  },
  {
   "cell_type": "code",
   "execution_count": null,
   "metadata": {
    "scrolled": true
   },
   "outputs": [],
   "source": [
    "%matplotlib inline\n",
    "import matplotlib.pyplot as plt\n",
    "plt.hist(time_to_leave, bins = 100)\n",
    "plt.xlabel('days when removed from the group')\n",
    "plt.ylabel('number of cases')\n",
    "plt.show()"
   ]
  },
  {
   "cell_type": "code",
   "execution_count": null,
   "metadata": {},
   "outputs": [],
   "source": [
    "user_actions.action.unique()"
   ]
  },
  {
   "cell_type": "markdown",
   "metadata": {},
   "source": [
    "### Groups"
   ]
  },
  {
   "cell_type": "code",
   "execution_count": null,
   "metadata": {},
   "outputs": [],
   "source": []
  }
 ],
 "metadata": {
  "kernelspec": {
   "display_name": "Python [conda env:.conda-punyajoy_gpu] *",
   "language": "python",
   "name": "conda-env-.conda-punyajoy_gpu-py"
  },
  "language_info": {
   "codemirror_mode": {
    "name": "ipython",
    "version": 3
   },
   "file_extension": ".py",
   "mimetype": "text/x-python",
   "name": "python",
   "nbconvert_exporter": "python",
   "pygments_lexer": "ipython3",
   "version": "3.7.3"
  }
 },
 "nbformat": 4,
 "nbformat_minor": 4
}
